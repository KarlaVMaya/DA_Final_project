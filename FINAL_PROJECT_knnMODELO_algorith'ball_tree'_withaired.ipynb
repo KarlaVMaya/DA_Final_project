{
 "cells": [
  {
   "attachments": {},
   "cell_type": "markdown",
   "metadata": {},
   "source": [
    "SISTEMA DE RECOMENDACION DE ANIME BASADO EN EL GENERO Y SCORE DE LA API anymelist"
   ]
  },
  {
   "cell_type": "code",
   "execution_count": 2,
   "metadata": {},
   "outputs": [
    {
     "name": "stdout",
     "output_type": "stream",
     "text": [
      "Requirement already satisfied: squarify in c:\\users\\karla\\anaconda3\\lib\\site-packages (0.4.3)\n",
      "Note: you may need to restart the kernel to use updated packages.\n"
     ]
    }
   ],
   "source": [
    "pip install squarify"
   ]
  },
  {
   "cell_type": "code",
   "execution_count": 100,
   "metadata": {},
   "outputs": [],
   "source": [
    "#IMPORTO LAS LIBRERIAS A UTILIZAR\n",
    "import pandas as pd \n",
    "import numpy as np\n",
    "import matplotlib.pyplot as plt\n",
    "import seaborn as sns\n",
    "import requests\n",
    "import json\n",
    "from sklearn.linear_model import LinearRegression\n",
    "from collections import Counter\n",
    "import squarify as sq\n",
    "import warnings\n",
    "warnings.filterwarnings('ignore')\n",
    "import plotly.express as px"
   ]
  },
  {
   "cell_type": "code",
   "execution_count": 4,
   "metadata": {},
   "outputs": [],
   "source": [
    "import matplotlib.pyplot as plt\n",
    "from scipy.sparse import csr_matrix\n",
    "from sklearn.neighbors import NearestNeighbors\n",
    "from sklearn.preprocessing import MaxAbsScaler"
   ]
  },
  {
   "cell_type": "code",
   "execution_count": 5,
   "metadata": {},
   "outputs": [
    {
     "data": {
      "text/html": [
       "<div>\n",
       "<style scoped>\n",
       "    .dataframe tbody tr th:only-of-type {\n",
       "        vertical-align: middle;\n",
       "    }\n",
       "\n",
       "    .dataframe tbody tr th {\n",
       "        vertical-align: top;\n",
       "    }\n",
       "\n",
       "    .dataframe thead th {\n",
       "        text-align: right;\n",
       "    }\n",
       "</style>\n",
       "<table border=\"1\" class=\"dataframe\">\n",
       "  <thead>\n",
       "    <tr style=\"text-align: right;\">\n",
       "      <th></th>\n",
       "      <th>uid</th>\n",
       "      <th>title</th>\n",
       "      <th>synopsis</th>\n",
       "      <th>genre</th>\n",
       "      <th>aired</th>\n",
       "      <th>episodes</th>\n",
       "      <th>members</th>\n",
       "      <th>popularity</th>\n",
       "      <th>ranked</th>\n",
       "      <th>score</th>\n",
       "      <th>img_url</th>\n",
       "      <th>link</th>\n",
       "    </tr>\n",
       "  </thead>\n",
       "  <tbody>\n",
       "    <tr>\n",
       "      <th>0</th>\n",
       "      <td>28891</td>\n",
       "      <td>Haikyuu!! Second Season</td>\n",
       "      <td>Following their participation at the Inter-Hig...</td>\n",
       "      <td>['Comedy', 'Sports', 'Drama', 'School', 'Shoun...</td>\n",
       "      <td>Oct 4, 2015 to Mar 27, 2016</td>\n",
       "      <td>25.0</td>\n",
       "      <td>489888</td>\n",
       "      <td>141</td>\n",
       "      <td>25.0</td>\n",
       "      <td>8.82</td>\n",
       "      <td>https://cdn.myanimelist.net/images/anime/9/766...</td>\n",
       "      <td>https://myanimelist.net/anime/28891/Haikyuu_Se...</td>\n",
       "    </tr>\n",
       "    <tr>\n",
       "      <th>1</th>\n",
       "      <td>23273</td>\n",
       "      <td>Shigatsu wa Kimi no Uso</td>\n",
       "      <td>Music accompanies the path of the human metron...</td>\n",
       "      <td>['Drama', 'Music', 'Romance', 'School', 'Shoun...</td>\n",
       "      <td>Oct 10, 2014 to Mar 20, 2015</td>\n",
       "      <td>22.0</td>\n",
       "      <td>995473</td>\n",
       "      <td>28</td>\n",
       "      <td>24.0</td>\n",
       "      <td>8.83</td>\n",
       "      <td>https://cdn.myanimelist.net/images/anime/3/671...</td>\n",
       "      <td>https://myanimelist.net/anime/23273/Shigatsu_w...</td>\n",
       "    </tr>\n",
       "    <tr>\n",
       "      <th>2</th>\n",
       "      <td>34599</td>\n",
       "      <td>Made in Abyss</td>\n",
       "      <td>The Abyss—a gaping chasm stretching down into ...</td>\n",
       "      <td>['Sci-Fi', 'Adventure', 'Mystery', 'Drama', 'F...</td>\n",
       "      <td>Jul 7, 2017 to Sep 29, 2017</td>\n",
       "      <td>13.0</td>\n",
       "      <td>581663</td>\n",
       "      <td>98</td>\n",
       "      <td>23.0</td>\n",
       "      <td>8.83</td>\n",
       "      <td>https://cdn.myanimelist.net/images/anime/6/867...</td>\n",
       "      <td>https://myanimelist.net/anime/34599/Made_in_Abyss</td>\n",
       "    </tr>\n",
       "    <tr>\n",
       "      <th>3</th>\n",
       "      <td>5114</td>\n",
       "      <td>Fullmetal Alchemist: Brotherhood</td>\n",
       "      <td>\"In order for something to be obtained, someth...</td>\n",
       "      <td>['Action', 'Military', 'Adventure', 'Comedy', ...</td>\n",
       "      <td>Apr 5, 2009 to Jul 4, 2010</td>\n",
       "      <td>64.0</td>\n",
       "      <td>1615084</td>\n",
       "      <td>4</td>\n",
       "      <td>1.0</td>\n",
       "      <td>9.23</td>\n",
       "      <td>https://cdn.myanimelist.net/images/anime/1223/...</td>\n",
       "      <td>https://myanimelist.net/anime/5114/Fullmetal_A...</td>\n",
       "    </tr>\n",
       "    <tr>\n",
       "      <th>4</th>\n",
       "      <td>31758</td>\n",
       "      <td>Kizumonogatari III: Reiketsu-hen</td>\n",
       "      <td>After helping revive the legendary vampire Kis...</td>\n",
       "      <td>['Action', 'Mystery', 'Supernatural', 'Vampire']</td>\n",
       "      <td>Jan 6, 2017</td>\n",
       "      <td>1.0</td>\n",
       "      <td>214621</td>\n",
       "      <td>502</td>\n",
       "      <td>22.0</td>\n",
       "      <td>8.83</td>\n",
       "      <td>https://cdn.myanimelist.net/images/anime/3/815...</td>\n",
       "      <td>https://myanimelist.net/anime/31758/Kizumonoga...</td>\n",
       "    </tr>\n",
       "    <tr>\n",
       "      <th>...</th>\n",
       "      <td>...</td>\n",
       "      <td>...</td>\n",
       "      <td>...</td>\n",
       "      <td>...</td>\n",
       "      <td>...</td>\n",
       "      <td>...</td>\n",
       "      <td>...</td>\n",
       "      <td>...</td>\n",
       "      <td>...</td>\n",
       "      <td>...</td>\n",
       "      <td>...</td>\n",
       "      <td>...</td>\n",
       "    </tr>\n",
       "    <tr>\n",
       "      <th>19306</th>\n",
       "      <td>32979</td>\n",
       "      <td>Flip Flappers</td>\n",
       "      <td>Cocona is an average middle schooler living wi...</td>\n",
       "      <td>['Sci-Fi', 'Adventure', 'Comedy', 'Magic']</td>\n",
       "      <td>Oct 6, 2016 to Dec 29, 2016</td>\n",
       "      <td>13.0</td>\n",
       "      <td>134252</td>\n",
       "      <td>843</td>\n",
       "      <td>1070.0</td>\n",
       "      <td>7.73</td>\n",
       "      <td>https://cdn.myanimelist.net/images/anime/4/822...</td>\n",
       "      <td>https://myanimelist.net/anime/32979/Flip_Flappers</td>\n",
       "    </tr>\n",
       "    <tr>\n",
       "      <th>19307</th>\n",
       "      <td>123</td>\n",
       "      <td>Fushigi Yuugi</td>\n",
       "      <td>While visiting the National Library, junior-hi...</td>\n",
       "      <td>['Adventure', 'Fantasy', 'Magic', 'Martial Art...</td>\n",
       "      <td>Apr 6, 1995 to Mar 28, 1996</td>\n",
       "      <td>52.0</td>\n",
       "      <td>84407</td>\n",
       "      <td>1292</td>\n",
       "      <td>1071.0</td>\n",
       "      <td>7.73</td>\n",
       "      <td>https://cdn.myanimelist.net/images/anime/2/201...</td>\n",
       "      <td>https://myanimelist.net/anime/123/Fushigi_Yuugi</td>\n",
       "    </tr>\n",
       "    <tr>\n",
       "      <th>19308</th>\n",
       "      <td>1281</td>\n",
       "      <td>Gakkou no Kaidan</td>\n",
       "      <td>Years ago, all of the ghosts in a haunted scho...</td>\n",
       "      <td>['Mystery', 'Horror', 'Supernatural']</td>\n",
       "      <td>Oct 22, 2000 to Mar 25, 2001</td>\n",
       "      <td>19.0</td>\n",
       "      <td>83093</td>\n",
       "      <td>1314</td>\n",
       "      <td>1073.0</td>\n",
       "      <td>7.73</td>\n",
       "      <td>https://cdn.myanimelist.net/images/anime/9/183...</td>\n",
       "      <td>https://myanimelist.net/anime/1281/Gakkou_no_K...</td>\n",
       "    </tr>\n",
       "    <tr>\n",
       "      <th>19309</th>\n",
       "      <td>450</td>\n",
       "      <td>InuYasha Movie 2: Kagami no Naka no Mugenjo</td>\n",
       "      <td>Inuyasha and company have finally destroyed Na...</td>\n",
       "      <td>['Action', 'Adventure', 'Comedy', 'Historical'...</td>\n",
       "      <td>Dec 21, 2002</td>\n",
       "      <td>1.0</td>\n",
       "      <td>71989</td>\n",
       "      <td>1469</td>\n",
       "      <td>1077.0</td>\n",
       "      <td>7.73</td>\n",
       "      <td>https://cdn.myanimelist.net/images/anime/1162/...</td>\n",
       "      <td>https://myanimelist.net/anime/450/InuYasha_Mov...</td>\n",
       "    </tr>\n",
       "    <tr>\n",
       "      <th>19310</th>\n",
       "      <td>87</td>\n",
       "      <td>Mobile Suit Gundam: Char's Counterattack</td>\n",
       "      <td>The year is Universal Century 0093. Char Aznab...</td>\n",
       "      <td>['Military', 'Sci-Fi', 'Space', 'Drama', 'Mecha']</td>\n",
       "      <td>Mar 12, 1988</td>\n",
       "      <td>1.0</td>\n",
       "      <td>29248</td>\n",
       "      <td>2604</td>\n",
       "      <td>1081.0</td>\n",
       "      <td>7.73</td>\n",
       "      <td>https://cdn.myanimelist.net/images/anime/1523/...</td>\n",
       "      <td>https://myanimelist.net/anime/87/Mobile_Suit_G...</td>\n",
       "    </tr>\n",
       "  </tbody>\n",
       "</table>\n",
       "<p>19311 rows × 12 columns</p>\n",
       "</div>"
      ],
      "text/plain": [
       "         uid                                        title  \\\n",
       "0      28891                      Haikyuu!! Second Season   \n",
       "1      23273                      Shigatsu wa Kimi no Uso   \n",
       "2      34599                                Made in Abyss   \n",
       "3       5114             Fullmetal Alchemist: Brotherhood   \n",
       "4      31758             Kizumonogatari III: Reiketsu-hen   \n",
       "...      ...                                          ...   \n",
       "19306  32979                                Flip Flappers   \n",
       "19307    123                                Fushigi Yuugi   \n",
       "19308   1281                             Gakkou no Kaidan   \n",
       "19309    450  InuYasha Movie 2: Kagami no Naka no Mugenjo   \n",
       "19310     87     Mobile Suit Gundam: Char's Counterattack   \n",
       "\n",
       "                                                synopsis  \\\n",
       "0      Following their participation at the Inter-Hig...   \n",
       "1      Music accompanies the path of the human metron...   \n",
       "2      The Abyss—a gaping chasm stretching down into ...   \n",
       "3      \"In order for something to be obtained, someth...   \n",
       "4      After helping revive the legendary vampire Kis...   \n",
       "...                                                  ...   \n",
       "19306  Cocona is an average middle schooler living wi...   \n",
       "19307  While visiting the National Library, junior-hi...   \n",
       "19308  Years ago, all of the ghosts in a haunted scho...   \n",
       "19309  Inuyasha and company have finally destroyed Na...   \n",
       "19310  The year is Universal Century 0093. Char Aznab...   \n",
       "\n",
       "                                                   genre  \\\n",
       "0      ['Comedy', 'Sports', 'Drama', 'School', 'Shoun...   \n",
       "1      ['Drama', 'Music', 'Romance', 'School', 'Shoun...   \n",
       "2      ['Sci-Fi', 'Adventure', 'Mystery', 'Drama', 'F...   \n",
       "3      ['Action', 'Military', 'Adventure', 'Comedy', ...   \n",
       "4       ['Action', 'Mystery', 'Supernatural', 'Vampire']   \n",
       "...                                                  ...   \n",
       "19306         ['Sci-Fi', 'Adventure', 'Comedy', 'Magic']   \n",
       "19307  ['Adventure', 'Fantasy', 'Magic', 'Martial Art...   \n",
       "19308              ['Mystery', 'Horror', 'Supernatural']   \n",
       "19309  ['Action', 'Adventure', 'Comedy', 'Historical'...   \n",
       "19310  ['Military', 'Sci-Fi', 'Space', 'Drama', 'Mecha']   \n",
       "\n",
       "                              aired  episodes  members  popularity  ranked  \\\n",
       "0       Oct 4, 2015 to Mar 27, 2016      25.0   489888         141    25.0   \n",
       "1      Oct 10, 2014 to Mar 20, 2015      22.0   995473          28    24.0   \n",
       "2       Jul 7, 2017 to Sep 29, 2017      13.0   581663          98    23.0   \n",
       "3        Apr 5, 2009 to Jul 4, 2010      64.0  1615084           4     1.0   \n",
       "4                       Jan 6, 2017       1.0   214621         502    22.0   \n",
       "...                             ...       ...      ...         ...     ...   \n",
       "19306   Oct 6, 2016 to Dec 29, 2016      13.0   134252         843  1070.0   \n",
       "19307   Apr 6, 1995 to Mar 28, 1996      52.0    84407        1292  1071.0   \n",
       "19308  Oct 22, 2000 to Mar 25, 2001      19.0    83093        1314  1073.0   \n",
       "19309                  Dec 21, 2002       1.0    71989        1469  1077.0   \n",
       "19310                  Mar 12, 1988       1.0    29248        2604  1081.0   \n",
       "\n",
       "       score                                            img_url  \\\n",
       "0       8.82  https://cdn.myanimelist.net/images/anime/9/766...   \n",
       "1       8.83  https://cdn.myanimelist.net/images/anime/3/671...   \n",
       "2       8.83  https://cdn.myanimelist.net/images/anime/6/867...   \n",
       "3       9.23  https://cdn.myanimelist.net/images/anime/1223/...   \n",
       "4       8.83  https://cdn.myanimelist.net/images/anime/3/815...   \n",
       "...      ...                                                ...   \n",
       "19306   7.73  https://cdn.myanimelist.net/images/anime/4/822...   \n",
       "19307   7.73  https://cdn.myanimelist.net/images/anime/2/201...   \n",
       "19308   7.73  https://cdn.myanimelist.net/images/anime/9/183...   \n",
       "19309   7.73  https://cdn.myanimelist.net/images/anime/1162/...   \n",
       "19310   7.73  https://cdn.myanimelist.net/images/anime/1523/...   \n",
       "\n",
       "                                                    link  \n",
       "0      https://myanimelist.net/anime/28891/Haikyuu_Se...  \n",
       "1      https://myanimelist.net/anime/23273/Shigatsu_w...  \n",
       "2      https://myanimelist.net/anime/34599/Made_in_Abyss  \n",
       "3      https://myanimelist.net/anime/5114/Fullmetal_A...  \n",
       "4      https://myanimelist.net/anime/31758/Kizumonoga...  \n",
       "...                                                  ...  \n",
       "19306  https://myanimelist.net/anime/32979/Flip_Flappers  \n",
       "19307    https://myanimelist.net/anime/123/Fushigi_Yuugi  \n",
       "19308  https://myanimelist.net/anime/1281/Gakkou_no_K...  \n",
       "19309  https://myanimelist.net/anime/450/InuYasha_Mov...  \n",
       "19310  https://myanimelist.net/anime/87/Mobile_Suit_G...  \n",
       "\n",
       "[19311 rows x 12 columns]"
      ]
     },
     "execution_count": 5,
     "metadata": {},
     "output_type": "execute_result"
    }
   ],
   "source": [
    "#CARGO EL CONJUNTO DE DATOS \n",
    "df_anime=pd.read_csv('animes.csv')\n",
    "df_anime"
   ]
  },
  {
   "cell_type": "code",
   "execution_count": 6,
   "metadata": {},
   "outputs": [
    {
     "data": {
      "text/plain": [
       "19311"
      ]
     },
     "execution_count": 6,
     "metadata": {},
     "output_type": "execute_result"
    }
   ],
   "source": [
    "len(df_anime)"
   ]
  },
  {
   "cell_type": "code",
   "execution_count": 7,
   "metadata": {},
   "outputs": [
    {
     "data": {
      "text/plain": [
       "Hakkenden: Touhou Hakken Ibun 2nd Season                         3\n",
       "Doupo Cangqiong 2nd Season                                       3\n",
       "Gabriel DropOut Specials                                         3\n",
       "Urusei Yatsura                                                   3\n",
       "Romeo x Juliet                                                   3\n",
       "                                                                ..\n",
       "Yami no Purple Eye                                               1\n",
       "Two Tea Two                                                      1\n",
       "Taku Boda                                                        1\n",
       "Million Doll                                                     1\n",
       "Chuunibyou demo Koi ga Shitai!: Kirameki no... Slapstick Noel    1\n",
       "Name: title, Length: 16214, dtype: int64"
      ]
     },
     "execution_count": 7,
     "metadata": {},
     "output_type": "execute_result"
    }
   ],
   "source": [
    "#EVALUO SI HAY VALORES REPETIDOS\n",
    "df_anime['title'].value_counts()"
   ]
  },
  {
   "cell_type": "code",
   "execution_count": 8,
   "metadata": {},
   "outputs": [],
   "source": [
    "#ELIMINO LAS ENTRADAS REPETIDAS\n",
    "df_anime=df_anime.drop_duplicates()"
   ]
  },
  {
   "cell_type": "code",
   "execution_count": 9,
   "metadata": {},
   "outputs": [
    {
     "data": {
      "text/plain": [
       "16368"
      ]
     },
     "execution_count": 9,
     "metadata": {},
     "output_type": "execute_result"
    }
   ],
   "source": [
    "len(df_anime)"
   ]
  },
  {
   "cell_type": "code",
   "execution_count": 10,
   "metadata": {},
   "outputs": [
    {
     "data": {
      "text/html": [
       "<div>\n",
       "<style scoped>\n",
       "    .dataframe tbody tr th:only-of-type {\n",
       "        vertical-align: middle;\n",
       "    }\n",
       "\n",
       "    .dataframe tbody tr th {\n",
       "        vertical-align: top;\n",
       "    }\n",
       "\n",
       "    .dataframe thead th {\n",
       "        text-align: right;\n",
       "    }\n",
       "</style>\n",
       "<table border=\"1\" class=\"dataframe\">\n",
       "  <thead>\n",
       "    <tr style=\"text-align: right;\">\n",
       "      <th></th>\n",
       "      <th>uid</th>\n",
       "      <th>title</th>\n",
       "      <th>synopsis</th>\n",
       "      <th>genre</th>\n",
       "      <th>aired</th>\n",
       "      <th>episodes</th>\n",
       "      <th>members</th>\n",
       "      <th>popularity</th>\n",
       "      <th>ranked</th>\n",
       "      <th>score</th>\n",
       "      <th>img_url</th>\n",
       "      <th>link</th>\n",
       "    </tr>\n",
       "  </thead>\n",
       "  <tbody>\n",
       "    <tr>\n",
       "      <th>0</th>\n",
       "      <td>28891</td>\n",
       "      <td>Haikyuu!! Second Season</td>\n",
       "      <td>Following their participation at the Inter-Hig...</td>\n",
       "      <td>['Comedy', 'Sports', 'Drama', 'School', 'Shoun...</td>\n",
       "      <td>Oct 4, 2015 to Mar 27, 2016</td>\n",
       "      <td>25.0</td>\n",
       "      <td>489888</td>\n",
       "      <td>141</td>\n",
       "      <td>25.0</td>\n",
       "      <td>8.82</td>\n",
       "      <td>https://cdn.myanimelist.net/images/anime/9/766...</td>\n",
       "      <td>https://myanimelist.net/anime/28891/Haikyuu_Se...</td>\n",
       "    </tr>\n",
       "    <tr>\n",
       "      <th>1</th>\n",
       "      <td>23273</td>\n",
       "      <td>Shigatsu wa Kimi no Uso</td>\n",
       "      <td>Music accompanies the path of the human metron...</td>\n",
       "      <td>['Drama', 'Music', 'Romance', 'School', 'Shoun...</td>\n",
       "      <td>Oct 10, 2014 to Mar 20, 2015</td>\n",
       "      <td>22.0</td>\n",
       "      <td>995473</td>\n",
       "      <td>28</td>\n",
       "      <td>24.0</td>\n",
       "      <td>8.83</td>\n",
       "      <td>https://cdn.myanimelist.net/images/anime/3/671...</td>\n",
       "      <td>https://myanimelist.net/anime/23273/Shigatsu_w...</td>\n",
       "    </tr>\n",
       "    <tr>\n",
       "      <th>2</th>\n",
       "      <td>34599</td>\n",
       "      <td>Made in Abyss</td>\n",
       "      <td>The Abyss—a gaping chasm stretching down into ...</td>\n",
       "      <td>['Sci-Fi', 'Adventure', 'Mystery', 'Drama', 'F...</td>\n",
       "      <td>Jul 7, 2017 to Sep 29, 2017</td>\n",
       "      <td>13.0</td>\n",
       "      <td>581663</td>\n",
       "      <td>98</td>\n",
       "      <td>23.0</td>\n",
       "      <td>8.83</td>\n",
       "      <td>https://cdn.myanimelist.net/images/anime/6/867...</td>\n",
       "      <td>https://myanimelist.net/anime/34599/Made_in_Abyss</td>\n",
       "    </tr>\n",
       "    <tr>\n",
       "      <th>3</th>\n",
       "      <td>5114</td>\n",
       "      <td>Fullmetal Alchemist: Brotherhood</td>\n",
       "      <td>\"In order for something to be obtained, someth...</td>\n",
       "      <td>['Action', 'Military', 'Adventure', 'Comedy', ...</td>\n",
       "      <td>Apr 5, 2009 to Jul 4, 2010</td>\n",
       "      <td>64.0</td>\n",
       "      <td>1615084</td>\n",
       "      <td>4</td>\n",
       "      <td>1.0</td>\n",
       "      <td>9.23</td>\n",
       "      <td>https://cdn.myanimelist.net/images/anime/1223/...</td>\n",
       "      <td>https://myanimelist.net/anime/5114/Fullmetal_A...</td>\n",
       "    </tr>\n",
       "    <tr>\n",
       "      <th>4</th>\n",
       "      <td>31758</td>\n",
       "      <td>Kizumonogatari III: Reiketsu-hen</td>\n",
       "      <td>After helping revive the legendary vampire Kis...</td>\n",
       "      <td>['Action', 'Mystery', 'Supernatural', 'Vampire']</td>\n",
       "      <td>Jan 6, 2017</td>\n",
       "      <td>1.0</td>\n",
       "      <td>214621</td>\n",
       "      <td>502</td>\n",
       "      <td>22.0</td>\n",
       "      <td>8.83</td>\n",
       "      <td>https://cdn.myanimelist.net/images/anime/3/815...</td>\n",
       "      <td>https://myanimelist.net/anime/31758/Kizumonoga...</td>\n",
       "    </tr>\n",
       "    <tr>\n",
       "      <th>...</th>\n",
       "      <td>...</td>\n",
       "      <td>...</td>\n",
       "      <td>...</td>\n",
       "      <td>...</td>\n",
       "      <td>...</td>\n",
       "      <td>...</td>\n",
       "      <td>...</td>\n",
       "      <td>...</td>\n",
       "      <td>...</td>\n",
       "      <td>...</td>\n",
       "      <td>...</td>\n",
       "      <td>...</td>\n",
       "    </tr>\n",
       "    <tr>\n",
       "      <th>19002</th>\n",
       "      <td>10075</td>\n",
       "      <td>Naruto x UT</td>\n",
       "      <td>All-new animation offered throughout UNIQLO cl...</td>\n",
       "      <td>['Action', 'Comedy', 'Super Power', 'Martial A...</td>\n",
       "      <td>Jan 1, 2011</td>\n",
       "      <td>1.0</td>\n",
       "      <td>34155</td>\n",
       "      <td>2382</td>\n",
       "      <td>1728.0</td>\n",
       "      <td>7.50</td>\n",
       "      <td>https://cdn.myanimelist.net/images/anime/3/304...</td>\n",
       "      <td>https://myanimelist.net/anime/10075/Naruto_x_UT</td>\n",
       "    </tr>\n",
       "    <tr>\n",
       "      <th>19003</th>\n",
       "      <td>35828</td>\n",
       "      <td>Miira no Kaikata</td>\n",
       "      <td>High school student Sora Kashiwagi is accustom...</td>\n",
       "      <td>['Slice of Life', 'Comedy', 'Supernatural']</td>\n",
       "      <td>Jan 12, 2018 to Mar 30, 2018</td>\n",
       "      <td>12.0</td>\n",
       "      <td>61459</td>\n",
       "      <td>1648</td>\n",
       "      <td>1727.0</td>\n",
       "      <td>7.50</td>\n",
       "      <td>https://cdn.myanimelist.net/images/anime/1486/...</td>\n",
       "      <td>https://myanimelist.net/anime/35828/Miira_no_K...</td>\n",
       "    </tr>\n",
       "    <tr>\n",
       "      <th>19004</th>\n",
       "      <td>10378</td>\n",
       "      <td>Shinryaku!? Ika Musume</td>\n",
       "      <td>After regaining her squid-like abilities, Ika ...</td>\n",
       "      <td>['Slice of Life', 'Comedy', 'Shounen']</td>\n",
       "      <td>Sep 27, 2011 to Dec 25, 2011</td>\n",
       "      <td>12.0</td>\n",
       "      <td>67422</td>\n",
       "      <td>1547</td>\n",
       "      <td>1548.0</td>\n",
       "      <td>7.56</td>\n",
       "      <td>https://cdn.myanimelist.net/images/anime/6/301...</td>\n",
       "      <td>https://myanimelist.net/anime/10378/Shinryaku_...</td>\n",
       "    </tr>\n",
       "    <tr>\n",
       "      <th>19005</th>\n",
       "      <td>33082</td>\n",
       "      <td>Kingsglaive: Final Fantasy XV</td>\n",
       "      <td>For years, the Niflheim Empire and the kingdom...</td>\n",
       "      <td>['Action']</td>\n",
       "      <td>Jul 9, 2016</td>\n",
       "      <td>1.0</td>\n",
       "      <td>41077</td>\n",
       "      <td>2154</td>\n",
       "      <td>1544.0</td>\n",
       "      <td>7.56</td>\n",
       "      <td>https://cdn.myanimelist.net/images/anime/12/79...</td>\n",
       "      <td>https://myanimelist.net/anime/33082/Kingsglaiv...</td>\n",
       "    </tr>\n",
       "    <tr>\n",
       "      <th>19006</th>\n",
       "      <td>16934</td>\n",
       "      <td>Chuunibyou demo Koi ga Shitai!: Kirameki no......</td>\n",
       "      <td>Although Yuuta Togashi and Rikka Takanashi hav...</td>\n",
       "      <td>['Comedy', 'Drama', 'Romance', 'School', 'Slic...</td>\n",
       "      <td>Jun 19, 2013</td>\n",
       "      <td>1.0</td>\n",
       "      <td>128400</td>\n",
       "      <td>883</td>\n",
       "      <td>1533.0</td>\n",
       "      <td>7.56</td>\n",
       "      <td>https://cdn.myanimelist.net/images/anime/7/455...</td>\n",
       "      <td>https://myanimelist.net/anime/16934/Chuunibyou...</td>\n",
       "    </tr>\n",
       "  </tbody>\n",
       "</table>\n",
       "<p>16368 rows × 12 columns</p>\n",
       "</div>"
      ],
      "text/plain": [
       "         uid                                              title  \\\n",
       "0      28891                            Haikyuu!! Second Season   \n",
       "1      23273                            Shigatsu wa Kimi no Uso   \n",
       "2      34599                                      Made in Abyss   \n",
       "3       5114                   Fullmetal Alchemist: Brotherhood   \n",
       "4      31758                   Kizumonogatari III: Reiketsu-hen   \n",
       "...      ...                                                ...   \n",
       "19002  10075                                        Naruto x UT   \n",
       "19003  35828                                   Miira no Kaikata   \n",
       "19004  10378                             Shinryaku!? Ika Musume   \n",
       "19005  33082                      Kingsglaive: Final Fantasy XV   \n",
       "19006  16934  Chuunibyou demo Koi ga Shitai!: Kirameki no......   \n",
       "\n",
       "                                                synopsis  \\\n",
       "0      Following their participation at the Inter-Hig...   \n",
       "1      Music accompanies the path of the human metron...   \n",
       "2      The Abyss—a gaping chasm stretching down into ...   \n",
       "3      \"In order for something to be obtained, someth...   \n",
       "4      After helping revive the legendary vampire Kis...   \n",
       "...                                                  ...   \n",
       "19002  All-new animation offered throughout UNIQLO cl...   \n",
       "19003  High school student Sora Kashiwagi is accustom...   \n",
       "19004  After regaining her squid-like abilities, Ika ...   \n",
       "19005  For years, the Niflheim Empire and the kingdom...   \n",
       "19006  Although Yuuta Togashi and Rikka Takanashi hav...   \n",
       "\n",
       "                                                   genre  \\\n",
       "0      ['Comedy', 'Sports', 'Drama', 'School', 'Shoun...   \n",
       "1      ['Drama', 'Music', 'Romance', 'School', 'Shoun...   \n",
       "2      ['Sci-Fi', 'Adventure', 'Mystery', 'Drama', 'F...   \n",
       "3      ['Action', 'Military', 'Adventure', 'Comedy', ...   \n",
       "4       ['Action', 'Mystery', 'Supernatural', 'Vampire']   \n",
       "...                                                  ...   \n",
       "19002  ['Action', 'Comedy', 'Super Power', 'Martial A...   \n",
       "19003        ['Slice of Life', 'Comedy', 'Supernatural']   \n",
       "19004             ['Slice of Life', 'Comedy', 'Shounen']   \n",
       "19005                                         ['Action']   \n",
       "19006  ['Comedy', 'Drama', 'Romance', 'School', 'Slic...   \n",
       "\n",
       "                              aired  episodes  members  popularity  ranked  \\\n",
       "0       Oct 4, 2015 to Mar 27, 2016      25.0   489888         141    25.0   \n",
       "1      Oct 10, 2014 to Mar 20, 2015      22.0   995473          28    24.0   \n",
       "2       Jul 7, 2017 to Sep 29, 2017      13.0   581663          98    23.0   \n",
       "3        Apr 5, 2009 to Jul 4, 2010      64.0  1615084           4     1.0   \n",
       "4                       Jan 6, 2017       1.0   214621         502    22.0   \n",
       "...                             ...       ...      ...         ...     ...   \n",
       "19002                   Jan 1, 2011       1.0    34155        2382  1728.0   \n",
       "19003  Jan 12, 2018 to Mar 30, 2018      12.0    61459        1648  1727.0   \n",
       "19004  Sep 27, 2011 to Dec 25, 2011      12.0    67422        1547  1548.0   \n",
       "19005                   Jul 9, 2016       1.0    41077        2154  1544.0   \n",
       "19006                  Jun 19, 2013       1.0   128400         883  1533.0   \n",
       "\n",
       "       score                                            img_url  \\\n",
       "0       8.82  https://cdn.myanimelist.net/images/anime/9/766...   \n",
       "1       8.83  https://cdn.myanimelist.net/images/anime/3/671...   \n",
       "2       8.83  https://cdn.myanimelist.net/images/anime/6/867...   \n",
       "3       9.23  https://cdn.myanimelist.net/images/anime/1223/...   \n",
       "4       8.83  https://cdn.myanimelist.net/images/anime/3/815...   \n",
       "...      ...                                                ...   \n",
       "19002   7.50  https://cdn.myanimelist.net/images/anime/3/304...   \n",
       "19003   7.50  https://cdn.myanimelist.net/images/anime/1486/...   \n",
       "19004   7.56  https://cdn.myanimelist.net/images/anime/6/301...   \n",
       "19005   7.56  https://cdn.myanimelist.net/images/anime/12/79...   \n",
       "19006   7.56  https://cdn.myanimelist.net/images/anime/7/455...   \n",
       "\n",
       "                                                    link  \n",
       "0      https://myanimelist.net/anime/28891/Haikyuu_Se...  \n",
       "1      https://myanimelist.net/anime/23273/Shigatsu_w...  \n",
       "2      https://myanimelist.net/anime/34599/Made_in_Abyss  \n",
       "3      https://myanimelist.net/anime/5114/Fullmetal_A...  \n",
       "4      https://myanimelist.net/anime/31758/Kizumonoga...  \n",
       "...                                                  ...  \n",
       "19002    https://myanimelist.net/anime/10075/Naruto_x_UT  \n",
       "19003  https://myanimelist.net/anime/35828/Miira_no_K...  \n",
       "19004  https://myanimelist.net/anime/10378/Shinryaku_...  \n",
       "19005  https://myanimelist.net/anime/33082/Kingsglaiv...  \n",
       "19006  https://myanimelist.net/anime/16934/Chuunibyou...  \n",
       "\n",
       "[16368 rows x 12 columns]"
      ]
     },
     "execution_count": 10,
     "metadata": {},
     "output_type": "execute_result"
    }
   ],
   "source": [
    "df_anime"
   ]
  },
  {
   "cell_type": "code",
   "execution_count": 11,
   "metadata": {},
   "outputs": [
    {
     "data": {
      "text/html": [
       "<div>\n",
       "<style scoped>\n",
       "    .dataframe tbody tr th:only-of-type {\n",
       "        vertical-align: middle;\n",
       "    }\n",
       "\n",
       "    .dataframe tbody tr th {\n",
       "        vertical-align: top;\n",
       "    }\n",
       "\n",
       "    .dataframe thead th {\n",
       "        text-align: right;\n",
       "    }\n",
       "</style>\n",
       "<table border=\"1\" class=\"dataframe\">\n",
       "  <thead>\n",
       "    <tr style=\"text-align: right;\">\n",
       "      <th></th>\n",
       "      <th>index</th>\n",
       "      <th>uid</th>\n",
       "      <th>title</th>\n",
       "      <th>synopsis</th>\n",
       "      <th>genre</th>\n",
       "      <th>aired</th>\n",
       "      <th>episodes</th>\n",
       "      <th>members</th>\n",
       "      <th>popularity</th>\n",
       "      <th>ranked</th>\n",
       "      <th>score</th>\n",
       "      <th>img_url</th>\n",
       "      <th>link</th>\n",
       "    </tr>\n",
       "  </thead>\n",
       "  <tbody>\n",
       "    <tr>\n",
       "      <th>0</th>\n",
       "      <td>0</td>\n",
       "      <td>28891</td>\n",
       "      <td>Haikyuu!! Second Season</td>\n",
       "      <td>Following their participation at the Inter-Hig...</td>\n",
       "      <td>['Comedy', 'Sports', 'Drama', 'School', 'Shoun...</td>\n",
       "      <td>Oct 4, 2015 to Mar 27, 2016</td>\n",
       "      <td>25.0</td>\n",
       "      <td>489888</td>\n",
       "      <td>141</td>\n",
       "      <td>25.0</td>\n",
       "      <td>8.82</td>\n",
       "      <td>https://cdn.myanimelist.net/images/anime/9/766...</td>\n",
       "      <td>https://myanimelist.net/anime/28891/Haikyuu_Se...</td>\n",
       "    </tr>\n",
       "    <tr>\n",
       "      <th>1</th>\n",
       "      <td>1</td>\n",
       "      <td>23273</td>\n",
       "      <td>Shigatsu wa Kimi no Uso</td>\n",
       "      <td>Music accompanies the path of the human metron...</td>\n",
       "      <td>['Drama', 'Music', 'Romance', 'School', 'Shoun...</td>\n",
       "      <td>Oct 10, 2014 to Mar 20, 2015</td>\n",
       "      <td>22.0</td>\n",
       "      <td>995473</td>\n",
       "      <td>28</td>\n",
       "      <td>24.0</td>\n",
       "      <td>8.83</td>\n",
       "      <td>https://cdn.myanimelist.net/images/anime/3/671...</td>\n",
       "      <td>https://myanimelist.net/anime/23273/Shigatsu_w...</td>\n",
       "    </tr>\n",
       "    <tr>\n",
       "      <th>2</th>\n",
       "      <td>2</td>\n",
       "      <td>34599</td>\n",
       "      <td>Made in Abyss</td>\n",
       "      <td>The Abyss—a gaping chasm stretching down into ...</td>\n",
       "      <td>['Sci-Fi', 'Adventure', 'Mystery', 'Drama', 'F...</td>\n",
       "      <td>Jul 7, 2017 to Sep 29, 2017</td>\n",
       "      <td>13.0</td>\n",
       "      <td>581663</td>\n",
       "      <td>98</td>\n",
       "      <td>23.0</td>\n",
       "      <td>8.83</td>\n",
       "      <td>https://cdn.myanimelist.net/images/anime/6/867...</td>\n",
       "      <td>https://myanimelist.net/anime/34599/Made_in_Abyss</td>\n",
       "    </tr>\n",
       "    <tr>\n",
       "      <th>3</th>\n",
       "      <td>3</td>\n",
       "      <td>5114</td>\n",
       "      <td>Fullmetal Alchemist: Brotherhood</td>\n",
       "      <td>\"In order for something to be obtained, someth...</td>\n",
       "      <td>['Action', 'Military', 'Adventure', 'Comedy', ...</td>\n",
       "      <td>Apr 5, 2009 to Jul 4, 2010</td>\n",
       "      <td>64.0</td>\n",
       "      <td>1615084</td>\n",
       "      <td>4</td>\n",
       "      <td>1.0</td>\n",
       "      <td>9.23</td>\n",
       "      <td>https://cdn.myanimelist.net/images/anime/1223/...</td>\n",
       "      <td>https://myanimelist.net/anime/5114/Fullmetal_A...</td>\n",
       "    </tr>\n",
       "    <tr>\n",
       "      <th>4</th>\n",
       "      <td>4</td>\n",
       "      <td>31758</td>\n",
       "      <td>Kizumonogatari III: Reiketsu-hen</td>\n",
       "      <td>After helping revive the legendary vampire Kis...</td>\n",
       "      <td>['Action', 'Mystery', 'Supernatural', 'Vampire']</td>\n",
       "      <td>Jan 6, 2017</td>\n",
       "      <td>1.0</td>\n",
       "      <td>214621</td>\n",
       "      <td>502</td>\n",
       "      <td>22.0</td>\n",
       "      <td>8.83</td>\n",
       "      <td>https://cdn.myanimelist.net/images/anime/3/815...</td>\n",
       "      <td>https://myanimelist.net/anime/31758/Kizumonoga...</td>\n",
       "    </tr>\n",
       "    <tr>\n",
       "      <th>...</th>\n",
       "      <td>...</td>\n",
       "      <td>...</td>\n",
       "      <td>...</td>\n",
       "      <td>...</td>\n",
       "      <td>...</td>\n",
       "      <td>...</td>\n",
       "      <td>...</td>\n",
       "      <td>...</td>\n",
       "      <td>...</td>\n",
       "      <td>...</td>\n",
       "      <td>...</td>\n",
       "      <td>...</td>\n",
       "      <td>...</td>\n",
       "    </tr>\n",
       "    <tr>\n",
       "      <th>16363</th>\n",
       "      <td>19002</td>\n",
       "      <td>10075</td>\n",
       "      <td>Naruto x UT</td>\n",
       "      <td>All-new animation offered throughout UNIQLO cl...</td>\n",
       "      <td>['Action', 'Comedy', 'Super Power', 'Martial A...</td>\n",
       "      <td>Jan 1, 2011</td>\n",
       "      <td>1.0</td>\n",
       "      <td>34155</td>\n",
       "      <td>2382</td>\n",
       "      <td>1728.0</td>\n",
       "      <td>7.50</td>\n",
       "      <td>https://cdn.myanimelist.net/images/anime/3/304...</td>\n",
       "      <td>https://myanimelist.net/anime/10075/Naruto_x_UT</td>\n",
       "    </tr>\n",
       "    <tr>\n",
       "      <th>16364</th>\n",
       "      <td>19003</td>\n",
       "      <td>35828</td>\n",
       "      <td>Miira no Kaikata</td>\n",
       "      <td>High school student Sora Kashiwagi is accustom...</td>\n",
       "      <td>['Slice of Life', 'Comedy', 'Supernatural']</td>\n",
       "      <td>Jan 12, 2018 to Mar 30, 2018</td>\n",
       "      <td>12.0</td>\n",
       "      <td>61459</td>\n",
       "      <td>1648</td>\n",
       "      <td>1727.0</td>\n",
       "      <td>7.50</td>\n",
       "      <td>https://cdn.myanimelist.net/images/anime/1486/...</td>\n",
       "      <td>https://myanimelist.net/anime/35828/Miira_no_K...</td>\n",
       "    </tr>\n",
       "    <tr>\n",
       "      <th>16365</th>\n",
       "      <td>19004</td>\n",
       "      <td>10378</td>\n",
       "      <td>Shinryaku!? Ika Musume</td>\n",
       "      <td>After regaining her squid-like abilities, Ika ...</td>\n",
       "      <td>['Slice of Life', 'Comedy', 'Shounen']</td>\n",
       "      <td>Sep 27, 2011 to Dec 25, 2011</td>\n",
       "      <td>12.0</td>\n",
       "      <td>67422</td>\n",
       "      <td>1547</td>\n",
       "      <td>1548.0</td>\n",
       "      <td>7.56</td>\n",
       "      <td>https://cdn.myanimelist.net/images/anime/6/301...</td>\n",
       "      <td>https://myanimelist.net/anime/10378/Shinryaku_...</td>\n",
       "    </tr>\n",
       "    <tr>\n",
       "      <th>16366</th>\n",
       "      <td>19005</td>\n",
       "      <td>33082</td>\n",
       "      <td>Kingsglaive: Final Fantasy XV</td>\n",
       "      <td>For years, the Niflheim Empire and the kingdom...</td>\n",
       "      <td>['Action']</td>\n",
       "      <td>Jul 9, 2016</td>\n",
       "      <td>1.0</td>\n",
       "      <td>41077</td>\n",
       "      <td>2154</td>\n",
       "      <td>1544.0</td>\n",
       "      <td>7.56</td>\n",
       "      <td>https://cdn.myanimelist.net/images/anime/12/79...</td>\n",
       "      <td>https://myanimelist.net/anime/33082/Kingsglaiv...</td>\n",
       "    </tr>\n",
       "    <tr>\n",
       "      <th>16367</th>\n",
       "      <td>19006</td>\n",
       "      <td>16934</td>\n",
       "      <td>Chuunibyou demo Koi ga Shitai!: Kirameki no......</td>\n",
       "      <td>Although Yuuta Togashi and Rikka Takanashi hav...</td>\n",
       "      <td>['Comedy', 'Drama', 'Romance', 'School', 'Slic...</td>\n",
       "      <td>Jun 19, 2013</td>\n",
       "      <td>1.0</td>\n",
       "      <td>128400</td>\n",
       "      <td>883</td>\n",
       "      <td>1533.0</td>\n",
       "      <td>7.56</td>\n",
       "      <td>https://cdn.myanimelist.net/images/anime/7/455...</td>\n",
       "      <td>https://myanimelist.net/anime/16934/Chuunibyou...</td>\n",
       "    </tr>\n",
       "  </tbody>\n",
       "</table>\n",
       "<p>16368 rows × 13 columns</p>\n",
       "</div>"
      ],
      "text/plain": [
       "       index    uid                                              title  \\\n",
       "0          0  28891                            Haikyuu!! Second Season   \n",
       "1          1  23273                            Shigatsu wa Kimi no Uso   \n",
       "2          2  34599                                      Made in Abyss   \n",
       "3          3   5114                   Fullmetal Alchemist: Brotherhood   \n",
       "4          4  31758                   Kizumonogatari III: Reiketsu-hen   \n",
       "...      ...    ...                                                ...   \n",
       "16363  19002  10075                                        Naruto x UT   \n",
       "16364  19003  35828                                   Miira no Kaikata   \n",
       "16365  19004  10378                             Shinryaku!? Ika Musume   \n",
       "16366  19005  33082                      Kingsglaive: Final Fantasy XV   \n",
       "16367  19006  16934  Chuunibyou demo Koi ga Shitai!: Kirameki no......   \n",
       "\n",
       "                                                synopsis  \\\n",
       "0      Following their participation at the Inter-Hig...   \n",
       "1      Music accompanies the path of the human metron...   \n",
       "2      The Abyss—a gaping chasm stretching down into ...   \n",
       "3      \"In order for something to be obtained, someth...   \n",
       "4      After helping revive the legendary vampire Kis...   \n",
       "...                                                  ...   \n",
       "16363  All-new animation offered throughout UNIQLO cl...   \n",
       "16364  High school student Sora Kashiwagi is accustom...   \n",
       "16365  After regaining her squid-like abilities, Ika ...   \n",
       "16366  For years, the Niflheim Empire and the kingdom...   \n",
       "16367  Although Yuuta Togashi and Rikka Takanashi hav...   \n",
       "\n",
       "                                                   genre  \\\n",
       "0      ['Comedy', 'Sports', 'Drama', 'School', 'Shoun...   \n",
       "1      ['Drama', 'Music', 'Romance', 'School', 'Shoun...   \n",
       "2      ['Sci-Fi', 'Adventure', 'Mystery', 'Drama', 'F...   \n",
       "3      ['Action', 'Military', 'Adventure', 'Comedy', ...   \n",
       "4       ['Action', 'Mystery', 'Supernatural', 'Vampire']   \n",
       "...                                                  ...   \n",
       "16363  ['Action', 'Comedy', 'Super Power', 'Martial A...   \n",
       "16364        ['Slice of Life', 'Comedy', 'Supernatural']   \n",
       "16365             ['Slice of Life', 'Comedy', 'Shounen']   \n",
       "16366                                         ['Action']   \n",
       "16367  ['Comedy', 'Drama', 'Romance', 'School', 'Slic...   \n",
       "\n",
       "                              aired  episodes  members  popularity  ranked  \\\n",
       "0       Oct 4, 2015 to Mar 27, 2016      25.0   489888         141    25.0   \n",
       "1      Oct 10, 2014 to Mar 20, 2015      22.0   995473          28    24.0   \n",
       "2       Jul 7, 2017 to Sep 29, 2017      13.0   581663          98    23.0   \n",
       "3        Apr 5, 2009 to Jul 4, 2010      64.0  1615084           4     1.0   \n",
       "4                       Jan 6, 2017       1.0   214621         502    22.0   \n",
       "...                             ...       ...      ...         ...     ...   \n",
       "16363                   Jan 1, 2011       1.0    34155        2382  1728.0   \n",
       "16364  Jan 12, 2018 to Mar 30, 2018      12.0    61459        1648  1727.0   \n",
       "16365  Sep 27, 2011 to Dec 25, 2011      12.0    67422        1547  1548.0   \n",
       "16366                   Jul 9, 2016       1.0    41077        2154  1544.0   \n",
       "16367                  Jun 19, 2013       1.0   128400         883  1533.0   \n",
       "\n",
       "       score                                            img_url  \\\n",
       "0       8.82  https://cdn.myanimelist.net/images/anime/9/766...   \n",
       "1       8.83  https://cdn.myanimelist.net/images/anime/3/671...   \n",
       "2       8.83  https://cdn.myanimelist.net/images/anime/6/867...   \n",
       "3       9.23  https://cdn.myanimelist.net/images/anime/1223/...   \n",
       "4       8.83  https://cdn.myanimelist.net/images/anime/3/815...   \n",
       "...      ...                                                ...   \n",
       "16363   7.50  https://cdn.myanimelist.net/images/anime/3/304...   \n",
       "16364   7.50  https://cdn.myanimelist.net/images/anime/1486/...   \n",
       "16365   7.56  https://cdn.myanimelist.net/images/anime/6/301...   \n",
       "16366   7.56  https://cdn.myanimelist.net/images/anime/12/79...   \n",
       "16367   7.56  https://cdn.myanimelist.net/images/anime/7/455...   \n",
       "\n",
       "                                                    link  \n",
       "0      https://myanimelist.net/anime/28891/Haikyuu_Se...  \n",
       "1      https://myanimelist.net/anime/23273/Shigatsu_w...  \n",
       "2      https://myanimelist.net/anime/34599/Made_in_Abyss  \n",
       "3      https://myanimelist.net/anime/5114/Fullmetal_A...  \n",
       "4      https://myanimelist.net/anime/31758/Kizumonoga...  \n",
       "...                                                  ...  \n",
       "16363    https://myanimelist.net/anime/10075/Naruto_x_UT  \n",
       "16364  https://myanimelist.net/anime/35828/Miira_no_K...  \n",
       "16365  https://myanimelist.net/anime/10378/Shinryaku_...  \n",
       "16366  https://myanimelist.net/anime/33082/Kingsglaiv...  \n",
       "16367  https://myanimelist.net/anime/16934/Chuunibyou...  \n",
       "\n",
       "[16368 rows x 13 columns]"
      ]
     },
     "execution_count": 11,
     "metadata": {},
     "output_type": "execute_result"
    }
   ],
   "source": [
    "df_anime=df_anime.reset_index()\n",
    "df_anime"
   ]
  },
  {
   "cell_type": "code",
   "execution_count": 12,
   "metadata": {},
   "outputs": [],
   "source": [
    "df_anime=df_anime.drop(['index'], axis=1)"
   ]
  },
  {
   "cell_type": "code",
   "execution_count": 13,
   "metadata": {},
   "outputs": [
    {
     "data": {
      "text/html": [
       "<div>\n",
       "<style scoped>\n",
       "    .dataframe tbody tr th:only-of-type {\n",
       "        vertical-align: middle;\n",
       "    }\n",
       "\n",
       "    .dataframe tbody tr th {\n",
       "        vertical-align: top;\n",
       "    }\n",
       "\n",
       "    .dataframe thead th {\n",
       "        text-align: right;\n",
       "    }\n",
       "</style>\n",
       "<table border=\"1\" class=\"dataframe\">\n",
       "  <thead>\n",
       "    <tr style=\"text-align: right;\">\n",
       "      <th></th>\n",
       "      <th>uid</th>\n",
       "      <th>title</th>\n",
       "      <th>synopsis</th>\n",
       "      <th>genre</th>\n",
       "      <th>aired</th>\n",
       "      <th>episodes</th>\n",
       "      <th>members</th>\n",
       "      <th>popularity</th>\n",
       "      <th>ranked</th>\n",
       "      <th>score</th>\n",
       "      <th>img_url</th>\n",
       "      <th>link</th>\n",
       "    </tr>\n",
       "  </thead>\n",
       "  <tbody>\n",
       "    <tr>\n",
       "      <th>0</th>\n",
       "      <td>28891</td>\n",
       "      <td>Haikyuu!! Second Season</td>\n",
       "      <td>Following their participation at the Inter-Hig...</td>\n",
       "      <td>['Comedy', 'Sports', 'Drama', 'School', 'Shoun...</td>\n",
       "      <td>Oct 4, 2015 to Mar 27, 2016</td>\n",
       "      <td>25.0</td>\n",
       "      <td>489888</td>\n",
       "      <td>141</td>\n",
       "      <td>25.0</td>\n",
       "      <td>8.82</td>\n",
       "      <td>https://cdn.myanimelist.net/images/anime/9/766...</td>\n",
       "      <td>https://myanimelist.net/anime/28891/Haikyuu_Se...</td>\n",
       "    </tr>\n",
       "    <tr>\n",
       "      <th>1</th>\n",
       "      <td>23273</td>\n",
       "      <td>Shigatsu wa Kimi no Uso</td>\n",
       "      <td>Music accompanies the path of the human metron...</td>\n",
       "      <td>['Drama', 'Music', 'Romance', 'School', 'Shoun...</td>\n",
       "      <td>Oct 10, 2014 to Mar 20, 2015</td>\n",
       "      <td>22.0</td>\n",
       "      <td>995473</td>\n",
       "      <td>28</td>\n",
       "      <td>24.0</td>\n",
       "      <td>8.83</td>\n",
       "      <td>https://cdn.myanimelist.net/images/anime/3/671...</td>\n",
       "      <td>https://myanimelist.net/anime/23273/Shigatsu_w...</td>\n",
       "    </tr>\n",
       "    <tr>\n",
       "      <th>2</th>\n",
       "      <td>34599</td>\n",
       "      <td>Made in Abyss</td>\n",
       "      <td>The Abyss—a gaping chasm stretching down into ...</td>\n",
       "      <td>['Sci-Fi', 'Adventure', 'Mystery', 'Drama', 'F...</td>\n",
       "      <td>Jul 7, 2017 to Sep 29, 2017</td>\n",
       "      <td>13.0</td>\n",
       "      <td>581663</td>\n",
       "      <td>98</td>\n",
       "      <td>23.0</td>\n",
       "      <td>8.83</td>\n",
       "      <td>https://cdn.myanimelist.net/images/anime/6/867...</td>\n",
       "      <td>https://myanimelist.net/anime/34599/Made_in_Abyss</td>\n",
       "    </tr>\n",
       "    <tr>\n",
       "      <th>3</th>\n",
       "      <td>5114</td>\n",
       "      <td>Fullmetal Alchemist: Brotherhood</td>\n",
       "      <td>\"In order for something to be obtained, someth...</td>\n",
       "      <td>['Action', 'Military', 'Adventure', 'Comedy', ...</td>\n",
       "      <td>Apr 5, 2009 to Jul 4, 2010</td>\n",
       "      <td>64.0</td>\n",
       "      <td>1615084</td>\n",
       "      <td>4</td>\n",
       "      <td>1.0</td>\n",
       "      <td>9.23</td>\n",
       "      <td>https://cdn.myanimelist.net/images/anime/1223/...</td>\n",
       "      <td>https://myanimelist.net/anime/5114/Fullmetal_A...</td>\n",
       "    </tr>\n",
       "    <tr>\n",
       "      <th>4</th>\n",
       "      <td>31758</td>\n",
       "      <td>Kizumonogatari III: Reiketsu-hen</td>\n",
       "      <td>After helping revive the legendary vampire Kis...</td>\n",
       "      <td>['Action', 'Mystery', 'Supernatural', 'Vampire']</td>\n",
       "      <td>Jan 6, 2017</td>\n",
       "      <td>1.0</td>\n",
       "      <td>214621</td>\n",
       "      <td>502</td>\n",
       "      <td>22.0</td>\n",
       "      <td>8.83</td>\n",
       "      <td>https://cdn.myanimelist.net/images/anime/3/815...</td>\n",
       "      <td>https://myanimelist.net/anime/31758/Kizumonoga...</td>\n",
       "    </tr>\n",
       "    <tr>\n",
       "      <th>...</th>\n",
       "      <td>...</td>\n",
       "      <td>...</td>\n",
       "      <td>...</td>\n",
       "      <td>...</td>\n",
       "      <td>...</td>\n",
       "      <td>...</td>\n",
       "      <td>...</td>\n",
       "      <td>...</td>\n",
       "      <td>...</td>\n",
       "      <td>...</td>\n",
       "      <td>...</td>\n",
       "      <td>...</td>\n",
       "    </tr>\n",
       "    <tr>\n",
       "      <th>16363</th>\n",
       "      <td>10075</td>\n",
       "      <td>Naruto x UT</td>\n",
       "      <td>All-new animation offered throughout UNIQLO cl...</td>\n",
       "      <td>['Action', 'Comedy', 'Super Power', 'Martial A...</td>\n",
       "      <td>Jan 1, 2011</td>\n",
       "      <td>1.0</td>\n",
       "      <td>34155</td>\n",
       "      <td>2382</td>\n",
       "      <td>1728.0</td>\n",
       "      <td>7.50</td>\n",
       "      <td>https://cdn.myanimelist.net/images/anime/3/304...</td>\n",
       "      <td>https://myanimelist.net/anime/10075/Naruto_x_UT</td>\n",
       "    </tr>\n",
       "    <tr>\n",
       "      <th>16364</th>\n",
       "      <td>35828</td>\n",
       "      <td>Miira no Kaikata</td>\n",
       "      <td>High school student Sora Kashiwagi is accustom...</td>\n",
       "      <td>['Slice of Life', 'Comedy', 'Supernatural']</td>\n",
       "      <td>Jan 12, 2018 to Mar 30, 2018</td>\n",
       "      <td>12.0</td>\n",
       "      <td>61459</td>\n",
       "      <td>1648</td>\n",
       "      <td>1727.0</td>\n",
       "      <td>7.50</td>\n",
       "      <td>https://cdn.myanimelist.net/images/anime/1486/...</td>\n",
       "      <td>https://myanimelist.net/anime/35828/Miira_no_K...</td>\n",
       "    </tr>\n",
       "    <tr>\n",
       "      <th>16365</th>\n",
       "      <td>10378</td>\n",
       "      <td>Shinryaku!? Ika Musume</td>\n",
       "      <td>After regaining her squid-like abilities, Ika ...</td>\n",
       "      <td>['Slice of Life', 'Comedy', 'Shounen']</td>\n",
       "      <td>Sep 27, 2011 to Dec 25, 2011</td>\n",
       "      <td>12.0</td>\n",
       "      <td>67422</td>\n",
       "      <td>1547</td>\n",
       "      <td>1548.0</td>\n",
       "      <td>7.56</td>\n",
       "      <td>https://cdn.myanimelist.net/images/anime/6/301...</td>\n",
       "      <td>https://myanimelist.net/anime/10378/Shinryaku_...</td>\n",
       "    </tr>\n",
       "    <tr>\n",
       "      <th>16366</th>\n",
       "      <td>33082</td>\n",
       "      <td>Kingsglaive: Final Fantasy XV</td>\n",
       "      <td>For years, the Niflheim Empire and the kingdom...</td>\n",
       "      <td>['Action']</td>\n",
       "      <td>Jul 9, 2016</td>\n",
       "      <td>1.0</td>\n",
       "      <td>41077</td>\n",
       "      <td>2154</td>\n",
       "      <td>1544.0</td>\n",
       "      <td>7.56</td>\n",
       "      <td>https://cdn.myanimelist.net/images/anime/12/79...</td>\n",
       "      <td>https://myanimelist.net/anime/33082/Kingsglaiv...</td>\n",
       "    </tr>\n",
       "    <tr>\n",
       "      <th>16367</th>\n",
       "      <td>16934</td>\n",
       "      <td>Chuunibyou demo Koi ga Shitai!: Kirameki no......</td>\n",
       "      <td>Although Yuuta Togashi and Rikka Takanashi hav...</td>\n",
       "      <td>['Comedy', 'Drama', 'Romance', 'School', 'Slic...</td>\n",
       "      <td>Jun 19, 2013</td>\n",
       "      <td>1.0</td>\n",
       "      <td>128400</td>\n",
       "      <td>883</td>\n",
       "      <td>1533.0</td>\n",
       "      <td>7.56</td>\n",
       "      <td>https://cdn.myanimelist.net/images/anime/7/455...</td>\n",
       "      <td>https://myanimelist.net/anime/16934/Chuunibyou...</td>\n",
       "    </tr>\n",
       "  </tbody>\n",
       "</table>\n",
       "<p>16368 rows × 12 columns</p>\n",
       "</div>"
      ],
      "text/plain": [
       "         uid                                              title  \\\n",
       "0      28891                            Haikyuu!! Second Season   \n",
       "1      23273                            Shigatsu wa Kimi no Uso   \n",
       "2      34599                                      Made in Abyss   \n",
       "3       5114                   Fullmetal Alchemist: Brotherhood   \n",
       "4      31758                   Kizumonogatari III: Reiketsu-hen   \n",
       "...      ...                                                ...   \n",
       "16363  10075                                        Naruto x UT   \n",
       "16364  35828                                   Miira no Kaikata   \n",
       "16365  10378                             Shinryaku!? Ika Musume   \n",
       "16366  33082                      Kingsglaive: Final Fantasy XV   \n",
       "16367  16934  Chuunibyou demo Koi ga Shitai!: Kirameki no......   \n",
       "\n",
       "                                                synopsis  \\\n",
       "0      Following their participation at the Inter-Hig...   \n",
       "1      Music accompanies the path of the human metron...   \n",
       "2      The Abyss—a gaping chasm stretching down into ...   \n",
       "3      \"In order for something to be obtained, someth...   \n",
       "4      After helping revive the legendary vampire Kis...   \n",
       "...                                                  ...   \n",
       "16363  All-new animation offered throughout UNIQLO cl...   \n",
       "16364  High school student Sora Kashiwagi is accustom...   \n",
       "16365  After regaining her squid-like abilities, Ika ...   \n",
       "16366  For years, the Niflheim Empire and the kingdom...   \n",
       "16367  Although Yuuta Togashi and Rikka Takanashi hav...   \n",
       "\n",
       "                                                   genre  \\\n",
       "0      ['Comedy', 'Sports', 'Drama', 'School', 'Shoun...   \n",
       "1      ['Drama', 'Music', 'Romance', 'School', 'Shoun...   \n",
       "2      ['Sci-Fi', 'Adventure', 'Mystery', 'Drama', 'F...   \n",
       "3      ['Action', 'Military', 'Adventure', 'Comedy', ...   \n",
       "4       ['Action', 'Mystery', 'Supernatural', 'Vampire']   \n",
       "...                                                  ...   \n",
       "16363  ['Action', 'Comedy', 'Super Power', 'Martial A...   \n",
       "16364        ['Slice of Life', 'Comedy', 'Supernatural']   \n",
       "16365             ['Slice of Life', 'Comedy', 'Shounen']   \n",
       "16366                                         ['Action']   \n",
       "16367  ['Comedy', 'Drama', 'Romance', 'School', 'Slic...   \n",
       "\n",
       "                              aired  episodes  members  popularity  ranked  \\\n",
       "0       Oct 4, 2015 to Mar 27, 2016      25.0   489888         141    25.0   \n",
       "1      Oct 10, 2014 to Mar 20, 2015      22.0   995473          28    24.0   \n",
       "2       Jul 7, 2017 to Sep 29, 2017      13.0   581663          98    23.0   \n",
       "3        Apr 5, 2009 to Jul 4, 2010      64.0  1615084           4     1.0   \n",
       "4                       Jan 6, 2017       1.0   214621         502    22.0   \n",
       "...                             ...       ...      ...         ...     ...   \n",
       "16363                   Jan 1, 2011       1.0    34155        2382  1728.0   \n",
       "16364  Jan 12, 2018 to Mar 30, 2018      12.0    61459        1648  1727.0   \n",
       "16365  Sep 27, 2011 to Dec 25, 2011      12.0    67422        1547  1548.0   \n",
       "16366                   Jul 9, 2016       1.0    41077        2154  1544.0   \n",
       "16367                  Jun 19, 2013       1.0   128400         883  1533.0   \n",
       "\n",
       "       score                                            img_url  \\\n",
       "0       8.82  https://cdn.myanimelist.net/images/anime/9/766...   \n",
       "1       8.83  https://cdn.myanimelist.net/images/anime/3/671...   \n",
       "2       8.83  https://cdn.myanimelist.net/images/anime/6/867...   \n",
       "3       9.23  https://cdn.myanimelist.net/images/anime/1223/...   \n",
       "4       8.83  https://cdn.myanimelist.net/images/anime/3/815...   \n",
       "...      ...                                                ...   \n",
       "16363   7.50  https://cdn.myanimelist.net/images/anime/3/304...   \n",
       "16364   7.50  https://cdn.myanimelist.net/images/anime/1486/...   \n",
       "16365   7.56  https://cdn.myanimelist.net/images/anime/6/301...   \n",
       "16366   7.56  https://cdn.myanimelist.net/images/anime/12/79...   \n",
       "16367   7.56  https://cdn.myanimelist.net/images/anime/7/455...   \n",
       "\n",
       "                                                    link  \n",
       "0      https://myanimelist.net/anime/28891/Haikyuu_Se...  \n",
       "1      https://myanimelist.net/anime/23273/Shigatsu_w...  \n",
       "2      https://myanimelist.net/anime/34599/Made_in_Abyss  \n",
       "3      https://myanimelist.net/anime/5114/Fullmetal_A...  \n",
       "4      https://myanimelist.net/anime/31758/Kizumonoga...  \n",
       "...                                                  ...  \n",
       "16363    https://myanimelist.net/anime/10075/Naruto_x_UT  \n",
       "16364  https://myanimelist.net/anime/35828/Miira_no_K...  \n",
       "16365  https://myanimelist.net/anime/10378/Shinryaku_...  \n",
       "16366  https://myanimelist.net/anime/33082/Kingsglaiv...  \n",
       "16367  https://myanimelist.net/anime/16934/Chuunibyou...  \n",
       "\n",
       "[16368 rows x 12 columns]"
      ]
     },
     "execution_count": 13,
     "metadata": {},
     "output_type": "execute_result"
    }
   ],
   "source": [
    "df_anime"
   ]
  },
  {
   "cell_type": "code",
   "execution_count": 14,
   "metadata": {},
   "outputs": [
    {
     "name": "stdout",
     "output_type": "stream",
     "text": [
      "<class 'pandas.core.frame.DataFrame'>\n",
      "RangeIndex: 16368 entries, 0 to 16367\n",
      "Data columns (total 12 columns):\n",
      " #   Column      Non-Null Count  Dtype  \n",
      "---  ------      --------------  -----  \n",
      " 0   uid         16368 non-null  int64  \n",
      " 1   title       16368 non-null  object \n",
      " 2   synopsis    15583 non-null  object \n",
      " 3   genre       16368 non-null  object \n",
      " 4   aired       16368 non-null  object \n",
      " 5   episodes    15825 non-null  float64\n",
      " 6   members     16368 non-null  int64  \n",
      " 7   popularity  16368 non-null  int64  \n",
      " 8   ranked      14611 non-null  float64\n",
      " 9   score       15964 non-null  float64\n",
      " 10  img_url     16202 non-null  object \n",
      " 11  link        16368 non-null  object \n",
      "dtypes: float64(3), int64(3), object(6)\n",
      "memory usage: 1.5+ MB\n"
     ]
    }
   ],
   "source": [
    "#REVISO LA INFORMACION DEL CONJUNTO DE DATOS\n",
    "df_anime.info()"
   ]
  },
  {
   "cell_type": "code",
   "execution_count": 15,
   "metadata": {},
   "outputs": [
    {
     "data": {
      "text/html": [
       "<div>\n",
       "<style scoped>\n",
       "    .dataframe tbody tr th:only-of-type {\n",
       "        vertical-align: middle;\n",
       "    }\n",
       "\n",
       "    .dataframe tbody tr th {\n",
       "        vertical-align: top;\n",
       "    }\n",
       "\n",
       "    .dataframe thead th {\n",
       "        text-align: right;\n",
       "    }\n",
       "</style>\n",
       "<table border=\"1\" class=\"dataframe\">\n",
       "  <thead>\n",
       "    <tr style=\"text-align: right;\">\n",
       "      <th></th>\n",
       "      <th>nulls</th>\n",
       "    </tr>\n",
       "  </thead>\n",
       "  <tbody>\n",
       "    <tr>\n",
       "      <th>uid</th>\n",
       "      <td>0</td>\n",
       "    </tr>\n",
       "    <tr>\n",
       "      <th>title</th>\n",
       "      <td>0</td>\n",
       "    </tr>\n",
       "    <tr>\n",
       "      <th>synopsis</th>\n",
       "      <td>785</td>\n",
       "    </tr>\n",
       "    <tr>\n",
       "      <th>genre</th>\n",
       "      <td>0</td>\n",
       "    </tr>\n",
       "    <tr>\n",
       "      <th>aired</th>\n",
       "      <td>0</td>\n",
       "    </tr>\n",
       "    <tr>\n",
       "      <th>episodes</th>\n",
       "      <td>543</td>\n",
       "    </tr>\n",
       "    <tr>\n",
       "      <th>members</th>\n",
       "      <td>0</td>\n",
       "    </tr>\n",
       "    <tr>\n",
       "      <th>popularity</th>\n",
       "      <td>0</td>\n",
       "    </tr>\n",
       "    <tr>\n",
       "      <th>ranked</th>\n",
       "      <td>1757</td>\n",
       "    </tr>\n",
       "    <tr>\n",
       "      <th>score</th>\n",
       "      <td>404</td>\n",
       "    </tr>\n",
       "    <tr>\n",
       "      <th>img_url</th>\n",
       "      <td>166</td>\n",
       "    </tr>\n",
       "    <tr>\n",
       "      <th>link</th>\n",
       "      <td>0</td>\n",
       "    </tr>\n",
       "  </tbody>\n",
       "</table>\n",
       "</div>"
      ],
      "text/plain": [
       "            nulls\n",
       "uid             0\n",
       "title           0\n",
       "synopsis      785\n",
       "genre           0\n",
       "aired           0\n",
       "episodes      543\n",
       "members         0\n",
       "popularity      0\n",
       "ranked       1757\n",
       "score         404\n",
       "img_url       166\n",
       "link            0"
      ]
     },
     "execution_count": 15,
     "metadata": {},
     "output_type": "execute_result"
    }
   ],
   "source": [
    "#VERIFICO LOS NULOS \n",
    "df_anime.isnull().sum().to_frame('nulls')"
   ]
  },
  {
   "cell_type": "code",
   "execution_count": 16,
   "metadata": {},
   "outputs": [
    {
     "data": {
      "text/html": [
       "<div>\n",
       "<style scoped>\n",
       "    .dataframe tbody tr th:only-of-type {\n",
       "        vertical-align: middle;\n",
       "    }\n",
       "\n",
       "    .dataframe tbody tr th {\n",
       "        vertical-align: top;\n",
       "    }\n",
       "\n",
       "    .dataframe thead th {\n",
       "        text-align: right;\n",
       "    }\n",
       "</style>\n",
       "<table border=\"1\" class=\"dataframe\">\n",
       "  <thead>\n",
       "    <tr style=\"text-align: right;\">\n",
       "      <th></th>\n",
       "      <th>uid</th>\n",
       "      <th>title</th>\n",
       "      <th>synopsis</th>\n",
       "      <th>genre</th>\n",
       "      <th>aired</th>\n",
       "      <th>episodes</th>\n",
       "      <th>members</th>\n",
       "      <th>popularity</th>\n",
       "      <th>ranked</th>\n",
       "      <th>score</th>\n",
       "    </tr>\n",
       "  </thead>\n",
       "  <tbody>\n",
       "    <tr>\n",
       "      <th>0</th>\n",
       "      <td>28891</td>\n",
       "      <td>Haikyuu!! Second Season</td>\n",
       "      <td>Following their participation at the Inter-Hig...</td>\n",
       "      <td>['Comedy', 'Sports', 'Drama', 'School', 'Shoun...</td>\n",
       "      <td>Oct 4, 2015 to Mar 27, 2016</td>\n",
       "      <td>25.0</td>\n",
       "      <td>489888</td>\n",
       "      <td>141</td>\n",
       "      <td>25.0</td>\n",
       "      <td>8.82</td>\n",
       "    </tr>\n",
       "    <tr>\n",
       "      <th>1</th>\n",
       "      <td>23273</td>\n",
       "      <td>Shigatsu wa Kimi no Uso</td>\n",
       "      <td>Music accompanies the path of the human metron...</td>\n",
       "      <td>['Drama', 'Music', 'Romance', 'School', 'Shoun...</td>\n",
       "      <td>Oct 10, 2014 to Mar 20, 2015</td>\n",
       "      <td>22.0</td>\n",
       "      <td>995473</td>\n",
       "      <td>28</td>\n",
       "      <td>24.0</td>\n",
       "      <td>8.83</td>\n",
       "    </tr>\n",
       "    <tr>\n",
       "      <th>2</th>\n",
       "      <td>34599</td>\n",
       "      <td>Made in Abyss</td>\n",
       "      <td>The Abyss—a gaping chasm stretching down into ...</td>\n",
       "      <td>['Sci-Fi', 'Adventure', 'Mystery', 'Drama', 'F...</td>\n",
       "      <td>Jul 7, 2017 to Sep 29, 2017</td>\n",
       "      <td>13.0</td>\n",
       "      <td>581663</td>\n",
       "      <td>98</td>\n",
       "      <td>23.0</td>\n",
       "      <td>8.83</td>\n",
       "    </tr>\n",
       "    <tr>\n",
       "      <th>3</th>\n",
       "      <td>5114</td>\n",
       "      <td>Fullmetal Alchemist: Brotherhood</td>\n",
       "      <td>\"In order for something to be obtained, someth...</td>\n",
       "      <td>['Action', 'Military', 'Adventure', 'Comedy', ...</td>\n",
       "      <td>Apr 5, 2009 to Jul 4, 2010</td>\n",
       "      <td>64.0</td>\n",
       "      <td>1615084</td>\n",
       "      <td>4</td>\n",
       "      <td>1.0</td>\n",
       "      <td>9.23</td>\n",
       "    </tr>\n",
       "    <tr>\n",
       "      <th>4</th>\n",
       "      <td>31758</td>\n",
       "      <td>Kizumonogatari III: Reiketsu-hen</td>\n",
       "      <td>After helping revive the legendary vampire Kis...</td>\n",
       "      <td>['Action', 'Mystery', 'Supernatural', 'Vampire']</td>\n",
       "      <td>Jan 6, 2017</td>\n",
       "      <td>1.0</td>\n",
       "      <td>214621</td>\n",
       "      <td>502</td>\n",
       "      <td>22.0</td>\n",
       "      <td>8.83</td>\n",
       "    </tr>\n",
       "  </tbody>\n",
       "</table>\n",
       "</div>"
      ],
      "text/plain": [
       "     uid                             title  \\\n",
       "0  28891           Haikyuu!! Second Season   \n",
       "1  23273           Shigatsu wa Kimi no Uso   \n",
       "2  34599                     Made in Abyss   \n",
       "3   5114  Fullmetal Alchemist: Brotherhood   \n",
       "4  31758  Kizumonogatari III: Reiketsu-hen   \n",
       "\n",
       "                                            synopsis  \\\n",
       "0  Following their participation at the Inter-Hig...   \n",
       "1  Music accompanies the path of the human metron...   \n",
       "2  The Abyss—a gaping chasm stretching down into ...   \n",
       "3  \"In order for something to be obtained, someth...   \n",
       "4  After helping revive the legendary vampire Kis...   \n",
       "\n",
       "                                               genre  \\\n",
       "0  ['Comedy', 'Sports', 'Drama', 'School', 'Shoun...   \n",
       "1  ['Drama', 'Music', 'Romance', 'School', 'Shoun...   \n",
       "2  ['Sci-Fi', 'Adventure', 'Mystery', 'Drama', 'F...   \n",
       "3  ['Action', 'Military', 'Adventure', 'Comedy', ...   \n",
       "4   ['Action', 'Mystery', 'Supernatural', 'Vampire']   \n",
       "\n",
       "                          aired  episodes  members  popularity  ranked  score  \n",
       "0   Oct 4, 2015 to Mar 27, 2016      25.0   489888         141    25.0   8.82  \n",
       "1  Oct 10, 2014 to Mar 20, 2015      22.0   995473          28    24.0   8.83  \n",
       "2   Jul 7, 2017 to Sep 29, 2017      13.0   581663          98    23.0   8.83  \n",
       "3    Apr 5, 2009 to Jul 4, 2010      64.0  1615084           4     1.0   9.23  \n",
       "4                   Jan 6, 2017       1.0   214621         502    22.0   8.83  "
      ]
     },
     "execution_count": 16,
     "metadata": {},
     "output_type": "execute_result"
    }
   ],
   "source": [
    "#DECIDO ELIMINAR LAS COLUMNAS DE 'img_url', 'link' YA QUE NO SON IMPORTANTES EN MI ANALISIS\n",
    "df_anime=df_anime.drop(['img_url', 'link'], axis=1)\n",
    "df_anime.head()"
   ]
  },
  {
   "cell_type": "code",
   "execution_count": 17,
   "metadata": {},
   "outputs": [
    {
     "data": {
      "text/html": [
       "<div>\n",
       "<style scoped>\n",
       "    .dataframe tbody tr th:only-of-type {\n",
       "        vertical-align: middle;\n",
       "    }\n",
       "\n",
       "    .dataframe tbody tr th {\n",
       "        vertical-align: top;\n",
       "    }\n",
       "\n",
       "    .dataframe thead th {\n",
       "        text-align: right;\n",
       "    }\n",
       "</style>\n",
       "<table border=\"1\" class=\"dataframe\">\n",
       "  <thead>\n",
       "    <tr style=\"text-align: right;\">\n",
       "      <th></th>\n",
       "      <th>uid</th>\n",
       "      <th>title</th>\n",
       "      <th>synopsis</th>\n",
       "      <th>genre</th>\n",
       "      <th>aired</th>\n",
       "      <th>episodes</th>\n",
       "      <th>members</th>\n",
       "      <th>popularity</th>\n",
       "      <th>ranked</th>\n",
       "      <th>score</th>\n",
       "    </tr>\n",
       "  </thead>\n",
       "  <tbody>\n",
       "    <tr>\n",
       "      <th>0</th>\n",
       "      <td>28891</td>\n",
       "      <td>Haikyuu!! Second Season</td>\n",
       "      <td>Following their participation at the Inter-Hig...</td>\n",
       "      <td>['Comedy', 'Sports', 'Drama', 'School', 'Shoun...</td>\n",
       "      <td>Oct 4, 2015 to Mar 27, 2016</td>\n",
       "      <td>25.0</td>\n",
       "      <td>489888</td>\n",
       "      <td>141</td>\n",
       "      <td>25.0</td>\n",
       "      <td>8.82</td>\n",
       "    </tr>\n",
       "    <tr>\n",
       "      <th>1</th>\n",
       "      <td>23273</td>\n",
       "      <td>Shigatsu wa Kimi no Uso</td>\n",
       "      <td>Music accompanies the path of the human metron...</td>\n",
       "      <td>['Drama', 'Music', 'Romance', 'School', 'Shoun...</td>\n",
       "      <td>Oct 10, 2014 to Mar 20, 2015</td>\n",
       "      <td>22.0</td>\n",
       "      <td>995473</td>\n",
       "      <td>28</td>\n",
       "      <td>24.0</td>\n",
       "      <td>8.83</td>\n",
       "    </tr>\n",
       "    <tr>\n",
       "      <th>2</th>\n",
       "      <td>34599</td>\n",
       "      <td>Made in Abyss</td>\n",
       "      <td>The Abyss—a gaping chasm stretching down into ...</td>\n",
       "      <td>['Sci-Fi', 'Adventure', 'Mystery', 'Drama', 'F...</td>\n",
       "      <td>Jul 7, 2017 to Sep 29, 2017</td>\n",
       "      <td>13.0</td>\n",
       "      <td>581663</td>\n",
       "      <td>98</td>\n",
       "      <td>23.0</td>\n",
       "      <td>8.83</td>\n",
       "    </tr>\n",
       "    <tr>\n",
       "      <th>3</th>\n",
       "      <td>5114</td>\n",
       "      <td>Fullmetal Alchemist: Brotherhood</td>\n",
       "      <td>\"In order for something to be obtained, someth...</td>\n",
       "      <td>['Action', 'Military', 'Adventure', 'Comedy', ...</td>\n",
       "      <td>Apr 5, 2009 to Jul 4, 2010</td>\n",
       "      <td>64.0</td>\n",
       "      <td>1615084</td>\n",
       "      <td>4</td>\n",
       "      <td>1.0</td>\n",
       "      <td>9.23</td>\n",
       "    </tr>\n",
       "    <tr>\n",
       "      <th>4</th>\n",
       "      <td>31758</td>\n",
       "      <td>Kizumonogatari III: Reiketsu-hen</td>\n",
       "      <td>After helping revive the legendary vampire Kis...</td>\n",
       "      <td>['Action', 'Mystery', 'Supernatural', 'Vampire']</td>\n",
       "      <td>Jan 6, 2017</td>\n",
       "      <td>1.0</td>\n",
       "      <td>214621</td>\n",
       "      <td>502</td>\n",
       "      <td>22.0</td>\n",
       "      <td>8.83</td>\n",
       "    </tr>\n",
       "  </tbody>\n",
       "</table>\n",
       "</div>"
      ],
      "text/plain": [
       "     uid                             title  \\\n",
       "0  28891           Haikyuu!! Second Season   \n",
       "1  23273           Shigatsu wa Kimi no Uso   \n",
       "2  34599                     Made in Abyss   \n",
       "3   5114  Fullmetal Alchemist: Brotherhood   \n",
       "4  31758  Kizumonogatari III: Reiketsu-hen   \n",
       "\n",
       "                                            synopsis  \\\n",
       "0  Following their participation at the Inter-Hig...   \n",
       "1  Music accompanies the path of the human metron...   \n",
       "2  The Abyss—a gaping chasm stretching down into ...   \n",
       "3  \"In order for something to be obtained, someth...   \n",
       "4  After helping revive the legendary vampire Kis...   \n",
       "\n",
       "                                               genre  \\\n",
       "0  ['Comedy', 'Sports', 'Drama', 'School', 'Shoun...   \n",
       "1  ['Drama', 'Music', 'Romance', 'School', 'Shoun...   \n",
       "2  ['Sci-Fi', 'Adventure', 'Mystery', 'Drama', 'F...   \n",
       "3  ['Action', 'Military', 'Adventure', 'Comedy', ...   \n",
       "4   ['Action', 'Mystery', 'Supernatural', 'Vampire']   \n",
       "\n",
       "                          aired  episodes  members  popularity  ranked  score  \n",
       "0   Oct 4, 2015 to Mar 27, 2016      25.0   489888         141    25.0   8.82  \n",
       "1  Oct 10, 2014 to Mar 20, 2015      22.0   995473          28    24.0   8.83  \n",
       "2   Jul 7, 2017 to Sep 29, 2017      13.0   581663          98    23.0   8.83  \n",
       "3    Apr 5, 2009 to Jul 4, 2010      64.0  1615084           4     1.0   9.23  \n",
       "4                   Jan 6, 2017       1.0   214621         502    22.0   8.83  "
      ]
     },
     "execution_count": 17,
     "metadata": {},
     "output_type": "execute_result"
    }
   ],
   "source": [
    "#CONVIERTO LA COLUMNA DE 'popularity' A ENTERO PARA MEJORAR LA VISUALIZACION DEL NUMERO \n",
    "df_anime['popularity'] = df_anime['popularity'].round().astype('int64')\n",
    "df_anime.head()"
   ]
  },
  {
   "cell_type": "code",
   "execution_count": 18,
   "metadata": {},
   "outputs": [],
   "source": [
    "#CREO UN ARCHIVO DE LA DF SELECCIONADA HASTA EL MOMENTO \n",
    "df_anime.to_csv(\"animesnyanimelist.csv\", index=True)"
   ]
  },
  {
   "cell_type": "code",
   "execution_count": 19,
   "metadata": {},
   "outputs": [
    {
     "data": {
      "text/html": [
       "<div>\n",
       "<style scoped>\n",
       "    .dataframe tbody tr th:only-of-type {\n",
       "        vertical-align: middle;\n",
       "    }\n",
       "\n",
       "    .dataframe tbody tr th {\n",
       "        vertical-align: top;\n",
       "    }\n",
       "\n",
       "    .dataframe thead th {\n",
       "        text-align: right;\n",
       "    }\n",
       "</style>\n",
       "<table border=\"1\" class=\"dataframe\">\n",
       "  <thead>\n",
       "    <tr style=\"text-align: right;\">\n",
       "      <th></th>\n",
       "      <th>nulls</th>\n",
       "    </tr>\n",
       "  </thead>\n",
       "  <tbody>\n",
       "    <tr>\n",
       "      <th>uid</th>\n",
       "      <td>0</td>\n",
       "    </tr>\n",
       "    <tr>\n",
       "      <th>title</th>\n",
       "      <td>0</td>\n",
       "    </tr>\n",
       "    <tr>\n",
       "      <th>synopsis</th>\n",
       "      <td>785</td>\n",
       "    </tr>\n",
       "    <tr>\n",
       "      <th>genre</th>\n",
       "      <td>0</td>\n",
       "    </tr>\n",
       "    <tr>\n",
       "      <th>aired</th>\n",
       "      <td>0</td>\n",
       "    </tr>\n",
       "    <tr>\n",
       "      <th>episodes</th>\n",
       "      <td>543</td>\n",
       "    </tr>\n",
       "    <tr>\n",
       "      <th>members</th>\n",
       "      <td>0</td>\n",
       "    </tr>\n",
       "    <tr>\n",
       "      <th>popularity</th>\n",
       "      <td>0</td>\n",
       "    </tr>\n",
       "    <tr>\n",
       "      <th>ranked</th>\n",
       "      <td>1757</td>\n",
       "    </tr>\n",
       "    <tr>\n",
       "      <th>score</th>\n",
       "      <td>404</td>\n",
       "    </tr>\n",
       "  </tbody>\n",
       "</table>\n",
       "</div>"
      ],
      "text/plain": [
       "            nulls\n",
       "uid             0\n",
       "title           0\n",
       "synopsis      785\n",
       "genre           0\n",
       "aired           0\n",
       "episodes      543\n",
       "members         0\n",
       "popularity      0\n",
       "ranked       1757\n",
       "score         404"
      ]
     },
     "execution_count": 19,
     "metadata": {},
     "output_type": "execute_result"
    }
   ],
   "source": [
    "#VERIFICO LOS NULOS PARA DETERMINAR SI SE ELIMINARA ALGUNA OTRA COLUMNA O EL METODO A UTILIZAR PARA SU TRATAMIENTO\n",
    "df_anime.isnull().sum().to_frame('nulls')"
   ]
  },
  {
   "cell_type": "code",
   "execution_count": 20,
   "metadata": {},
   "outputs": [
    {
     "data": {
      "text/html": [
       "<div>\n",
       "<style scoped>\n",
       "    .dataframe tbody tr th:only-of-type {\n",
       "        vertical-align: middle;\n",
       "    }\n",
       "\n",
       "    .dataframe tbody tr th {\n",
       "        vertical-align: top;\n",
       "    }\n",
       "\n",
       "    .dataframe thead th {\n",
       "        text-align: right;\n",
       "    }\n",
       "</style>\n",
       "<table border=\"1\" class=\"dataframe\">\n",
       "  <thead>\n",
       "    <tr style=\"text-align: right;\">\n",
       "      <th></th>\n",
       "      <th>uid</th>\n",
       "      <th>title</th>\n",
       "      <th>synopsis</th>\n",
       "      <th>genre</th>\n",
       "      <th>aired</th>\n",
       "      <th>episodes</th>\n",
       "      <th>members</th>\n",
       "      <th>popularity</th>\n",
       "      <th>ranked</th>\n",
       "      <th>score</th>\n",
       "    </tr>\n",
       "  </thead>\n",
       "  <tbody>\n",
       "    <tr>\n",
       "      <th>29</th>\n",
       "      <td>9563</td>\n",
       "      <td>Hidamari Sketch x ☆☆☆ Specials</td>\n",
       "      <td>NaN</td>\n",
       "      <td>['Slice of Life', 'Comedy', 'School', 'Seinen']</td>\n",
       "      <td>Oct 23, 2010 to Oct 30, 2010</td>\n",
       "      <td>2.0</td>\n",
       "      <td>11600</td>\n",
       "      <td>4073</td>\n",
       "      <td>790.0</td>\n",
       "      <td>7.86</td>\n",
       "    </tr>\n",
       "    <tr>\n",
       "      <th>31</th>\n",
       "      <td>33280</td>\n",
       "      <td>Gochuumon wa Usagi Desu ka??: Dear My Sister</td>\n",
       "      <td>NaN</td>\n",
       "      <td>['Slice of Life', 'Comedy']</td>\n",
       "      <td>Nov 11, 2017</td>\n",
       "      <td>1.0</td>\n",
       "      <td>20779</td>\n",
       "      <td>3141</td>\n",
       "      <td>788.0</td>\n",
       "      <td>7.86</td>\n",
       "    </tr>\n",
       "    <tr>\n",
       "      <th>42</th>\n",
       "      <td>36160</td>\n",
       "      <td>Yaoguai Mingdan 2nd Season</td>\n",
       "      <td>NaN</td>\n",
       "      <td>['Action', 'Comedy', 'Romance', 'Fantasy']</td>\n",
       "      <td>Aug 2, 2017 to Dec 29, 2017</td>\n",
       "      <td>21.0</td>\n",
       "      <td>5238</td>\n",
       "      <td>5659</td>\n",
       "      <td>777.0</td>\n",
       "      <td>7.87</td>\n",
       "    </tr>\n",
       "    <tr>\n",
       "      <th>212</th>\n",
       "      <td>36370</td>\n",
       "      <td>Ginga Eiyuu Densetsu: Die Neue These - Seiran 2</td>\n",
       "      <td>NaN</td>\n",
       "      <td>['Action', 'Drama', 'Military', 'Sci-Fi', 'Spa...</td>\n",
       "      <td>Oct 25, 2019</td>\n",
       "      <td>4.0</td>\n",
       "      <td>8711</td>\n",
       "      <td>4598</td>\n",
       "      <td>598.0</td>\n",
       "      <td>8.00</td>\n",
       "    </tr>\n",
       "    <tr>\n",
       "      <th>216</th>\n",
       "      <td>39565</td>\n",
       "      <td>Boku no Hero Academia the Movie 2: Heroes:Rising</td>\n",
       "      <td>NaN</td>\n",
       "      <td>['Action', 'Comedy', 'Super Power', 'School', ...</td>\n",
       "      <td>Dec 20, 2019</td>\n",
       "      <td>1.0</td>\n",
       "      <td>75929</td>\n",
       "      <td>1408</td>\n",
       "      <td>594.0</td>\n",
       "      <td>7.97</td>\n",
       "    </tr>\n",
       "    <tr>\n",
       "      <th>...</th>\n",
       "      <td>...</td>\n",
       "      <td>...</td>\n",
       "      <td>...</td>\n",
       "      <td>...</td>\n",
       "      <td>...</td>\n",
       "      <td>...</td>\n",
       "      <td>...</td>\n",
       "      <td>...</td>\n",
       "      <td>...</td>\n",
       "      <td>...</td>\n",
       "    </tr>\n",
       "    <tr>\n",
       "      <th>16101</th>\n",
       "      <td>34649</td>\n",
       "      <td>Soukyuu no Fafner: Dead Aggressor - The Beyond</td>\n",
       "      <td>NaN</td>\n",
       "      <td>['Action', 'Military', 'Sci-Fi', 'Drama', 'Mec...</td>\n",
       "      <td>May 17, 2019</td>\n",
       "      <td>3.0</td>\n",
       "      <td>4598</td>\n",
       "      <td>5965</td>\n",
       "      <td>2888.0</td>\n",
       "      <td>7.22</td>\n",
       "    </tr>\n",
       "    <tr>\n",
       "      <th>16130</th>\n",
       "      <td>39638</td>\n",
       "      <td>Choujigen Game Neptune The Animation: Nep no N...</td>\n",
       "      <td>NaN</td>\n",
       "      <td>['Action', 'Comedy', 'Fantasy', 'Sci-Fi']</td>\n",
       "      <td>Jul 8, 2019</td>\n",
       "      <td>1.0</td>\n",
       "      <td>7229</td>\n",
       "      <td>4973</td>\n",
       "      <td>2857.0</td>\n",
       "      <td>7.22</td>\n",
       "    </tr>\n",
       "    <tr>\n",
       "      <th>16161</th>\n",
       "      <td>2634</td>\n",
       "      <td>Doraemon: Doraemon Comes Back</td>\n",
       "      <td>NaN</td>\n",
       "      <td>['Comedy', 'Fantasy', 'Kids', 'Sci-Fi', 'Shoun...</td>\n",
       "      <td>Jan 3, 1981</td>\n",
       "      <td>1.0</td>\n",
       "      <td>1339</td>\n",
       "      <td>8897</td>\n",
       "      <td>3078.0</td>\n",
       "      <td>7.17</td>\n",
       "    </tr>\n",
       "    <tr>\n",
       "      <th>16319</th>\n",
       "      <td>38740</td>\n",
       "      <td>Bai She: Yuan Qi</td>\n",
       "      <td>NaN</td>\n",
       "      <td>['Action', 'Adventure', 'Historical', 'Demons'...</td>\n",
       "      <td>Jan 11, 2019</td>\n",
       "      <td>1.0</td>\n",
       "      <td>1246</td>\n",
       "      <td>9117</td>\n",
       "      <td>2904.0</td>\n",
       "      <td>7.21</td>\n",
       "    </tr>\n",
       "    <tr>\n",
       "      <th>16331</th>\n",
       "      <td>39912</td>\n",
       "      <td>Wan Jie Xian Zong 2nd Season</td>\n",
       "      <td>NaN</td>\n",
       "      <td>['Action', 'Adventure', 'Historical', 'Demons'...</td>\n",
       "      <td>Apr 25, 2019 to Sep 9, 2019</td>\n",
       "      <td>40.0</td>\n",
       "      <td>592</td>\n",
       "      <td>10685</td>\n",
       "      <td>2983.0</td>\n",
       "      <td>7.20</td>\n",
       "    </tr>\n",
       "  </tbody>\n",
       "</table>\n",
       "<p>785 rows × 10 columns</p>\n",
       "</div>"
      ],
      "text/plain": [
       "         uid                                              title synopsis  \\\n",
       "29      9563                     Hidamari Sketch x ☆☆☆ Specials      NaN   \n",
       "31     33280       Gochuumon wa Usagi Desu ka??: Dear My Sister      NaN   \n",
       "42     36160                         Yaoguai Mingdan 2nd Season      NaN   \n",
       "212    36370    Ginga Eiyuu Densetsu: Die Neue These - Seiran 2      NaN   \n",
       "216    39565   Boku no Hero Academia the Movie 2: Heroes:Rising      NaN   \n",
       "...      ...                                                ...      ...   \n",
       "16101  34649     Soukyuu no Fafner: Dead Aggressor - The Beyond      NaN   \n",
       "16130  39638  Choujigen Game Neptune The Animation: Nep no N...      NaN   \n",
       "16161   2634                      Doraemon: Doraemon Comes Back      NaN   \n",
       "16319  38740                                   Bai She: Yuan Qi      NaN   \n",
       "16331  39912                       Wan Jie Xian Zong 2nd Season      NaN   \n",
       "\n",
       "                                                   genre  \\\n",
       "29       ['Slice of Life', 'Comedy', 'School', 'Seinen']   \n",
       "31                           ['Slice of Life', 'Comedy']   \n",
       "42            ['Action', 'Comedy', 'Romance', 'Fantasy']   \n",
       "212    ['Action', 'Drama', 'Military', 'Sci-Fi', 'Spa...   \n",
       "216    ['Action', 'Comedy', 'Super Power', 'School', ...   \n",
       "...                                                  ...   \n",
       "16101  ['Action', 'Military', 'Sci-Fi', 'Drama', 'Mec...   \n",
       "16130          ['Action', 'Comedy', 'Fantasy', 'Sci-Fi']   \n",
       "16161  ['Comedy', 'Fantasy', 'Kids', 'Sci-Fi', 'Shoun...   \n",
       "16319  ['Action', 'Adventure', 'Historical', 'Demons'...   \n",
       "16331  ['Action', 'Adventure', 'Historical', 'Demons'...   \n",
       "\n",
       "                              aired  episodes  members  popularity  ranked  \\\n",
       "29     Oct 23, 2010 to Oct 30, 2010       2.0    11600        4073   790.0   \n",
       "31                     Nov 11, 2017       1.0    20779        3141   788.0   \n",
       "42      Aug 2, 2017 to Dec 29, 2017      21.0     5238        5659   777.0   \n",
       "212                    Oct 25, 2019       4.0     8711        4598   598.0   \n",
       "216                    Dec 20, 2019       1.0    75929        1408   594.0   \n",
       "...                             ...       ...      ...         ...     ...   \n",
       "16101                  May 17, 2019       3.0     4598        5965  2888.0   \n",
       "16130                   Jul 8, 2019       1.0     7229        4973  2857.0   \n",
       "16161                   Jan 3, 1981       1.0     1339        8897  3078.0   \n",
       "16319                  Jan 11, 2019       1.0     1246        9117  2904.0   \n",
       "16331   Apr 25, 2019 to Sep 9, 2019      40.0      592       10685  2983.0   \n",
       "\n",
       "       score  \n",
       "29      7.86  \n",
       "31      7.86  \n",
       "42      7.87  \n",
       "212     8.00  \n",
       "216     7.97  \n",
       "...      ...  \n",
       "16101   7.22  \n",
       "16130   7.22  \n",
       "16161   7.17  \n",
       "16319   7.21  \n",
       "16331   7.20  \n",
       "\n",
       "[785 rows x 10 columns]"
      ]
     },
     "execution_count": 20,
     "metadata": {},
     "output_type": "execute_result"
    }
   ],
   "source": [
    "#REVISO COMO SE PRESENTA LA INFORMACION FALTANTE EN LAS COLUMNAS CON NULOS \n",
    "filas_con_nulos = df_anime.loc[df_anime['synopsis'].isnull()]\n",
    "filas_con_nulos"
   ]
  },
  {
   "cell_type": "code",
   "execution_count": 21,
   "metadata": {},
   "outputs": [
    {
     "data": {
      "text/html": [
       "<div>\n",
       "<style scoped>\n",
       "    .dataframe tbody tr th:only-of-type {\n",
       "        vertical-align: middle;\n",
       "    }\n",
       "\n",
       "    .dataframe tbody tr th {\n",
       "        vertical-align: top;\n",
       "    }\n",
       "\n",
       "    .dataframe thead th {\n",
       "        text-align: right;\n",
       "    }\n",
       "</style>\n",
       "<table border=\"1\" class=\"dataframe\">\n",
       "  <thead>\n",
       "    <tr style=\"text-align: right;\">\n",
       "      <th></th>\n",
       "      <th>uid</th>\n",
       "      <th>title</th>\n",
       "      <th>synopsis</th>\n",
       "      <th>genre</th>\n",
       "      <th>aired</th>\n",
       "      <th>episodes</th>\n",
       "      <th>members</th>\n",
       "      <th>popularity</th>\n",
       "      <th>ranked</th>\n",
       "      <th>score</th>\n",
       "    </tr>\n",
       "  </thead>\n",
       "  <tbody>\n",
       "    <tr>\n",
       "      <th>0</th>\n",
       "      <td>28891</td>\n",
       "      <td>Haikyuu!! Second Season</td>\n",
       "      <td>Following their participation at the Inter-Hig...</td>\n",
       "      <td>['Comedy', 'Sports', 'Drama', 'School', 'Shoun...</td>\n",
       "      <td>Oct 4, 2015 to Mar 27, 2016</td>\n",
       "      <td>25.0</td>\n",
       "      <td>489888</td>\n",
       "      <td>141</td>\n",
       "      <td>25.0</td>\n",
       "      <td>8.82</td>\n",
       "    </tr>\n",
       "    <tr>\n",
       "      <th>1</th>\n",
       "      <td>23273</td>\n",
       "      <td>Shigatsu wa Kimi no Uso</td>\n",
       "      <td>Music accompanies the path of the human metron...</td>\n",
       "      <td>['Drama', 'Music', 'Romance', 'School', 'Shoun...</td>\n",
       "      <td>Oct 10, 2014 to Mar 20, 2015</td>\n",
       "      <td>22.0</td>\n",
       "      <td>995473</td>\n",
       "      <td>28</td>\n",
       "      <td>24.0</td>\n",
       "      <td>8.83</td>\n",
       "    </tr>\n",
       "    <tr>\n",
       "      <th>2</th>\n",
       "      <td>34599</td>\n",
       "      <td>Made in Abyss</td>\n",
       "      <td>The Abyss—a gaping chasm stretching down into ...</td>\n",
       "      <td>['Sci-Fi', 'Adventure', 'Mystery', 'Drama', 'F...</td>\n",
       "      <td>Jul 7, 2017 to Sep 29, 2017</td>\n",
       "      <td>13.0</td>\n",
       "      <td>581663</td>\n",
       "      <td>98</td>\n",
       "      <td>23.0</td>\n",
       "      <td>8.83</td>\n",
       "    </tr>\n",
       "    <tr>\n",
       "      <th>3</th>\n",
       "      <td>5114</td>\n",
       "      <td>Fullmetal Alchemist: Brotherhood</td>\n",
       "      <td>\"In order for something to be obtained, someth...</td>\n",
       "      <td>['Action', 'Military', 'Adventure', 'Comedy', ...</td>\n",
       "      <td>Apr 5, 2009 to Jul 4, 2010</td>\n",
       "      <td>64.0</td>\n",
       "      <td>1615084</td>\n",
       "      <td>4</td>\n",
       "      <td>1.0</td>\n",
       "      <td>9.23</td>\n",
       "    </tr>\n",
       "    <tr>\n",
       "      <th>4</th>\n",
       "      <td>31758</td>\n",
       "      <td>Kizumonogatari III: Reiketsu-hen</td>\n",
       "      <td>After helping revive the legendary vampire Kis...</td>\n",
       "      <td>['Action', 'Mystery', 'Supernatural', 'Vampire']</td>\n",
       "      <td>Jan 6, 2017</td>\n",
       "      <td>1.0</td>\n",
       "      <td>214621</td>\n",
       "      <td>502</td>\n",
       "      <td>22.0</td>\n",
       "      <td>8.83</td>\n",
       "    </tr>\n",
       "    <tr>\n",
       "      <th>...</th>\n",
       "      <td>...</td>\n",
       "      <td>...</td>\n",
       "      <td>...</td>\n",
       "      <td>...</td>\n",
       "      <td>...</td>\n",
       "      <td>...</td>\n",
       "      <td>...</td>\n",
       "      <td>...</td>\n",
       "      <td>...</td>\n",
       "      <td>...</td>\n",
       "    </tr>\n",
       "    <tr>\n",
       "      <th>16363</th>\n",
       "      <td>10075</td>\n",
       "      <td>Naruto x UT</td>\n",
       "      <td>All-new animation offered throughout UNIQLO cl...</td>\n",
       "      <td>['Action', 'Comedy', 'Super Power', 'Martial A...</td>\n",
       "      <td>Jan 1, 2011</td>\n",
       "      <td>1.0</td>\n",
       "      <td>34155</td>\n",
       "      <td>2382</td>\n",
       "      <td>1728.0</td>\n",
       "      <td>7.50</td>\n",
       "    </tr>\n",
       "    <tr>\n",
       "      <th>16364</th>\n",
       "      <td>35828</td>\n",
       "      <td>Miira no Kaikata</td>\n",
       "      <td>High school student Sora Kashiwagi is accustom...</td>\n",
       "      <td>['Slice of Life', 'Comedy', 'Supernatural']</td>\n",
       "      <td>Jan 12, 2018 to Mar 30, 2018</td>\n",
       "      <td>12.0</td>\n",
       "      <td>61459</td>\n",
       "      <td>1648</td>\n",
       "      <td>1727.0</td>\n",
       "      <td>7.50</td>\n",
       "    </tr>\n",
       "    <tr>\n",
       "      <th>16365</th>\n",
       "      <td>10378</td>\n",
       "      <td>Shinryaku!? Ika Musume</td>\n",
       "      <td>After regaining her squid-like abilities, Ika ...</td>\n",
       "      <td>['Slice of Life', 'Comedy', 'Shounen']</td>\n",
       "      <td>Sep 27, 2011 to Dec 25, 2011</td>\n",
       "      <td>12.0</td>\n",
       "      <td>67422</td>\n",
       "      <td>1547</td>\n",
       "      <td>1548.0</td>\n",
       "      <td>7.56</td>\n",
       "    </tr>\n",
       "    <tr>\n",
       "      <th>16366</th>\n",
       "      <td>33082</td>\n",
       "      <td>Kingsglaive: Final Fantasy XV</td>\n",
       "      <td>For years, the Niflheim Empire and the kingdom...</td>\n",
       "      <td>['Action']</td>\n",
       "      <td>Jul 9, 2016</td>\n",
       "      <td>1.0</td>\n",
       "      <td>41077</td>\n",
       "      <td>2154</td>\n",
       "      <td>1544.0</td>\n",
       "      <td>7.56</td>\n",
       "    </tr>\n",
       "    <tr>\n",
       "      <th>16367</th>\n",
       "      <td>16934</td>\n",
       "      <td>Chuunibyou demo Koi ga Shitai!: Kirameki no......</td>\n",
       "      <td>Although Yuuta Togashi and Rikka Takanashi hav...</td>\n",
       "      <td>['Comedy', 'Drama', 'Romance', 'School', 'Slic...</td>\n",
       "      <td>Jun 19, 2013</td>\n",
       "      <td>1.0</td>\n",
       "      <td>128400</td>\n",
       "      <td>883</td>\n",
       "      <td>1533.0</td>\n",
       "      <td>7.56</td>\n",
       "    </tr>\n",
       "  </tbody>\n",
       "</table>\n",
       "<p>16368 rows × 10 columns</p>\n",
       "</div>"
      ],
      "text/plain": [
       "         uid                                              title  \\\n",
       "0      28891                            Haikyuu!! Second Season   \n",
       "1      23273                            Shigatsu wa Kimi no Uso   \n",
       "2      34599                                      Made in Abyss   \n",
       "3       5114                   Fullmetal Alchemist: Brotherhood   \n",
       "4      31758                   Kizumonogatari III: Reiketsu-hen   \n",
       "...      ...                                                ...   \n",
       "16363  10075                                        Naruto x UT   \n",
       "16364  35828                                   Miira no Kaikata   \n",
       "16365  10378                             Shinryaku!? Ika Musume   \n",
       "16366  33082                      Kingsglaive: Final Fantasy XV   \n",
       "16367  16934  Chuunibyou demo Koi ga Shitai!: Kirameki no......   \n",
       "\n",
       "                                                synopsis  \\\n",
       "0      Following their participation at the Inter-Hig...   \n",
       "1      Music accompanies the path of the human metron...   \n",
       "2      The Abyss—a gaping chasm stretching down into ...   \n",
       "3      \"In order for something to be obtained, someth...   \n",
       "4      After helping revive the legendary vampire Kis...   \n",
       "...                                                  ...   \n",
       "16363  All-new animation offered throughout UNIQLO cl...   \n",
       "16364  High school student Sora Kashiwagi is accustom...   \n",
       "16365  After regaining her squid-like abilities, Ika ...   \n",
       "16366  For years, the Niflheim Empire and the kingdom...   \n",
       "16367  Although Yuuta Togashi and Rikka Takanashi hav...   \n",
       "\n",
       "                                                   genre  \\\n",
       "0      ['Comedy', 'Sports', 'Drama', 'School', 'Shoun...   \n",
       "1      ['Drama', 'Music', 'Romance', 'School', 'Shoun...   \n",
       "2      ['Sci-Fi', 'Adventure', 'Mystery', 'Drama', 'F...   \n",
       "3      ['Action', 'Military', 'Adventure', 'Comedy', ...   \n",
       "4       ['Action', 'Mystery', 'Supernatural', 'Vampire']   \n",
       "...                                                  ...   \n",
       "16363  ['Action', 'Comedy', 'Super Power', 'Martial A...   \n",
       "16364        ['Slice of Life', 'Comedy', 'Supernatural']   \n",
       "16365             ['Slice of Life', 'Comedy', 'Shounen']   \n",
       "16366                                         ['Action']   \n",
       "16367  ['Comedy', 'Drama', 'Romance', 'School', 'Slic...   \n",
       "\n",
       "                              aired  episodes  members  popularity  ranked  \\\n",
       "0       Oct 4, 2015 to Mar 27, 2016      25.0   489888         141    25.0   \n",
       "1      Oct 10, 2014 to Mar 20, 2015      22.0   995473          28    24.0   \n",
       "2       Jul 7, 2017 to Sep 29, 2017      13.0   581663          98    23.0   \n",
       "3        Apr 5, 2009 to Jul 4, 2010      64.0  1615084           4     1.0   \n",
       "4                       Jan 6, 2017       1.0   214621         502    22.0   \n",
       "...                             ...       ...      ...         ...     ...   \n",
       "16363                   Jan 1, 2011       1.0    34155        2382  1728.0   \n",
       "16364  Jan 12, 2018 to Mar 30, 2018      12.0    61459        1648  1727.0   \n",
       "16365  Sep 27, 2011 to Dec 25, 2011      12.0    67422        1547  1548.0   \n",
       "16366                   Jul 9, 2016       1.0    41077        2154  1544.0   \n",
       "16367                  Jun 19, 2013       1.0   128400         883  1533.0   \n",
       "\n",
       "       score  \n",
       "0       8.82  \n",
       "1       8.83  \n",
       "2       8.83  \n",
       "3       9.23  \n",
       "4       8.83  \n",
       "...      ...  \n",
       "16363   7.50  \n",
       "16364   7.50  \n",
       "16365   7.56  \n",
       "16366   7.56  \n",
       "16367   7.56  \n",
       "\n",
       "[16368 rows x 10 columns]"
      ]
     },
     "execution_count": 21,
     "metadata": {},
     "output_type": "execute_result"
    }
   ],
   "source": [
    "#CAMBIO LOS VALORES NULOS DE LA COLUMNA SYNOPSIS \n",
    "df_anime['synopsis']=df_anime['synopsis'].replace(np.nan,\"Not Known\")\n",
    "df_anime"
   ]
  },
  {
   "cell_type": "code",
   "execution_count": 22,
   "metadata": {},
   "outputs": [
    {
     "data": {
      "text/html": [
       "<div>\n",
       "<style scoped>\n",
       "    .dataframe tbody tr th:only-of-type {\n",
       "        vertical-align: middle;\n",
       "    }\n",
       "\n",
       "    .dataframe tbody tr th {\n",
       "        vertical-align: top;\n",
       "    }\n",
       "\n",
       "    .dataframe thead th {\n",
       "        text-align: right;\n",
       "    }\n",
       "</style>\n",
       "<table border=\"1\" class=\"dataframe\">\n",
       "  <thead>\n",
       "    <tr style=\"text-align: right;\">\n",
       "      <th></th>\n",
       "      <th>uid</th>\n",
       "      <th>title</th>\n",
       "      <th>synopsis</th>\n",
       "      <th>genre</th>\n",
       "      <th>aired</th>\n",
       "      <th>episodes</th>\n",
       "      <th>members</th>\n",
       "      <th>popularity</th>\n",
       "      <th>ranked</th>\n",
       "      <th>score</th>\n",
       "    </tr>\n",
       "  </thead>\n",
       "  <tbody>\n",
       "    <tr>\n",
       "      <th>27</th>\n",
       "      <td>5680</td>\n",
       "      <td>K-On!</td>\n",
       "      <td>Hirasawa Yui, a young, carefree girl entering ...</td>\n",
       "      <td>['Slice of Life', 'Comedy', 'Music', 'School']</td>\n",
       "      <td>Apr 3, 2009 to Jun 26, 2009</td>\n",
       "      <td>13.0</td>\n",
       "      <td>610222</td>\n",
       "      <td>90</td>\n",
       "      <td>792.0</td>\n",
       "      <td>7.86</td>\n",
       "    </tr>\n",
       "    <tr>\n",
       "      <th>28</th>\n",
       "      <td>451</td>\n",
       "      <td>InuYasha Movie 3: Tenka Hadou no Ken</td>\n",
       "      <td>Izayoi and Inu no Taishou, Inuyasha's parents,...</td>\n",
       "      <td>['Action', 'Adventure', 'Comedy', 'Historical'...</td>\n",
       "      <td>Dec 20, 2003</td>\n",
       "      <td>1.0</td>\n",
       "      <td>68407</td>\n",
       "      <td>1527</td>\n",
       "      <td>791.0</td>\n",
       "      <td>7.86</td>\n",
       "    </tr>\n",
       "    <tr>\n",
       "      <th>29</th>\n",
       "      <td>9563</td>\n",
       "      <td>Hidamari Sketch x ☆☆☆ Specials</td>\n",
       "      <td>Not Known</td>\n",
       "      <td>['Slice of Life', 'Comedy', 'School', 'Seinen']</td>\n",
       "      <td>Oct 23, 2010 to Oct 30, 2010</td>\n",
       "      <td>2.0</td>\n",
       "      <td>11600</td>\n",
       "      <td>4073</td>\n",
       "      <td>790.0</td>\n",
       "      <td>7.86</td>\n",
       "    </tr>\n",
       "    <tr>\n",
       "      <th>30</th>\n",
       "      <td>30364</td>\n",
       "      <td>Haikyuu!! Movie 2: Shousha to Haisha</td>\n",
       "      <td>Second  Haikyuu!!  recap movie.</td>\n",
       "      <td>['Comedy', 'Sports', 'Drama', 'School', 'Shoun...</td>\n",
       "      <td>Sep 18, 2015</td>\n",
       "      <td>1.0</td>\n",
       "      <td>27734</td>\n",
       "      <td>2698</td>\n",
       "      <td>789.0</td>\n",
       "      <td>7.86</td>\n",
       "    </tr>\n",
       "  </tbody>\n",
       "</table>\n",
       "</div>"
      ],
      "text/plain": [
       "      uid                                 title  \\\n",
       "27   5680                                 K-On!   \n",
       "28    451  InuYasha Movie 3: Tenka Hadou no Ken   \n",
       "29   9563        Hidamari Sketch x ☆☆☆ Specials   \n",
       "30  30364  Haikyuu!! Movie 2: Shousha to Haisha   \n",
       "\n",
       "                                             synopsis  \\\n",
       "27  Hirasawa Yui, a young, carefree girl entering ...   \n",
       "28  Izayoi and Inu no Taishou, Inuyasha's parents,...   \n",
       "29                                          Not Known   \n",
       "30                    Second  Haikyuu!!  recap movie.   \n",
       "\n",
       "                                                genre  \\\n",
       "27     ['Slice of Life', 'Comedy', 'Music', 'School']   \n",
       "28  ['Action', 'Adventure', 'Comedy', 'Historical'...   \n",
       "29    ['Slice of Life', 'Comedy', 'School', 'Seinen']   \n",
       "30  ['Comedy', 'Sports', 'Drama', 'School', 'Shoun...   \n",
       "\n",
       "                           aired  episodes  members  popularity  ranked  score  \n",
       "27   Apr 3, 2009 to Jun 26, 2009      13.0   610222          90   792.0   7.86  \n",
       "28                  Dec 20, 2003       1.0    68407        1527   791.0   7.86  \n",
       "29  Oct 23, 2010 to Oct 30, 2010       2.0    11600        4073   790.0   7.86  \n",
       "30                  Sep 18, 2015       1.0    27734        2698   789.0   7.86  "
      ]
     },
     "execution_count": 22,
     "metadata": {},
     "output_type": "execute_result"
    }
   ],
   "source": [
    "#CONFIRMO QUE SE REALIZARON LOS CAMBIOS SELECCIONANDO UNA FILA QUE TENIA NULOS COMO LA 29\n",
    "df_anime.loc[27:30]"
   ]
  },
  {
   "cell_type": "code",
   "execution_count": 23,
   "metadata": {},
   "outputs": [
    {
     "data": {
      "text/plain": [
       "0"
      ]
     },
     "execution_count": 23,
     "metadata": {},
     "output_type": "execute_result"
    }
   ],
   "source": [
    "#CONFIRMO QUE YA NO HAY DATOS NULOS EN LA COLUMNA DE SYNOPSIS\n",
    "df_anime['synopsis'].isnull().sum()"
   ]
  },
  {
   "cell_type": "code",
   "execution_count": 24,
   "metadata": {},
   "outputs": [
    {
     "data": {
      "text/html": [
       "<div>\n",
       "<style scoped>\n",
       "    .dataframe tbody tr th:only-of-type {\n",
       "        vertical-align: middle;\n",
       "    }\n",
       "\n",
       "    .dataframe tbody tr th {\n",
       "        vertical-align: top;\n",
       "    }\n",
       "\n",
       "    .dataframe thead th {\n",
       "        text-align: right;\n",
       "    }\n",
       "</style>\n",
       "<table border=\"1\" class=\"dataframe\">\n",
       "  <thead>\n",
       "    <tr style=\"text-align: right;\">\n",
       "      <th></th>\n",
       "      <th>uid</th>\n",
       "      <th>title</th>\n",
       "      <th>synopsis</th>\n",
       "      <th>genre</th>\n",
       "      <th>aired</th>\n",
       "      <th>episodes</th>\n",
       "      <th>members</th>\n",
       "      <th>popularity</th>\n",
       "      <th>ranked</th>\n",
       "      <th>score</th>\n",
       "    </tr>\n",
       "  </thead>\n",
       "  <tbody>\n",
       "    <tr>\n",
       "      <th>104</th>\n",
       "      <td>37822</td>\n",
       "      <td>Douluo Dalu 2nd Season</td>\n",
       "      <td>Second part of  Douluo Dalu .</td>\n",
       "      <td>['Action', 'Adventure', 'Historical', 'Superna...</td>\n",
       "      <td>Dec 1, 2018 to ?</td>\n",
       "      <td>NaN</td>\n",
       "      <td>5376</td>\n",
       "      <td>5587</td>\n",
       "      <td>710.0</td>\n",
       "      <td>7.90</td>\n",
       "    </tr>\n",
       "    <tr>\n",
       "      <th>707</th>\n",
       "      <td>21</td>\n",
       "      <td>One Piece</td>\n",
       "      <td>Gol D. Roger was known as the \"Pirate King,\" t...</td>\n",
       "      <td>['Action', 'Adventure', 'Comedy', 'Super Power...</td>\n",
       "      <td>Oct 20, 1999 to ?</td>\n",
       "      <td>NaN</td>\n",
       "      <td>948342</td>\n",
       "      <td>35</td>\n",
       "      <td>86.0</td>\n",
       "      <td>8.53</td>\n",
       "    </tr>\n",
       "    <tr>\n",
       "      <th>781</th>\n",
       "      <td>235</td>\n",
       "      <td>Detective Conan (TV)</td>\n",
       "      <td>Shinichi Kudou, a high school student of astou...</td>\n",
       "      <td>['Adventure', 'Mystery', 'Comedy', 'Police', '...</td>\n",
       "      <td>Jan 8, 1996 to ?</td>\n",
       "      <td>NaN</td>\n",
       "      <td>196953</td>\n",
       "      <td>545</td>\n",
       "      <td>295.0</td>\n",
       "      <td>8.24</td>\n",
       "    </tr>\n",
       "    <tr>\n",
       "      <th>1037</th>\n",
       "      <td>39023</td>\n",
       "      <td>Qin Shi Ming Yue: Canghai Hengliu</td>\n",
       "      <td>Not Known</td>\n",
       "      <td>['Action', 'Historical', 'Martial Arts', 'Fant...</td>\n",
       "      <td>Dec 27, 2018 to ?</td>\n",
       "      <td>NaN</td>\n",
       "      <td>553</td>\n",
       "      <td>10761</td>\n",
       "      <td>1051.0</td>\n",
       "      <td>7.74</td>\n",
       "    </tr>\n",
       "    <tr>\n",
       "      <th>1052</th>\n",
       "      <td>966</td>\n",
       "      <td>Crayon Shin-chan</td>\n",
       "      <td>Just because an anime features a young protago...</td>\n",
       "      <td>['Slice of Life', 'Comedy', 'Ecchi', 'School',...</td>\n",
       "      <td>Apr 13, 1992 to ?</td>\n",
       "      <td>NaN</td>\n",
       "      <td>44171</td>\n",
       "      <td>2057</td>\n",
       "      <td>1034.0</td>\n",
       "      <td>7.74</td>\n",
       "    </tr>\n",
       "    <tr>\n",
       "      <th>...</th>\n",
       "      <td>...</td>\n",
       "      <td>...</td>\n",
       "      <td>...</td>\n",
       "      <td>...</td>\n",
       "      <td>...</td>\n",
       "      <td>...</td>\n",
       "      <td>...</td>\n",
       "      <td>...</td>\n",
       "      <td>...</td>\n",
       "      <td>...</td>\n",
       "    </tr>\n",
       "    <tr>\n",
       "      <th>15411</th>\n",
       "      <td>6149</td>\n",
       "      <td>Chibi Maruko-chan (1995)</td>\n",
       "      <td>Momoko Sakura is an elementary school student ...</td>\n",
       "      <td>['Comedy', 'Kids', 'School', 'Slice of Life']</td>\n",
       "      <td>Jan 8, 1995 to ?</td>\n",
       "      <td>NaN</td>\n",
       "      <td>2360</td>\n",
       "      <td>7539</td>\n",
       "      <td>2650.0</td>\n",
       "      <td>7.27</td>\n",
       "    </tr>\n",
       "    <tr>\n",
       "      <th>15489</th>\n",
       "      <td>37968</td>\n",
       "      <td>Kirakira Happy★Hirake! Cocotama</td>\n",
       "      <td>Not Known</td>\n",
       "      <td>['Fantasy', 'Kids', 'Magic', 'Slice of Life']</td>\n",
       "      <td>Sep 6, 2018 to Sep 26, 2019</td>\n",
       "      <td>NaN</td>\n",
       "      <td>405</td>\n",
       "      <td>11486</td>\n",
       "      <td>7626.0</td>\n",
       "      <td>6.18</td>\n",
       "    </tr>\n",
       "    <tr>\n",
       "      <th>16197</th>\n",
       "      <td>33443</td>\n",
       "      <td>Luo Xiao Hei Zhan Ji</td>\n",
       "      <td>The story begins on a rainy night, when a home...</td>\n",
       "      <td>['Comedy', 'Supernatural']</td>\n",
       "      <td>Mar 17, 2011 to ?</td>\n",
       "      <td>NaN</td>\n",
       "      <td>1054</td>\n",
       "      <td>9404</td>\n",
       "      <td>3039.0</td>\n",
       "      <td>7.19</td>\n",
       "    </tr>\n",
       "    <tr>\n",
       "      <th>16265</th>\n",
       "      <td>23539</td>\n",
       "      <td>Gudetama</td>\n",
       "      <td>Gudetama, an egg that is dead to the world and...</td>\n",
       "      <td>['Comedy', 'Kids']</td>\n",
       "      <td>Mar 31, 2014 to ?</td>\n",
       "      <td>NaN</td>\n",
       "      <td>7241</td>\n",
       "      <td>4942</td>\n",
       "      <td>2959.0</td>\n",
       "      <td>7.20</td>\n",
       "    </tr>\n",
       "    <tr>\n",
       "      <th>16311</th>\n",
       "      <td>36064</td>\n",
       "      <td>Fate/Grand Order CMs</td>\n",
       "      <td>Assorted commercials and collaborations for th...</td>\n",
       "      <td>['Action', 'Fantasy']</td>\n",
       "      <td>Dec 27, 2014 to ?</td>\n",
       "      <td>NaN</td>\n",
       "      <td>8180</td>\n",
       "      <td>4714</td>\n",
       "      <td>2910.0</td>\n",
       "      <td>7.21</td>\n",
       "    </tr>\n",
       "  </tbody>\n",
       "</table>\n",
       "<p>543 rows × 10 columns</p>\n",
       "</div>"
      ],
      "text/plain": [
       "         uid                              title  \\\n",
       "104    37822             Douluo Dalu 2nd Season   \n",
       "707       21                          One Piece   \n",
       "781      235               Detective Conan (TV)   \n",
       "1037   39023  Qin Shi Ming Yue: Canghai Hengliu   \n",
       "1052     966                   Crayon Shin-chan   \n",
       "...      ...                                ...   \n",
       "15411   6149           Chibi Maruko-chan (1995)   \n",
       "15489  37968    Kirakira Happy★Hirake! Cocotama   \n",
       "16197  33443               Luo Xiao Hei Zhan Ji   \n",
       "16265  23539                           Gudetama   \n",
       "16311  36064               Fate/Grand Order CMs   \n",
       "\n",
       "                                                synopsis  \\\n",
       "104                        Second part of  Douluo Dalu .   \n",
       "707    Gol D. Roger was known as the \"Pirate King,\" t...   \n",
       "781    Shinichi Kudou, a high school student of astou...   \n",
       "1037                                           Not Known   \n",
       "1052   Just because an anime features a young protago...   \n",
       "...                                                  ...   \n",
       "15411  Momoko Sakura is an elementary school student ...   \n",
       "15489                                          Not Known   \n",
       "16197  The story begins on a rainy night, when a home...   \n",
       "16265  Gudetama, an egg that is dead to the world and...   \n",
       "16311  Assorted commercials and collaborations for th...   \n",
       "\n",
       "                                                   genre  \\\n",
       "104    ['Action', 'Adventure', 'Historical', 'Superna...   \n",
       "707    ['Action', 'Adventure', 'Comedy', 'Super Power...   \n",
       "781    ['Adventure', 'Mystery', 'Comedy', 'Police', '...   \n",
       "1037   ['Action', 'Historical', 'Martial Arts', 'Fant...   \n",
       "1052   ['Slice of Life', 'Comedy', 'Ecchi', 'School',...   \n",
       "...                                                  ...   \n",
       "15411      ['Comedy', 'Kids', 'School', 'Slice of Life']   \n",
       "15489      ['Fantasy', 'Kids', 'Magic', 'Slice of Life']   \n",
       "16197                         ['Comedy', 'Supernatural']   \n",
       "16265                                 ['Comedy', 'Kids']   \n",
       "16311                              ['Action', 'Fantasy']   \n",
       "\n",
       "                             aired  episodes  members  popularity  ranked  \\\n",
       "104               Dec 1, 2018 to ?       NaN     5376        5587   710.0   \n",
       "707              Oct 20, 1999 to ?       NaN   948342          35    86.0   \n",
       "781               Jan 8, 1996 to ?       NaN   196953         545   295.0   \n",
       "1037             Dec 27, 2018 to ?       NaN      553       10761  1051.0   \n",
       "1052             Apr 13, 1992 to ?       NaN    44171        2057  1034.0   \n",
       "...                            ...       ...      ...         ...     ...   \n",
       "15411             Jan 8, 1995 to ?       NaN     2360        7539  2650.0   \n",
       "15489  Sep 6, 2018 to Sep 26, 2019       NaN      405       11486  7626.0   \n",
       "16197            Mar 17, 2011 to ?       NaN     1054        9404  3039.0   \n",
       "16265            Mar 31, 2014 to ?       NaN     7241        4942  2959.0   \n",
       "16311            Dec 27, 2014 to ?       NaN     8180        4714  2910.0   \n",
       "\n",
       "       score  \n",
       "104     7.90  \n",
       "707     8.53  \n",
       "781     8.24  \n",
       "1037    7.74  \n",
       "1052    7.74  \n",
       "...      ...  \n",
       "15411   7.27  \n",
       "15489   6.18  \n",
       "16197   7.19  \n",
       "16265   7.20  \n",
       "16311   7.21  \n",
       "\n",
       "[543 rows x 10 columns]"
      ]
     },
     "execution_count": 24,
     "metadata": {},
     "output_type": "execute_result"
    }
   ],
   "source": [
    "#SIGO CON LA COLUMNA DE EPISODES\n",
    "filas_con_nulos_ep = df_anime.loc[df_anime['episodes'].isnull()]\n",
    "filas_con_nulos_ep"
   ]
  },
  {
   "cell_type": "code",
   "execution_count": 25,
   "metadata": {},
   "outputs": [
    {
     "data": {
      "text/html": [
       "<div>\n",
       "<style scoped>\n",
       "    .dataframe tbody tr th:only-of-type {\n",
       "        vertical-align: middle;\n",
       "    }\n",
       "\n",
       "    .dataframe tbody tr th {\n",
       "        vertical-align: top;\n",
       "    }\n",
       "\n",
       "    .dataframe thead th {\n",
       "        text-align: right;\n",
       "    }\n",
       "</style>\n",
       "<table border=\"1\" class=\"dataframe\">\n",
       "  <thead>\n",
       "    <tr style=\"text-align: right;\">\n",
       "      <th></th>\n",
       "      <th>uid</th>\n",
       "      <th>episodes</th>\n",
       "      <th>members</th>\n",
       "      <th>popularity</th>\n",
       "      <th>ranked</th>\n",
       "      <th>score</th>\n",
       "    </tr>\n",
       "  </thead>\n",
       "  <tbody>\n",
       "    <tr>\n",
       "      <th>uid</th>\n",
       "      <td>1.000000</td>\n",
       "      <td>-0.076441</td>\n",
       "      <td>-0.069158</td>\n",
       "      <td>0.370434</td>\n",
       "      <td>0.392848</td>\n",
       "      <td>-0.246831</td>\n",
       "    </tr>\n",
       "    <tr>\n",
       "      <th>episodes</th>\n",
       "      <td>-0.076441</td>\n",
       "      <td>1.000000</td>\n",
       "      <td>0.054270</td>\n",
       "      <td>-0.026275</td>\n",
       "      <td>-0.048939</td>\n",
       "      <td>0.062224</td>\n",
       "    </tr>\n",
       "    <tr>\n",
       "      <th>members</th>\n",
       "      <td>-0.069158</td>\n",
       "      <td>0.054270</td>\n",
       "      <td>1.000000</td>\n",
       "      <td>-0.439963</td>\n",
       "      <td>-0.387260</td>\n",
       "      <td>0.391057</td>\n",
       "    </tr>\n",
       "    <tr>\n",
       "      <th>popularity</th>\n",
       "      <td>0.370434</td>\n",
       "      <td>-0.026275</td>\n",
       "      <td>-0.439963</td>\n",
       "      <td>1.000000</td>\n",
       "      <td>0.843104</td>\n",
       "      <td>-0.662306</td>\n",
       "    </tr>\n",
       "    <tr>\n",
       "      <th>ranked</th>\n",
       "      <td>0.392848</td>\n",
       "      <td>-0.048939</td>\n",
       "      <td>-0.387260</td>\n",
       "      <td>0.843104</td>\n",
       "      <td>1.000000</td>\n",
       "      <td>-0.803629</td>\n",
       "    </tr>\n",
       "    <tr>\n",
       "      <th>score</th>\n",
       "      <td>-0.246831</td>\n",
       "      <td>0.062224</td>\n",
       "      <td>0.391057</td>\n",
       "      <td>-0.662306</td>\n",
       "      <td>-0.803629</td>\n",
       "      <td>1.000000</td>\n",
       "    </tr>\n",
       "  </tbody>\n",
       "</table>\n",
       "</div>"
      ],
      "text/plain": [
       "                 uid  episodes   members  popularity    ranked     score\n",
       "uid         1.000000 -0.076441 -0.069158    0.370434  0.392848 -0.246831\n",
       "episodes   -0.076441  1.000000  0.054270   -0.026275 -0.048939  0.062224\n",
       "members    -0.069158  0.054270  1.000000   -0.439963 -0.387260  0.391057\n",
       "popularity  0.370434 -0.026275 -0.439963    1.000000  0.843104 -0.662306\n",
       "ranked      0.392848 -0.048939 -0.387260    0.843104  1.000000 -0.803629\n",
       "score      -0.246831  0.062224  0.391057   -0.662306 -0.803629  1.000000"
      ]
     },
     "execution_count": 25,
     "metadata": {},
     "output_type": "execute_result"
    }
   ],
   "source": [
    "#CREO UNA MATRIZ DE CORRELACION PARA VER QUE TAN RELACIONADAS ESTAN LAS COLUMNAS Y DECIDIR SI PUEDO ELIMINAR 'RANKED'\n",
    "corr_matrix = df_anime.corr()\n",
    "corr_matrix"
   ]
  },
  {
   "cell_type": "code",
   "execution_count": 26,
   "metadata": {},
   "outputs": [
    {
     "data": {
      "image/png": "[encoded data removed]",
      "text/plain": [
       "<Figure size 1000x800 with 2 Axes>"
      ]
     },
     "metadata": {},
     "output_type": "display_data"
    }
   ],
   "source": [
    "mascara=np.zeros_like(corr_matrix)\n",
    "mascara[np.triu_indices_from(mascara) ]=True \n",
    "\n",
    "fig , ax=plt.subplots(figsize=(10,8))\n",
    "ax= sns.heatmap(corr_matrix, mask=mascara, annot=True, cmap= 'BuPu')"
   ]
  },
  {
   "cell_type": "code",
   "execution_count": 27,
   "metadata": {},
   "outputs": [
    {
     "data": {
      "text/html": [
       "<div>\n",
       "<style scoped>\n",
       "    .dataframe tbody tr th:only-of-type {\n",
       "        vertical-align: middle;\n",
       "    }\n",
       "\n",
       "    .dataframe tbody tr th {\n",
       "        vertical-align: top;\n",
       "    }\n",
       "\n",
       "    .dataframe thead th {\n",
       "        text-align: right;\n",
       "    }\n",
       "</style>\n",
       "<table border=\"1\" class=\"dataframe\">\n",
       "  <thead>\n",
       "    <tr style=\"text-align: right;\">\n",
       "      <th></th>\n",
       "      <th>uid</th>\n",
       "      <th>title</th>\n",
       "      <th>synopsis</th>\n",
       "      <th>genre</th>\n",
       "      <th>aired</th>\n",
       "      <th>episodes</th>\n",
       "      <th>members</th>\n",
       "      <th>popularity</th>\n",
       "      <th>score</th>\n",
       "    </tr>\n",
       "  </thead>\n",
       "  <tbody>\n",
       "    <tr>\n",
       "      <th>0</th>\n",
       "      <td>28891</td>\n",
       "      <td>Haikyuu!! Second Season</td>\n",
       "      <td>Following their participation at the Inter-Hig...</td>\n",
       "      <td>['Comedy', 'Sports', 'Drama', 'School', 'Shoun...</td>\n",
       "      <td>Oct 4, 2015 to Mar 27, 2016</td>\n",
       "      <td>25.0</td>\n",
       "      <td>489888</td>\n",
       "      <td>141</td>\n",
       "      <td>8.82</td>\n",
       "    </tr>\n",
       "    <tr>\n",
       "      <th>1</th>\n",
       "      <td>23273</td>\n",
       "      <td>Shigatsu wa Kimi no Uso</td>\n",
       "      <td>Music accompanies the path of the human metron...</td>\n",
       "      <td>['Drama', 'Music', 'Romance', 'School', 'Shoun...</td>\n",
       "      <td>Oct 10, 2014 to Mar 20, 2015</td>\n",
       "      <td>22.0</td>\n",
       "      <td>995473</td>\n",
       "      <td>28</td>\n",
       "      <td>8.83</td>\n",
       "    </tr>\n",
       "    <tr>\n",
       "      <th>2</th>\n",
       "      <td>34599</td>\n",
       "      <td>Made in Abyss</td>\n",
       "      <td>The Abyss—a gaping chasm stretching down into ...</td>\n",
       "      <td>['Sci-Fi', 'Adventure', 'Mystery', 'Drama', 'F...</td>\n",
       "      <td>Jul 7, 2017 to Sep 29, 2017</td>\n",
       "      <td>13.0</td>\n",
       "      <td>581663</td>\n",
       "      <td>98</td>\n",
       "      <td>8.83</td>\n",
       "    </tr>\n",
       "    <tr>\n",
       "      <th>3</th>\n",
       "      <td>5114</td>\n",
       "      <td>Fullmetal Alchemist: Brotherhood</td>\n",
       "      <td>\"In order for something to be obtained, someth...</td>\n",
       "      <td>['Action', 'Military', 'Adventure', 'Comedy', ...</td>\n",
       "      <td>Apr 5, 2009 to Jul 4, 2010</td>\n",
       "      <td>64.0</td>\n",
       "      <td>1615084</td>\n",
       "      <td>4</td>\n",
       "      <td>9.23</td>\n",
       "    </tr>\n",
       "    <tr>\n",
       "      <th>4</th>\n",
       "      <td>31758</td>\n",
       "      <td>Kizumonogatari III: Reiketsu-hen</td>\n",
       "      <td>After helping revive the legendary vampire Kis...</td>\n",
       "      <td>['Action', 'Mystery', 'Supernatural', 'Vampire']</td>\n",
       "      <td>Jan 6, 2017</td>\n",
       "      <td>1.0</td>\n",
       "      <td>214621</td>\n",
       "      <td>502</td>\n",
       "      <td>8.83</td>\n",
       "    </tr>\n",
       "  </tbody>\n",
       "</table>\n",
       "</div>"
      ],
      "text/plain": [
       "     uid                             title  \\\n",
       "0  28891           Haikyuu!! Second Season   \n",
       "1  23273           Shigatsu wa Kimi no Uso   \n",
       "2  34599                     Made in Abyss   \n",
       "3   5114  Fullmetal Alchemist: Brotherhood   \n",
       "4  31758  Kizumonogatari III: Reiketsu-hen   \n",
       "\n",
       "                                            synopsis  \\\n",
       "0  Following their participation at the Inter-Hig...   \n",
       "1  Music accompanies the path of the human metron...   \n",
       "2  The Abyss—a gaping chasm stretching down into ...   \n",
       "3  \"In order for something to be obtained, someth...   \n",
       "4  After helping revive the legendary vampire Kis...   \n",
       "\n",
       "                                               genre  \\\n",
       "0  ['Comedy', 'Sports', 'Drama', 'School', 'Shoun...   \n",
       "1  ['Drama', 'Music', 'Romance', 'School', 'Shoun...   \n",
       "2  ['Sci-Fi', 'Adventure', 'Mystery', 'Drama', 'F...   \n",
       "3  ['Action', 'Military', 'Adventure', 'Comedy', ...   \n",
       "4   ['Action', 'Mystery', 'Supernatural', 'Vampire']   \n",
       "\n",
       "                          aired  episodes  members  popularity  score  \n",
       "0   Oct 4, 2015 to Mar 27, 2016      25.0   489888         141   8.82  \n",
       "1  Oct 10, 2014 to Mar 20, 2015      22.0   995473          28   8.83  \n",
       "2   Jul 7, 2017 to Sep 29, 2017      13.0   581663          98   8.83  \n",
       "3    Apr 5, 2009 to Jul 4, 2010      64.0  1615084           4   9.23  \n",
       "4                   Jan 6, 2017       1.0   214621         502   8.83  "
      ]
     },
     "execution_count": 27,
     "metadata": {},
     "output_type": "execute_result"
    }
   ],
   "source": [
    "#EL MAPA DE CALOR ME PERMITE VER CON MAYOR VISUALIZACION SI HAY MULTICOLINEALIDAD ENTRE LAS COLUMNAS\n",
    "#DECIDO ELIMINAR RANKED YA QUE DE IGUAL FORMA ESTA COLUMNA PRESENTA 3212 NANs\n",
    "df_anime=df_anime.drop(['ranked'], axis=1)\n",
    "df_anime.head()"
   ]
  },
  {
   "cell_type": "code",
   "execution_count": 28,
   "metadata": {},
   "outputs": [
    {
     "name": "stdout",
     "output_type": "stream",
     "text": [
      "Length of predictions:  404\n",
      "Length of locations:  404\n"
     ]
    },
    {
     "data": {
      "text/html": [
       "<div>\n",
       "<style scoped>\n",
       "    .dataframe tbody tr th:only-of-type {\n",
       "        vertical-align: middle;\n",
       "    }\n",
       "\n",
       "    .dataframe tbody tr th {\n",
       "        vertical-align: top;\n",
       "    }\n",
       "\n",
       "    .dataframe thead th {\n",
       "        text-align: right;\n",
       "    }\n",
       "</style>\n",
       "<table border=\"1\" class=\"dataframe\">\n",
       "  <thead>\n",
       "    <tr style=\"text-align: right;\">\n",
       "      <th></th>\n",
       "      <th>uid</th>\n",
       "      <th>title</th>\n",
       "      <th>synopsis</th>\n",
       "      <th>genre</th>\n",
       "      <th>aired</th>\n",
       "      <th>episodes</th>\n",
       "      <th>members</th>\n",
       "      <th>popularity</th>\n",
       "      <th>score</th>\n",
       "    </tr>\n",
       "  </thead>\n",
       "  <tbody>\n",
       "    <tr>\n",
       "      <th>0</th>\n",
       "      <td>28891</td>\n",
       "      <td>Haikyuu!! Second Season</td>\n",
       "      <td>Following their participation at the Inter-Hig...</td>\n",
       "      <td>['Comedy', 'Sports', 'Drama', 'School', 'Shoun...</td>\n",
       "      <td>Oct 4, 2015 to Mar 27, 2016</td>\n",
       "      <td>25.0</td>\n",
       "      <td>489888</td>\n",
       "      <td>141</td>\n",
       "      <td>8.82</td>\n",
       "    </tr>\n",
       "    <tr>\n",
       "      <th>1</th>\n",
       "      <td>23273</td>\n",
       "      <td>Shigatsu wa Kimi no Uso</td>\n",
       "      <td>Music accompanies the path of the human metron...</td>\n",
       "      <td>['Drama', 'Music', 'Romance', 'School', 'Shoun...</td>\n",
       "      <td>Oct 10, 2014 to Mar 20, 2015</td>\n",
       "      <td>22.0</td>\n",
       "      <td>995473</td>\n",
       "      <td>28</td>\n",
       "      <td>8.83</td>\n",
       "    </tr>\n",
       "    <tr>\n",
       "      <th>2</th>\n",
       "      <td>34599</td>\n",
       "      <td>Made in Abyss</td>\n",
       "      <td>The Abyss—a gaping chasm stretching down into ...</td>\n",
       "      <td>['Sci-Fi', 'Adventure', 'Mystery', 'Drama', 'F...</td>\n",
       "      <td>Jul 7, 2017 to Sep 29, 2017</td>\n",
       "      <td>13.0</td>\n",
       "      <td>581663</td>\n",
       "      <td>98</td>\n",
       "      <td>8.83</td>\n",
       "    </tr>\n",
       "    <tr>\n",
       "      <th>3</th>\n",
       "      <td>5114</td>\n",
       "      <td>Fullmetal Alchemist: Brotherhood</td>\n",
       "      <td>\"In order for something to be obtained, someth...</td>\n",
       "      <td>['Action', 'Military', 'Adventure', 'Comedy', ...</td>\n",
       "      <td>Apr 5, 2009 to Jul 4, 2010</td>\n",
       "      <td>64.0</td>\n",
       "      <td>1615084</td>\n",
       "      <td>4</td>\n",
       "      <td>9.23</td>\n",
       "    </tr>\n",
       "    <tr>\n",
       "      <th>4</th>\n",
       "      <td>31758</td>\n",
       "      <td>Kizumonogatari III: Reiketsu-hen</td>\n",
       "      <td>After helping revive the legendary vampire Kis...</td>\n",
       "      <td>['Action', 'Mystery', 'Supernatural', 'Vampire']</td>\n",
       "      <td>Jan 6, 2017</td>\n",
       "      <td>1.0</td>\n",
       "      <td>214621</td>\n",
       "      <td>502</td>\n",
       "      <td>8.83</td>\n",
       "    </tr>\n",
       "  </tbody>\n",
       "</table>\n",
       "</div>"
      ],
      "text/plain": [
       "     uid                             title  \\\n",
       "0  28891           Haikyuu!! Second Season   \n",
       "1  23273           Shigatsu wa Kimi no Uso   \n",
       "2  34599                     Made in Abyss   \n",
       "3   5114  Fullmetal Alchemist: Brotherhood   \n",
       "4  31758  Kizumonogatari III: Reiketsu-hen   \n",
       "\n",
       "                                            synopsis  \\\n",
       "0  Following their participation at the Inter-Hig...   \n",
       "1  Music accompanies the path of the human metron...   \n",
       "2  The Abyss—a gaping chasm stretching down into ...   \n",
       "3  \"In order for something to be obtained, someth...   \n",
       "4  After helping revive the legendary vampire Kis...   \n",
       "\n",
       "                                               genre  \\\n",
       "0  ['Comedy', 'Sports', 'Drama', 'School', 'Shoun...   \n",
       "1  ['Drama', 'Music', 'Romance', 'School', 'Shoun...   \n",
       "2  ['Sci-Fi', 'Adventure', 'Mystery', 'Drama', 'F...   \n",
       "3  ['Action', 'Military', 'Adventure', 'Comedy', ...   \n",
       "4   ['Action', 'Mystery', 'Supernatural', 'Vampire']   \n",
       "\n",
       "                          aired  episodes  members  popularity  score  \n",
       "0   Oct 4, 2015 to Mar 27, 2016      25.0   489888         141   8.82  \n",
       "1  Oct 10, 2014 to Mar 20, 2015      22.0   995473          28   8.83  \n",
       "2   Jul 7, 2017 to Sep 29, 2017      13.0   581663          98   8.83  \n",
       "3    Apr 5, 2009 to Jul 4, 2010      64.0  1615084           4   9.23  \n",
       "4                   Jan 6, 2017       1.0   214621         502   8.83  "
      ]
     },
     "execution_count": 28,
     "metadata": {},
     "output_type": "execute_result"
    }
   ],
   "source": [
    "#PARA TRATAR LOS NULOS DE 'score' DECIDO APLICAR REGRESION LINEAL\n",
    "\n",
    "X = df_anime[~df_anime.score.isnull()][['members', 'popularity']]\n",
    "y = df_anime[~df_anime.score.isnull()]['score']\n",
    "\n",
    "X_nulls = df_anime[df_anime.score.isnull()][['members', 'popularity']]\n",
    "\n",
    "model = LinearRegression().fit(X,y)\n",
    "score_pred = model.predict(X_nulls)\n",
    "score_pred  = np.round(score_pred )\n",
    "print(\"Length of predictions: \",len(score_pred ))\n",
    "\n",
    "locations = list(df_anime[df_anime['score'].isnull() == True].index)\n",
    "print(\"Length of locations: \",len(locations))\n",
    "\n",
    "list(df_anime.columns)\n",
    "col = list(df_anime.columns).index('score')\n",
    "\n",
    "df_anime.loc[df_anime.score.isnull(),'score'] = score_pred \n",
    "\n",
    "df_anime.head()"
   ]
  },
  {
   "cell_type": "code",
   "execution_count": 29,
   "metadata": {},
   "outputs": [
    {
     "data": {
      "text/plain": [
       "uid             0\n",
       "title           0\n",
       "synopsis        0\n",
       "genre           0\n",
       "aired           0\n",
       "episodes      543\n",
       "members         0\n",
       "popularity      0\n",
       "score           0\n",
       "dtype: int64"
      ]
     },
     "execution_count": 29,
     "metadata": {},
     "output_type": "execute_result"
    }
   ],
   "source": [
    "#VERIFICO QUE NO HAYA NULOS EN 'score'\n",
    "df_anime.isnull().sum()"
   ]
  },
  {
   "cell_type": "code",
   "execution_count": 30,
   "metadata": {},
   "outputs": [],
   "source": [
    "#TRATAMOS LOS NANs CON EL PROMEDIO EN LA COLUMNA 'episodes'\n",
    "ep_mean=np.mean(df_anime['episodes'])\n",
    "df_anime['episodes']=df_anime['episodes'].fillna(ep_mean)\n"
   ]
  },
  {
   "cell_type": "code",
   "execution_count": 31,
   "metadata": {},
   "outputs": [
    {
     "data": {
      "text/plain": [
       "uid           0\n",
       "title         0\n",
       "synopsis      0\n",
       "genre         0\n",
       "aired         0\n",
       "episodes      0\n",
       "members       0\n",
       "popularity    0\n",
       "score         0\n",
       "dtype: int64"
      ]
     },
     "execution_count": 31,
     "metadata": {},
     "output_type": "execute_result"
    }
   ],
   "source": [
    "df_anime.isnull().sum()"
   ]
  },
  {
   "attachments": {},
   "cell_type": "markdown",
   "metadata": {},
   "source": [
    "EDA DE LA DATA "
   ]
  },
  {
   "cell_type": "code",
   "execution_count": 32,
   "metadata": {},
   "outputs": [
    {
     "data": {
      "text/html": [
       "<style type=\"text/css\">\n",
       "#T_76d30_row0_col0, #T_76d30_row0_col1, #T_76d30_row0_col2, #T_76d30_row0_col3, #T_76d30_row0_col4, #T_76d30_row0_col5, #T_76d30_row0_col6, #T_76d30_row0_col7, #T_76d30_row1_col0, #T_76d30_row1_col1, #T_76d30_row1_col2, #T_76d30_row1_col3, #T_76d30_row1_col4, #T_76d30_row1_col5, #T_76d30_row1_col6, #T_76d30_row1_col7, #T_76d30_row2_col0, #T_76d30_row2_col1, #T_76d30_row2_col2, #T_76d30_row2_col3, #T_76d30_row2_col4, #T_76d30_row2_col5, #T_76d30_row2_col6, #T_76d30_row2_col7, #T_76d30_row3_col0, #T_76d30_row3_col1, #T_76d30_row3_col2, #T_76d30_row3_col3, #T_76d30_row3_col4, #T_76d30_row3_col5, #T_76d30_row3_col6, #T_76d30_row3_col7, #T_76d30_row4_col0, #T_76d30_row4_col1, #T_76d30_row4_col2, #T_76d30_row4_col3, #T_76d30_row4_col4, #T_76d30_row4_col5, #T_76d30_row4_col6, #T_76d30_row4_col7 {\n",
       "  background-color: #9966ff;\n",
       "  color: white;\n",
       "  border: 1.5px  solid black;\n",
       "}\n",
       "</style>\n",
       "<table id=\"T_76d30\">\n",
       "  <thead>\n",
       "    <tr>\n",
       "      <th class=\"blank level0\" >&nbsp;</th>\n",
       "      <th id=\"T_76d30_level0_col0\" class=\"col_heading level0 col0\" >count</th>\n",
       "      <th id=\"T_76d30_level0_col1\" class=\"col_heading level0 col1\" >mean</th>\n",
       "      <th id=\"T_76d30_level0_col2\" class=\"col_heading level0 col2\" >std</th>\n",
       "      <th id=\"T_76d30_level0_col3\" class=\"col_heading level0 col3\" >min</th>\n",
       "      <th id=\"T_76d30_level0_col4\" class=\"col_heading level0 col4\" >25%</th>\n",
       "      <th id=\"T_76d30_level0_col5\" class=\"col_heading level0 col5\" >50%</th>\n",
       "      <th id=\"T_76d30_level0_col6\" class=\"col_heading level0 col6\" >75%</th>\n",
       "      <th id=\"T_76d30_level0_col7\" class=\"col_heading level0 col7\" >max</th>\n",
       "    </tr>\n",
       "  </thead>\n",
       "  <tbody>\n",
       "    <tr>\n",
       "      <th id=\"T_76d30_level0_row0\" class=\"row_heading level0 row0\" >uid</th>\n",
       "      <td id=\"T_76d30_row0_col0\" class=\"data row0 col0\" >16368.000000</td>\n",
       "      <td id=\"T_76d30_row0_col1\" class=\"data row0 col1\" >19920.474707</td>\n",
       "      <td id=\"T_76d30_row0_col2\" class=\"data row0 col2\" >14227.234351</td>\n",
       "      <td id=\"T_76d30_row0_col3\" class=\"data row0 col3\" >1.000000</td>\n",
       "      <td id=\"T_76d30_row0_col4\" class=\"data row0 col4\" >5307.750000</td>\n",
       "      <td id=\"T_76d30_row0_col5\" class=\"data row0 col5\" >19952.000000</td>\n",
       "      <td id=\"T_76d30_row0_col6\" class=\"data row0 col6\" >34178.250000</td>\n",
       "      <td id=\"T_76d30_row0_col7\" class=\"data row0 col7\" >40960.000000</td>\n",
       "    </tr>\n",
       "    <tr>\n",
       "      <th id=\"T_76d30_level0_row1\" class=\"row_heading level0 row1\" >episodes</th>\n",
       "      <td id=\"T_76d30_row1_col0\" class=\"data row1 col0\" >16368.000000</td>\n",
       "      <td id=\"T_76d30_row1_col1\" class=\"data row1 col1\" >11.658578</td>\n",
       "      <td id=\"T_76d30_row1_col2\" class=\"data row1 col2\" >48.036369</td>\n",
       "      <td id=\"T_76d30_row1_col3\" class=\"data row1 col3\" >1.000000</td>\n",
       "      <td id=\"T_76d30_row1_col4\" class=\"data row1 col4\" >1.000000</td>\n",
       "      <td id=\"T_76d30_row1_col5\" class=\"data row1 col5\" >2.000000</td>\n",
       "      <td id=\"T_76d30_row1_col6\" class=\"data row1 col6\" >12.000000</td>\n",
       "      <td id=\"T_76d30_row1_col7\" class=\"data row1 col7\" >3057.000000</td>\n",
       "    </tr>\n",
       "    <tr>\n",
       "      <th id=\"T_76d30_level0_row2\" class=\"row_heading level0 row2\" >members</th>\n",
       "      <td id=\"T_76d30_row2_col0\" class=\"data row2 col0\" >16368.000000</td>\n",
       "      <td id=\"T_76d30_row2_col1\" class=\"data row2 col1\" >27665.055718</td>\n",
       "      <td id=\"T_76d30_row2_col2\" class=\"data row2 col2\" >93646.766247</td>\n",
       "      <td id=\"T_76d30_row2_col3\" class=\"data row2 col3\" >25.000000</td>\n",
       "      <td id=\"T_76d30_row2_col4\" class=\"data row2 col4\" >297.000000</td>\n",
       "      <td id=\"T_76d30_row2_col5\" class=\"data row2 col5\" >1879.000000</td>\n",
       "      <td id=\"T_76d30_row2_col6\" class=\"data row2 col6\" >11901.000000</td>\n",
       "      <td id=\"T_76d30_row2_col7\" class=\"data row2 col7\" >1871043.000000</td>\n",
       "    </tr>\n",
       "    <tr>\n",
       "      <th id=\"T_76d30_level0_row3\" class=\"row_heading level0 row3\" >popularity</th>\n",
       "      <td id=\"T_76d30_row3_col0\" class=\"data row3 col0\" >16368.000000</td>\n",
       "      <td id=\"T_76d30_row3_col1\" class=\"data row3 col1\" >8131.919599</td>\n",
       "      <td id=\"T_76d30_row3_col2\" class=\"data row3 col2\" >4714.683351</td>\n",
       "      <td id=\"T_76d30_row3_col3\" class=\"data row3 col3\" >1.000000</td>\n",
       "      <td id=\"T_76d30_row3_col4\" class=\"data row3 col4\" >4042.500000</td>\n",
       "      <td id=\"T_76d30_row3_col5\" class=\"data row3 col5\" >8115.000000</td>\n",
       "      <td id=\"T_76d30_row3_col6\" class=\"data row3 col6\" >12208.250000</td>\n",
       "      <td id=\"T_76d30_row3_col7\" class=\"data row3 col7\" >16338.000000</td>\n",
       "    </tr>\n",
       "    <tr>\n",
       "      <th id=\"T_76d30_level0_row4\" class=\"row_heading level0 row4\" >score</th>\n",
       "      <td id=\"T_76d30_row4_col0\" class=\"data row4 col0\" >16368.000000</td>\n",
       "      <td id=\"T_76d30_row4_col1\" class=\"data row4 col1\" >6.350335</td>\n",
       "      <td id=\"T_76d30_row4_col2\" class=\"data row4 col2\" >0.968135</td>\n",
       "      <td id=\"T_76d30_row4_col3\" class=\"data row4 col3\" >1.250000</td>\n",
       "      <td id=\"T_76d30_row4_col4\" class=\"data row4 col4\" >5.710000</td>\n",
       "      <td id=\"T_76d30_row4_col5\" class=\"data row4 col5\" >6.370000</td>\n",
       "      <td id=\"T_76d30_row4_col6\" class=\"data row4 col6\" >7.030000</td>\n",
       "      <td id=\"T_76d30_row4_col7\" class=\"data row4 col7\" >9.230000</td>\n",
       "    </tr>\n",
       "  </tbody>\n",
       "</table>\n"
      ],
      "text/plain": [
       "<pandas.io.formats.style.Styler at 0x2874cae8820>"
      ]
     },
     "execution_count": 32,
     "metadata": {},
     "output_type": "execute_result"
    }
   ],
   "source": [
    "#APLICO DESCRIBE PARAA VER LA INFORMACION ESTADISTICA DE LA DATA\n",
    "df_anime.describe().T.style.set_properties(**{\"background-color\": \"#9966ff\",\"color\":\"white\",\"border\": \"1.5px  solid black\"})"
   ]
  },
  {
   "cell_type": "code",
   "execution_count": 33,
   "metadata": {},
   "outputs": [
    {
     "data": {
      "text/html": [
       "<style type=\"text/css\">\n",
       "#T_14f8d_row0_col0, #T_14f8d_row0_col1, #T_14f8d_row0_col2, #T_14f8d_row0_col3, #T_14f8d_row1_col0, #T_14f8d_row1_col1, #T_14f8d_row1_col2, #T_14f8d_row1_col3, #T_14f8d_row2_col0, #T_14f8d_row2_col1, #T_14f8d_row2_col2, #T_14f8d_row2_col3, #T_14f8d_row3_col0, #T_14f8d_row3_col1, #T_14f8d_row3_col2, #T_14f8d_row3_col3 {\n",
       "  background-color: #9966ff;\n",
       "  color: white;\n",
       "  border: 1.5px  solid black;\n",
       "}\n",
       "</style>\n",
       "<table id=\"T_14f8d\">\n",
       "  <thead>\n",
       "    <tr>\n",
       "      <th class=\"blank level0\" >&nbsp;</th>\n",
       "      <th id=\"T_14f8d_level0_col0\" class=\"col_heading level0 col0\" >count</th>\n",
       "      <th id=\"T_14f8d_level0_col1\" class=\"col_heading level0 col1\" >unique</th>\n",
       "      <th id=\"T_14f8d_level0_col2\" class=\"col_heading level0 col2\" >top</th>\n",
       "      <th id=\"T_14f8d_level0_col3\" class=\"col_heading level0 col3\" >freq</th>\n",
       "    </tr>\n",
       "  </thead>\n",
       "  <tbody>\n",
       "    <tr>\n",
       "      <th id=\"T_14f8d_level0_row0\" class=\"row_heading level0 row0\" >title</th>\n",
       "      <td id=\"T_14f8d_row0_col0\" class=\"data row0 col0\" >16368</td>\n",
       "      <td id=\"T_14f8d_row0_col1\" class=\"data row0 col1\" >16214</td>\n",
       "      <td id=\"T_14f8d_row0_col2\" class=\"data row0 col2\" >3-gatsu no Lion: Ugoku! Nya Shogi</td>\n",
       "      <td id=\"T_14f8d_row0_col3\" class=\"data row0 col3\" >2</td>\n",
       "    </tr>\n",
       "    <tr>\n",
       "      <th id=\"T_14f8d_level0_row1\" class=\"row_heading level0 row1\" >synopsis</th>\n",
       "      <td id=\"T_14f8d_row1_col0\" class=\"data row1 col0\" >16368</td>\n",
       "      <td id=\"T_14f8d_row1_col1\" class=\"data row1 col1\" >15195</td>\n",
       "      <td id=\"T_14f8d_row1_col2\" class=\"data row1 col2\" >Not Known</td>\n",
       "      <td id=\"T_14f8d_row1_col3\" class=\"data row1 col3\" >785</td>\n",
       "    </tr>\n",
       "    <tr>\n",
       "      <th id=\"T_14f8d_level0_row2\" class=\"row_heading level0 row2\" >genre</th>\n",
       "      <td id=\"T_14f8d_row2_col0\" class=\"data row2 col0\" >16368</td>\n",
       "      <td id=\"T_14f8d_row2_col1\" class=\"data row2 col1\" >4851</td>\n",
       "      <td id=\"T_14f8d_row2_col2\" class=\"data row2 col2\" >['Hentai']</td>\n",
       "      <td id=\"T_14f8d_row2_col3\" class=\"data row2 col3\" >946</td>\n",
       "    </tr>\n",
       "    <tr>\n",
       "      <th id=\"T_14f8d_level0_row3\" class=\"row_heading level0 row3\" >aired</th>\n",
       "      <td id=\"T_14f8d_row3_col0\" class=\"data row3 col0\" >16368</td>\n",
       "      <td id=\"T_14f8d_row3_col1\" class=\"data row3 col1\" >11127</td>\n",
       "      <td id=\"T_14f8d_row3_col2\" class=\"data row3 col2\" >Not available</td>\n",
       "      <td id=\"T_14f8d_row3_col3\" class=\"data row3 col3\" >295</td>\n",
       "    </tr>\n",
       "  </tbody>\n",
       "</table>\n"
      ],
      "text/plain": [
       "<pandas.io.formats.style.Styler at 0x2874c0f05b0>"
      ]
     },
     "execution_count": 33,
     "metadata": {},
     "output_type": "execute_result"
    }
   ],
   "source": [
    "#PARA VOLVER A CONFIRMA SI YA NO HAY FILAS REPETIDAS\n",
    "#HAY VALORES REPETIDOS TODAVIA \n",
    "df_anime.describe(include=object).T.style.set_properties(**{\"background-color\": \"#9966ff\",\"color\":\"white\",\"border\": \"1.5px  solid black\"})"
   ]
  },
  {
   "cell_type": "code",
   "execution_count": 34,
   "metadata": {},
   "outputs": [
    {
     "data": {
      "text/html": [
       "<div>\n",
       "<style scoped>\n",
       "    .dataframe tbody tr th:only-of-type {\n",
       "        vertical-align: middle;\n",
       "    }\n",
       "\n",
       "    .dataframe tbody tr th {\n",
       "        vertical-align: top;\n",
       "    }\n",
       "\n",
       "    .dataframe thead th {\n",
       "        text-align: right;\n",
       "    }\n",
       "</style>\n",
       "<table border=\"1\" class=\"dataframe\">\n",
       "  <thead>\n",
       "    <tr style=\"text-align: right;\">\n",
       "      <th></th>\n",
       "      <th>uid</th>\n",
       "      <th>title</th>\n",
       "      <th>synopsis</th>\n",
       "      <th>genre</th>\n",
       "      <th>aired</th>\n",
       "      <th>episodes</th>\n",
       "      <th>members</th>\n",
       "      <th>popularity</th>\n",
       "      <th>score</th>\n",
       "    </tr>\n",
       "  </thead>\n",
       "  <tbody>\n",
       "    <tr>\n",
       "      <th>1099</th>\n",
       "      <td>38154</td>\n",
       "      <td>3-gatsu no Lion: Ugoku! Nya Shogi</td>\n",
       "      <td>Not Known</td>\n",
       "      <td>['Game']</td>\n",
       "      <td>Jan 25, 2017 to Aug 23, 2017</td>\n",
       "      <td>10.0</td>\n",
       "      <td>907</td>\n",
       "      <td>9789</td>\n",
       "      <td>6.14</td>\n",
       "    </tr>\n",
       "    <tr>\n",
       "      <th>15530</th>\n",
       "      <td>38154</td>\n",
       "      <td>3-gatsu no Lion: Ugoku! Nya Shogi</td>\n",
       "      <td>Not Known</td>\n",
       "      <td>['Game']</td>\n",
       "      <td>Jan 25, 2017 to Aug 23, 2017</td>\n",
       "      <td>10.0</td>\n",
       "      <td>906</td>\n",
       "      <td>9789</td>\n",
       "      <td>6.14</td>\n",
       "    </tr>\n",
       "  </tbody>\n",
       "</table>\n",
       "</div>"
      ],
      "text/plain": [
       "         uid                              title   synopsis     genre  \\\n",
       "1099   38154  3-gatsu no Lion: Ugoku! Nya Shogi  Not Known  ['Game']   \n",
       "15530  38154  3-gatsu no Lion: Ugoku! Nya Shogi  Not Known  ['Game']   \n",
       "\n",
       "                              aired  episodes  members  popularity  score  \n",
       "1099   Jan 25, 2017 to Aug 23, 2017      10.0      907        9789   6.14  \n",
       "15530  Jan 25, 2017 to Aug 23, 2017      10.0      906        9789   6.14  "
      ]
     },
     "execution_count": 34,
     "metadata": {},
     "output_type": "execute_result"
    }
   ],
   "source": [
    "#VERIFICO LA INFORMACION QUE SE REPITE \n",
    "df_anime[df_anime['title']=='3-gatsu no Lion: Ugoku! Nya Shogi']\n",
    "\n",
    "#LAS FILAS SE PARECEN EN LA MAYORIA DE DATOS PERO SE DIFERENCIAN EN 'members'"
   ]
  },
  {
   "cell_type": "code",
   "execution_count": 35,
   "metadata": {},
   "outputs": [
    {
     "data": {
      "text/html": [
       "<div>\n",
       "<style scoped>\n",
       "    .dataframe tbody tr th:only-of-type {\n",
       "        vertical-align: middle;\n",
       "    }\n",
       "\n",
       "    .dataframe tbody tr th {\n",
       "        vertical-align: top;\n",
       "    }\n",
       "\n",
       "    .dataframe thead th {\n",
       "        text-align: right;\n",
       "    }\n",
       "</style>\n",
       "<table border=\"1\" class=\"dataframe\">\n",
       "  <thead>\n",
       "    <tr style=\"text-align: right;\">\n",
       "      <th></th>\n",
       "      <th>uid</th>\n",
       "      <th>title</th>\n",
       "      <th>synopsis</th>\n",
       "      <th>genre</th>\n",
       "      <th>aired</th>\n",
       "      <th>episodes</th>\n",
       "      <th>members</th>\n",
       "      <th>popularity</th>\n",
       "      <th>score</th>\n",
       "    </tr>\n",
       "  </thead>\n",
       "  <tbody>\n",
       "    <tr>\n",
       "      <th>2714</th>\n",
       "      <td>2990</td>\n",
       "      <td>Mini Skirt Gakuen</td>\n",
       "      <td>Under the uniforms of this girls volleyball te...</td>\n",
       "      <td>['Hentai']</td>\n",
       "      <td>Dec 21, 2001</td>\n",
       "      <td>1.0</td>\n",
       "      <td>1054</td>\n",
       "      <td>9399</td>\n",
       "      <td>4.44</td>\n",
       "    </tr>\n",
       "    <tr>\n",
       "      <th>3069</th>\n",
       "      <td>2990</td>\n",
       "      <td>Mini Skirt Gakuen</td>\n",
       "      <td>Under the uniforms of this girls volleyball te...</td>\n",
       "      <td>['Hentai']</td>\n",
       "      <td>Dec 21, 2001</td>\n",
       "      <td>1.0</td>\n",
       "      <td>1054</td>\n",
       "      <td>9398</td>\n",
       "      <td>4.44</td>\n",
       "    </tr>\n",
       "  </tbody>\n",
       "</table>\n",
       "</div>"
      ],
      "text/plain": [
       "       uid              title  \\\n",
       "2714  2990  Mini Skirt Gakuen   \n",
       "3069  2990  Mini Skirt Gakuen   \n",
       "\n",
       "                                               synopsis       genre  \\\n",
       "2714  Under the uniforms of this girls volleyball te...  ['Hentai']   \n",
       "3069  Under the uniforms of this girls volleyball te...  ['Hentai']   \n",
       "\n",
       "             aired  episodes  members  popularity  score  \n",
       "2714  Dec 21, 2001       1.0     1054        9399   4.44  \n",
       "3069  Dec 21, 2001       1.0     1054        9398   4.44  "
      ]
     },
     "execution_count": 35,
     "metadata": {},
     "output_type": "execute_result"
    }
   ],
   "source": [
    "#EN ESTE CASO SE DIFERENCIAN POR 'popularity'\n",
    "df_anime[df_anime['title']=='Mini Skirt Gakuen']"
   ]
  },
  {
   "cell_type": "code",
   "execution_count": 36,
   "metadata": {},
   "outputs": [],
   "source": [
    "#ELIMINO LAS ENTRADAS REPETIDAS POR 'title'\n",
    "df_anime['title']=df_anime['title'].drop_duplicates()"
   ]
  },
  {
   "cell_type": "code",
   "execution_count": 37,
   "metadata": {},
   "outputs": [
    {
     "data": {
      "text/html": [
       "<style type=\"text/css\">\n",
       "#T_b6f63_row0_col0, #T_b6f63_row0_col1, #T_b6f63_row0_col2, #T_b6f63_row0_col3, #T_b6f63_row1_col0, #T_b6f63_row1_col1, #T_b6f63_row1_col2, #T_b6f63_row1_col3, #T_b6f63_row2_col0, #T_b6f63_row2_col1, #T_b6f63_row2_col2, #T_b6f63_row2_col3, #T_b6f63_row3_col0, #T_b6f63_row3_col1, #T_b6f63_row3_col2, #T_b6f63_row3_col3 {\n",
       "  background-color: #9966ff;\n",
       "  color: white;\n",
       "  border: 1.5px  solid black;\n",
       "}\n",
       "</style>\n",
       "<table id=\"T_b6f63\">\n",
       "  <thead>\n",
       "    <tr>\n",
       "      <th class=\"blank level0\" >&nbsp;</th>\n",
       "      <th id=\"T_b6f63_level0_col0\" class=\"col_heading level0 col0\" >count</th>\n",
       "      <th id=\"T_b6f63_level0_col1\" class=\"col_heading level0 col1\" >unique</th>\n",
       "      <th id=\"T_b6f63_level0_col2\" class=\"col_heading level0 col2\" >top</th>\n",
       "      <th id=\"T_b6f63_level0_col3\" class=\"col_heading level0 col3\" >freq</th>\n",
       "    </tr>\n",
       "  </thead>\n",
       "  <tbody>\n",
       "    <tr>\n",
       "      <th id=\"T_b6f63_level0_row0\" class=\"row_heading level0 row0\" >title</th>\n",
       "      <td id=\"T_b6f63_row0_col0\" class=\"data row0 col0\" >16214</td>\n",
       "      <td id=\"T_b6f63_row0_col1\" class=\"data row0 col1\" >16214</td>\n",
       "      <td id=\"T_b6f63_row0_col2\" class=\"data row0 col2\" >Haikyuu!! Second Season</td>\n",
       "      <td id=\"T_b6f63_row0_col3\" class=\"data row0 col3\" >1</td>\n",
       "    </tr>\n",
       "    <tr>\n",
       "      <th id=\"T_b6f63_level0_row1\" class=\"row_heading level0 row1\" >synopsis</th>\n",
       "      <td id=\"T_b6f63_row1_col0\" class=\"data row1 col0\" >16368</td>\n",
       "      <td id=\"T_b6f63_row1_col1\" class=\"data row1 col1\" >15195</td>\n",
       "      <td id=\"T_b6f63_row1_col2\" class=\"data row1 col2\" >Not Known</td>\n",
       "      <td id=\"T_b6f63_row1_col3\" class=\"data row1 col3\" >785</td>\n",
       "    </tr>\n",
       "    <tr>\n",
       "      <th id=\"T_b6f63_level0_row2\" class=\"row_heading level0 row2\" >genre</th>\n",
       "      <td id=\"T_b6f63_row2_col0\" class=\"data row2 col0\" >16368</td>\n",
       "      <td id=\"T_b6f63_row2_col1\" class=\"data row2 col1\" >4851</td>\n",
       "      <td id=\"T_b6f63_row2_col2\" class=\"data row2 col2\" >['Hentai']</td>\n",
       "      <td id=\"T_b6f63_row2_col3\" class=\"data row2 col3\" >946</td>\n",
       "    </tr>\n",
       "    <tr>\n",
       "      <th id=\"T_b6f63_level0_row3\" class=\"row_heading level0 row3\" >aired</th>\n",
       "      <td id=\"T_b6f63_row3_col0\" class=\"data row3 col0\" >16368</td>\n",
       "      <td id=\"T_b6f63_row3_col1\" class=\"data row3 col1\" >11127</td>\n",
       "      <td id=\"T_b6f63_row3_col2\" class=\"data row3 col2\" >Not available</td>\n",
       "      <td id=\"T_b6f63_row3_col3\" class=\"data row3 col3\" >295</td>\n",
       "    </tr>\n",
       "  </tbody>\n",
       "</table>\n"
      ],
      "text/plain": [
       "<pandas.io.formats.style.Styler at 0x28745533b20>"
      ]
     },
     "execution_count": 37,
     "metadata": {},
     "output_type": "execute_result"
    }
   ],
   "source": [
    "#PARA VOLVER A CONFIRMA SI YA NO HAY FILAS REPETIDAS EN 'title'\n",
    "df_anime.describe(include=object).T.style.set_properties(**{\"background-color\": \"#9966ff\",\"color\":\"white\",\"border\": \"1.5px  solid black\"})"
   ]
  },
  {
   "cell_type": "code",
   "execution_count": 38,
   "metadata": {},
   "outputs": [
    {
     "data": {
      "text/plain": [
       "uid             0\n",
       "title         154\n",
       "synopsis        0\n",
       "genre           0\n",
       "aired           0\n",
       "episodes        0\n",
       "members         0\n",
       "popularity      0\n",
       "score           0\n",
       "dtype: int64"
      ]
     },
     "execution_count": 38,
     "metadata": {},
     "output_type": "execute_result"
    }
   ],
   "source": [
    "#VERIFICO SI HAY NULOS \n",
    "#LOS NULOS SON LOS TITULOS ELIMINADOS PORQUE SE REPITEN\n",
    "df_anime.isnull().sum()"
   ]
  },
  {
   "cell_type": "code",
   "execution_count": 39,
   "metadata": {},
   "outputs": [],
   "source": [
    "#ELIMINO LAS FILAS CON NULOS\n",
    "df_anime=df_anime.dropna()"
   ]
  },
  {
   "cell_type": "code",
   "execution_count": 40,
   "metadata": {},
   "outputs": [
    {
     "data": {
      "text/plain": [
       "uid           0\n",
       "title         0\n",
       "synopsis      0\n",
       "genre         0\n",
       "aired         0\n",
       "episodes      0\n",
       "members       0\n",
       "popularity    0\n",
       "score         0\n",
       "dtype: int64"
      ]
     },
     "execution_count": 40,
     "metadata": {},
     "output_type": "execute_result"
    }
   ],
   "source": [
    "#CONFIRMO QUE YA NO HAY NULOS EN MI DATA\n",
    "df_anime.isnull().sum()"
   ]
  },
  {
   "cell_type": "code",
   "execution_count": 41,
   "metadata": {},
   "outputs": [
    {
     "data": {
      "text/plain": [
       "16214"
      ]
     },
     "execution_count": 41,
     "metadata": {},
     "output_type": "execute_result"
    }
   ],
   "source": [
    "len(df_anime)"
   ]
  },
  {
   "cell_type": "code",
   "execution_count": 42,
   "metadata": {},
   "outputs": [],
   "source": [
    "sns.set_style(\"white\")\n",
    "sns.set_context(\"poster\",font_scale = .7)\n",
    "\n",
    "palette = [\"#e6e6fa\",\"#d8Bfd8\",\"#dda0dd\"\"#ebfef0\",\"#d7bde2\",\"#c39bd3\",\"#af7ac5\",\"#9b59b6\",\"#884eao\",\"#76448a\",\"#633974\",\"#512e5f\",\"#9932cc\",\"#9932cc\"]"
   ]
  },
  {
   "attachments": {},
   "cell_type": "markdown",
   "metadata": {},
   "source": [
    "DISTIBUCION DE LA DATA NUMERICA"
   ]
  },
  {
   "cell_type": "code",
   "execution_count": 87,
   "metadata": {},
   "outputs": [
    {
     "data": {
      "text/html": [
       "<div>\n",
       "<style scoped>\n",
       "    .dataframe tbody tr th:only-of-type {\n",
       "        vertical-align: middle;\n",
       "    }\n",
       "\n",
       "    .dataframe tbody tr th {\n",
       "        vertical-align: top;\n",
       "    }\n",
       "\n",
       "    .dataframe thead th {\n",
       "        text-align: right;\n",
       "    }\n",
       "</style>\n",
       "<table border=\"1\" class=\"dataframe\">\n",
       "  <thead>\n",
       "    <tr style=\"text-align: right;\">\n",
       "      <th></th>\n",
       "      <th>uid</th>\n",
       "      <th>episodes</th>\n",
       "      <th>members</th>\n",
       "      <th>popularity</th>\n",
       "      <th>score</th>\n",
       "    </tr>\n",
       "  </thead>\n",
       "  <tbody>\n",
       "    <tr>\n",
       "      <th>0</th>\n",
       "      <td>28891</td>\n",
       "      <td>25.0</td>\n",
       "      <td>489888</td>\n",
       "      <td>141</td>\n",
       "      <td>8.82</td>\n",
       "    </tr>\n",
       "    <tr>\n",
       "      <th>1</th>\n",
       "      <td>23273</td>\n",
       "      <td>22.0</td>\n",
       "      <td>995473</td>\n",
       "      <td>28</td>\n",
       "      <td>8.83</td>\n",
       "    </tr>\n",
       "    <tr>\n",
       "      <th>2</th>\n",
       "      <td>34599</td>\n",
       "      <td>13.0</td>\n",
       "      <td>581663</td>\n",
       "      <td>98</td>\n",
       "      <td>8.83</td>\n",
       "    </tr>\n",
       "    <tr>\n",
       "      <th>3</th>\n",
       "      <td>5114</td>\n",
       "      <td>64.0</td>\n",
       "      <td>1615084</td>\n",
       "      <td>4</td>\n",
       "      <td>9.23</td>\n",
       "    </tr>\n",
       "    <tr>\n",
       "      <th>4</th>\n",
       "      <td>31758</td>\n",
       "      <td>1.0</td>\n",
       "      <td>214621</td>\n",
       "      <td>502</td>\n",
       "      <td>8.83</td>\n",
       "    </tr>\n",
       "  </tbody>\n",
       "</table>\n",
       "</div>"
      ],
      "text/plain": [
       "     uid  episodes  members  popularity  score\n",
       "0  28891      25.0   489888         141   8.82\n",
       "1  23273      22.0   995473          28   8.83\n",
       "2  34599      13.0   581663          98   8.83\n",
       "3   5114      64.0  1615084           4   9.23\n",
       "4  31758       1.0   214621         502   8.83"
      ]
     },
     "execution_count": 87,
     "metadata": {},
     "output_type": "execute_result"
    }
   ],
   "source": [
    "#SELECCIONO SOLO DATA NUMERICA\n",
    "data_num=df_anime.select_dtypes(np.number)\n",
    "data_num.head()"
   ]
  },
  {
   "cell_type": "code",
   "execution_count": 91,
   "metadata": {},
   "outputs": [
    {
     "data": {
      "image/png": "[encoded data removed]",
      "text/plain": [
       "<Figure size 640x480 with 1 Axes>"
      ]
     },
     "metadata": {},
     "output_type": "display_data"
    },
    {
     "data": {
      "image/png": "[encoded data removed]",
      "text/plain": [
       "<Figure size 640x480 with 1 Axes>"
      ]
     },
     "metadata": {},
     "output_type": "display_data"
    },
    {
     "data": {
      "image/png": "[encoded data removed]",
      "text/plain": [
       "<Figure size 640x480 with 1 Axes>"
      ]
     },
     "metadata": {},
     "output_type": "display_data"
    },
    {
     "data": {
      "image/png": "[encoded data removed]",
      "text/plain": [
       "<Figure size 640x480 with 1 Axes>"
      ]
     },
     "metadata": {},
     "output_type": "display_data"
    },
    {
     "data": {
      "image/png": "[encoded data removed]",
      "text/plain": [
       "<Figure size 640x480 with 1 Axes>"
      ]
     },
     "metadata": {},
     "output_type": "display_data"
    }
   ],
   "source": [
    "#GRAFICO TODAS LAS COLUMNAS PARA IDENTIFICAR SU DISTRIBUCION \n",
    "for i in data_num:\n",
    "  sns.distplot(data_num[i])\n",
    "  plt.show()"
   ]
  },
  {
   "cell_type": "code",
   "execution_count": 81,
   "metadata": {},
   "outputs": [],
   "source": [
    "#LA GRAFICA DE SCORE ES LA QUE REPRESENTA MAS A UNA DISTRIBUCION NORMAL Y EN ESTA GRAFICA SE APRECIA MEJOR \n",
    "def anime_score():\n",
    "    fig,ax = plt.subplots(figsize=(8,4))\n",
    "    sns.histplot(data=df_anime, x=\"score\", kde=True,color=palette[8],bins=20,alpha=1,fill=True,edgecolor=palette[12])\n",
    "    ax.set(xlim=(1, 10))\n",
    "    ax.set(title=\"Distribution of score\");"
   ]
  },
  {
   "cell_type": "code",
   "execution_count": 82,
   "metadata": {},
   "outputs": [
    {
     "data": {
      "image/png": "[encoded data removed]",
      "text/plain": [
       "<Figure size 800x400 with 1 Axes>"
      ]
     },
     "metadata": {},
     "output_type": "display_data"
    }
   ],
   "source": [
    "anime_score()"
   ]
  },
  {
   "cell_type": "code",
   "execution_count": 83,
   "metadata": {},
   "outputs": [],
   "source": [
    "def anime_popularity():\n",
    "    fig,ax = plt.subplots(figsize=(8,4))\n",
    "    sns.histplot(data=df_anime, x=\"popularity\", kde=True,color=palette[8],bins=20,alpha=1,fill=True,edgecolor=palette[12])\n",
    "    ax.set(xlim=(1, 10))\n",
    "    ax.set(title=\"Distribution of popularity\");"
   ]
  },
  {
   "attachments": {},
   "cell_type": "markdown",
   "metadata": {},
   "source": [
    "TOP POR PUNTAJE"
   ]
  },
  {
   "cell_type": "code",
   "execution_count": 105,
   "metadata": {},
   "outputs": [
    {
     "data": {
      "application/vnd.plotly.v1+json": {
       "config": {
        "plotlyServerURL": "https://plot.ly"
       },
       "data": [
        {
         "alignmentgroup": "True",
         "hovertemplate": "title=%{text}<br>popularity=%{y}<extra></extra>",
         "legendgroup": "",
         "marker": {
          "color": "purple",
          "pattern": {
           "shape": ""
          }
         },
         "name": "",
         "offsetgroup": "",
         "orientation": "v",
         "showlegend": false,
         "text": [
          "Death Note",
          "Shingeki no Kyojin",
          "Sword Art Online",
          "Fullmetal Alchemist: Brotherhood",
          "One Punch Man",
          "Tokyo Ghoul",
          "Steins;Gate",
          "No Game No Life",
          "Naruto",
          "Angel Beats!"
         ],
         "textposition": "auto",
         "type": "bar",
         "x": [
          "Death Note",
          "Shingeki no Kyojin",
          "Sword Art Online",
          "Fullmetal Alchemist: Brotherhood",
          "One Punch Man",
          "Tokyo Ghoul",
          "Steins;Gate",
          "No Game No Life",
          "Naruto",
          "Angel Beats!"
         ],
         "xaxis": "x",
         "y": [
          1,
          2,
          3,
          4,
          5,
          6,
          7,
          8,
          9,
          10
         ],
         "yaxis": "y"
        }
       ],
       "layout": {
        "barmode": "relative",
        "legend": {
         "tracegroupgap": 0
        },
        "template": {
         "data": {
          "bar": [
           {
            "error_x": {
             "color": "#f2f5fa"
            },
            "error_y": {
             "color": "#f2f5fa"
            },
            "marker": {
             "line": {
              "color": "rgb(17,17,17)",
              "width": 0.5
             },
             "pattern": {
              "fillmode": "overlay",
              "size": 10,
              "solidity": 0.2
             }
            },
            "type": "bar"
           }
          ],
          "barpolar": [
           {
            "marker": {
             "line": {
              "color": "rgb(17,17,17)",
              "width": 0.5
             },
             "pattern": {
              "fillmode": "overlay",
              "size": 10,
              "solidity": 0.2
             }
            },
            "type": "barpolar"
           }
          ],
          "carpet": [
           {
            "aaxis": {
             "endlinecolor": "#A2B1C6",
             "gridcolor": "#506784",
             "linecolor": "#506784",
             "minorgridcolor": "#506784",
             "startlinecolor": "#A2B1C6"
            },
            "baxis": {
             "endlinecolor": "#A2B1C6",
             "gridcolor": "#506784",
             "linecolor": "#506784",
             "minorgridcolor": "#506784",
             "startlinecolor": "#A2B1C6"
            },
            "type": "carpet"
           }
          ],
          "choropleth": [
           {
            "colorbar": {
             "outlinewidth": 0,
             "ticks": ""
            },
            "type": "choropleth"
           }
          ],
          "contour": [
           {
            "colorbar": {
             "outlinewidth": 0,
             "ticks": ""
            },
            "colorscale": [
             [
              0,
              "#0d0887"
             ],
             [
              0.1111111111111111,
              "#46039f"
             ],
             [
              0.2222222222222222,
              "#7201a8"
             ],
             [
              0.3333333333333333,
              "#9c179e"
             ],
             [
              0.4444444444444444,
              "#bd3786"
             ],
             [
              0.5555555555555556,
              "#d8576b"
             ],
             [
              0.6666666666666666,
              "#ed7953"
             ],
             [
              0.7777777777777778,
              "#fb9f3a"
             ],
             [
              0.8888888888888888,
              "#fdca26"
             ],
             [
              1,
              "#f0f921"
             ]
            ],
            "type": "contour"
           }
          ],
          "contourcarpet": [
           {
            "colorbar": {
             "outlinewidth": 0,
             "ticks": ""
            },
            "type": "contourcarpet"
           }
          ],
          "heatmap": [
           {
            "colorbar": {
             "outlinewidth": 0,
             "ticks": ""
            },
            "colorscale": [
             [
              0,
              "#0d0887"
             ],
             [
              0.1111111111111111,
              "#46039f"
             ],
             [
              0.2222222222222222,
              "#7201a8"
             ],
             [
              0.3333333333333333,
              "#9c179e"
             ],
             [
              0.4444444444444444,
              "#bd3786"
             ],
             [
              0.5555555555555556,
              "#d8576b"
             ],
             [
              0.6666666666666666,
              "#ed7953"
             ],
             [
              0.7777777777777778,
              "#fb9f3a"
             ],
             [
              0.8888888888888888,
              "#fdca26"
             ],
             [
              1,
              "#f0f921"
             ]
            ],
            "type": "heatmap"
           }
          ],
          "heatmapgl": [
           {
            "colorbar": {
             "outlinewidth": 0,
             "ticks": ""
            },
            "colorscale": [
             [
              0,
              "#0d0887"
             ],
             [
              0.1111111111111111,
              "#46039f"
             ],
             [
              0.2222222222222222,
              "#7201a8"
             ],
             [
              0.3333333333333333,
              "#9c179e"
             ],
             [
              0.4444444444444444,
              "#bd3786"
             ],
             [
              0.5555555555555556,
              "#d8576b"
             ],
             [
              0.6666666666666666,
              "#ed7953"
             ],
             [
              0.7777777777777778,
              "#fb9f3a"
             ],
             [
              0.8888888888888888,
              "#fdca26"
             ],
             [
              1,
              "#f0f921"
             ]
            ],
            "type": "heatmapgl"
           }
          ],
          "histogram": [
           {
            "marker": {
             "pattern": {
              "fillmode": "overlay",
              "size": 10,
              "solidity": 0.2
             }
            },
            "type": "histogram"
           }
          ],
          "histogram2d": [
           {
            "colorbar": {
             "outlinewidth": 0,
             "ticks": ""
            },
            "colorscale": [
             [
              0,
              "#0d0887"
             ],
             [
              0.1111111111111111,
              "#46039f"
             ],
             [
              0.2222222222222222,
              "#7201a8"
             ],
             [
              0.3333333333333333,
              "#9c179e"
             ],
             [
              0.4444444444444444,
              "#bd3786"
             ],
             [
              0.5555555555555556,
              "#d8576b"
             ],
             [
              0.6666666666666666,
              "#ed7953"
             ],
             [
              0.7777777777777778,
              "#fb9f3a"
             ],
             [
              0.8888888888888888,
              "#fdca26"
             ],
             [
              1,
              "#f0f921"
             ]
            ],
            "type": "histogram2d"
           }
          ],
          "histogram2dcontour": [
           {
            "colorbar": {
             "outlinewidth": 0,
             "ticks": ""
            },
            "colorscale": [
             [
              0,
              "#0d0887"
             ],
             [
              0.1111111111111111,
              "#46039f"
             ],
             [
              0.2222222222222222,
              "#7201a8"
             ],
             [
              0.3333333333333333,
              "#9c179e"
             ],
             [
              0.4444444444444444,
              "#bd3786"
             ],
             [
              0.5555555555555556,
              "#d8576b"
             ],
             [
              0.6666666666666666,
              "#ed7953"
             ],
             [
              0.7777777777777778,
              "#fb9f3a"
             ],
             [
              0.8888888888888888,
              "#fdca26"
             ],
             [
              1,
              "#f0f921"
             ]
            ],
            "type": "histogram2dcontour"
           }
          ],
          "mesh3d": [
           {
            "colorbar": {
             "outlinewidth": 0,
             "ticks": ""
            },
            "type": "mesh3d"
           }
          ],
          "parcoords": [
           {
            "line": {
             "colorbar": {
              "outlinewidth": 0,
              "ticks": ""
             }
            },
            "type": "parcoords"
           }
          ],
          "pie": [
           {
            "automargin": true,
            "type": "pie"
           }
          ],
          "scatter": [
           {
            "marker": {
             "line": {
              "color": "#283442"
             }
            },
            "type": "scatter"
           }
          ],
          "scatter3d": [
           {
            "line": {
             "colorbar": {
              "outlinewidth": 0,
              "ticks": ""
             }
            },
            "marker": {
             "colorbar": {
              "outlinewidth": 0,
              "ticks": ""
             }
            },
            "type": "scatter3d"
           }
          ],
          "scattercarpet": [
           {
            "marker": {
             "colorbar": {
              "outlinewidth": 0,
              "ticks": ""
             }
            },
            "type": "scattercarpet"
           }
          ],
          "scattergeo": [
           {
            "marker": {
             "colorbar": {
              "outlinewidth": 0,
              "ticks": ""
             }
            },
            "type": "scattergeo"
           }
          ],
          "scattergl": [
           {
            "marker": {
             "line": {
              "color": "#283442"
             }
            },
            "type": "scattergl"
           }
          ],
          "scattermapbox": [
           {
            "marker": {
             "colorbar": {
              "outlinewidth": 0,
              "ticks": ""
             }
            },
            "type": "scattermapbox"
           }
          ],
          "scatterpolar": [
           {
            "marker": {
             "colorbar": {
              "outlinewidth": 0,
              "ticks": ""
             }
            },
            "type": "scatterpolar"
           }
          ],
          "scatterpolargl": [
           {
            "marker": {
             "colorbar": {
              "outlinewidth": 0,
              "ticks": ""
             }
            },
            "type": "scatterpolargl"
           }
          ],
          "scatterternary": [
           {
            "marker": {
             "colorbar": {
              "outlinewidth": 0,
              "ticks": ""
             }
            },
            "type": "scatterternary"
           }
          ],
          "surface": [
           {
            "colorbar": {
             "outlinewidth": 0,
             "ticks": ""
            },
            "colorscale": [
             [
              0,
              "#0d0887"
             ],
             [
              0.1111111111111111,
              "#46039f"
             ],
             [
              0.2222222222222222,
              "#7201a8"
             ],
             [
              0.3333333333333333,
              "#9c179e"
             ],
             [
              0.4444444444444444,
              "#bd3786"
             ],
             [
              0.5555555555555556,
              "#d8576b"
             ],
             [
              0.6666666666666666,
              "#ed7953"
             ],
             [
              0.7777777777777778,
              "#fb9f3a"
             ],
             [
              0.8888888888888888,
              "#fdca26"
             ],
             [
              1,
              "#f0f921"
             ]
            ],
            "type": "surface"
           }
          ],
          "table": [
           {
            "cells": {
             "fill": {
              "color": "#506784"
             },
             "line": {
              "color": "rgb(17,17,17)"
             }
            },
            "header": {
             "fill": {
              "color": "#2a3f5f"
             },
             "line": {
              "color": "rgb(17,17,17)"
             }
            },
            "type": "table"
           }
          ]
         },
         "layout": {
          "annotationdefaults": {
           "arrowcolor": "#f2f5fa",
           "arrowhead": 0,
           "arrowwidth": 1
          },
          "autotypenumbers": "strict",
          "coloraxis": {
           "colorbar": {
            "outlinewidth": 0,
            "ticks": ""
           }
          },
          "colorscale": {
           "diverging": [
            [
             0,
             "#8e0152"
            ],
            [
             0.1,
             "#c51b7d"
            ],
            [
             0.2,
             "#de77ae"
            ],
            [
             0.3,
             "#f1b6da"
            ],
            [
             0.4,
             "#fde0ef"
            ],
            [
             0.5,
             "#f7f7f7"
            ],
            [
             0.6,
             "#e6f5d0"
            ],
            [
             0.7,
             "#b8e186"
            ],
            [
             0.8,
             "#7fbc41"
            ],
            [
             0.9,
             "#4d9221"
            ],
            [
             1,
             "#276419"
            ]
           ],
           "sequential": [
            [
             0,
             "#0d0887"
            ],
            [
             0.1111111111111111,
             "#46039f"
            ],
            [
             0.2222222222222222,
             "#7201a8"
            ],
            [
             0.3333333333333333,
             "#9c179e"
            ],
            [
             0.4444444444444444,
             "#bd3786"
            ],
            [
             0.5555555555555556,
             "#d8576b"
            ],
            [
             0.6666666666666666,
             "#ed7953"
            ],
            [
             0.7777777777777778,
             "#fb9f3a"
            ],
            [
             0.8888888888888888,
             "#fdca26"
            ],
            [
             1,
             "#f0f921"
            ]
           ],
           "sequentialminus": [
            [
             0,
             "#0d0887"
            ],
            [
             0.1111111111111111,
             "#46039f"
            ],
            [
             0.2222222222222222,
             "#7201a8"
            ],
            [
             0.3333333333333333,
             "#9c179e"
            ],
            [
             0.4444444444444444,
             "#bd3786"
            ],
            [
             0.5555555555555556,
             "#d8576b"
            ],
            [
             0.6666666666666666,
             "#ed7953"
            ],
            [
             0.7777777777777778,
             "#fb9f3a"
            ],
            [
             0.8888888888888888,
             "#fdca26"
            ],
            [
             1,
             "#f0f921"
            ]
           ]
          },
          "colorway": [
           "#636efa",
           "#EF553B",
           "#00cc96",
           "#ab63fa",
           "#FFA15A",
           "#19d3f3",
           "#FF6692",
           "#B6E880",
           "#FF97FF",
           "#FECB52"
          ],
          "font": {
           "color": "#f2f5fa"
          },
          "geo": {
           "bgcolor": "rgb(17,17,17)",
           "lakecolor": "rgb(17,17,17)",
           "landcolor": "rgb(17,17,17)",
           "showlakes": true,
           "showland": true,
           "subunitcolor": "#506784"
          },
          "hoverlabel": {
           "align": "left"
          },
          "hovermode": "closest",
          "mapbox": {
           "style": "dark"
          },
          "paper_bgcolor": "rgb(17,17,17)",
          "plot_bgcolor": "rgb(17,17,17)",
          "polar": {
           "angularaxis": {
            "gridcolor": "#506784",
            "linecolor": "#506784",
            "ticks": ""
           },
           "bgcolor": "rgb(17,17,17)",
           "radialaxis": {
            "gridcolor": "#506784",
            "linecolor": "#506784",
            "ticks": ""
           }
          },
          "scene": {
           "xaxis": {
            "backgroundcolor": "rgb(17,17,17)",
            "gridcolor": "#506784",
            "gridwidth": 2,
            "linecolor": "#506784",
            "showbackground": true,
            "ticks": "",
            "zerolinecolor": "#C8D4E3"
           },
           "yaxis": {
            "backgroundcolor": "rgb(17,17,17)",
            "gridcolor": "#506784",
            "gridwidth": 2,
            "linecolor": "#506784",
            "showbackground": true,
            "ticks": "",
            "zerolinecolor": "#C8D4E3"
           },
           "zaxis": {
            "backgroundcolor": "rgb(17,17,17)",
            "gridcolor": "#506784",
            "gridwidth": 2,
            "linecolor": "#506784",
            "showbackground": true,
            "ticks": "",
            "zerolinecolor": "#C8D4E3"
           }
          },
          "shapedefaults": {
           "line": {
            "color": "#f2f5fa"
           }
          },
          "sliderdefaults": {
           "bgcolor": "#C8D4E3",
           "bordercolor": "rgb(17,17,17)",
           "borderwidth": 1,
           "tickwidth": 0
          },
          "ternary": {
           "aaxis": {
            "gridcolor": "#506784",
            "linecolor": "#506784",
            "ticks": ""
           },
           "baxis": {
            "gridcolor": "#506784",
            "linecolor": "#506784",
            "ticks": ""
           },
           "bgcolor": "rgb(17,17,17)",
           "caxis": {
            "gridcolor": "#506784",
            "linecolor": "#506784",
            "ticks": ""
           }
          },
          "title": {
           "x": 0.05
          },
          "updatemenudefaults": {
           "bgcolor": "#506784",
           "borderwidth": 0
          },
          "xaxis": {
           "automargin": true,
           "gridcolor": "#283442",
           "linecolor": "#506784",
           "ticks": "",
           "title": {
            "standoff": 15
           },
           "zerolinecolor": "#283442",
           "zerolinewidth": 2
          },
          "yaxis": {
           "automargin": true,
           "gridcolor": "#283442",
           "linecolor": "#506784",
           "ticks": "",
           "title": {
            "standoff": 15
           },
           "zerolinecolor": "#283442",
           "zerolinewidth": 2
          }
         }
        },
        "title": {
         "text": "<b> 10 animes más populares"
        },
        "xaxis": {
         "anchor": "y",
         "domain": [
          0,
          1
         ],
         "title": {
          "text": "title"
         }
        },
        "yaxis": {
         "anchor": "x",
         "domain": [
          0,
          1
         ],
         "title": {
          "text": "popularity"
         }
        }
       }
      }
     },
     "metadata": {},
     "output_type": "display_data"
    }
   ],
   "source": [
    "px.bar(df_anime.sort_values(by='popularity',ascending=True).head(10),x='title',y='popularity',text='title',color_discrete_sequence=['purple'],template='plotly_dark',title='<b> 10 animes más populares')"
   ]
  },
  {
   "attachments": {},
   "cell_type": "markdown",
   "metadata": {},
   "source": [
    "GENEROS POPULARES"
   ]
  },
  {
   "cell_type": "code",
   "execution_count": 46,
   "metadata": {},
   "outputs": [],
   "source": [
    "#GENERO UNA DATABASE YA LIMPIA CON \n",
    "df_anime.to_csv('anime_dfclean.csv', index=False)"
   ]
  },
  {
   "cell_type": "code",
   "execution_count": 47,
   "metadata": {},
   "outputs": [
    {
     "data": {
      "text/html": [
       "<div>\n",
       "<style scoped>\n",
       "    .dataframe tbody tr th:only-of-type {\n",
       "        vertical-align: middle;\n",
       "    }\n",
       "\n",
       "    .dataframe tbody tr th {\n",
       "        vertical-align: top;\n",
       "    }\n",
       "\n",
       "    .dataframe thead th {\n",
       "        text-align: right;\n",
       "    }\n",
       "</style>\n",
       "<table border=\"1\" class=\"dataframe\">\n",
       "  <thead>\n",
       "    <tr style=\"text-align: right;\">\n",
       "      <th></th>\n",
       "      <th>uid</th>\n",
       "      <th>title</th>\n",
       "      <th>synopsis</th>\n",
       "      <th>genre</th>\n",
       "      <th>aired</th>\n",
       "      <th>episodes</th>\n",
       "      <th>members</th>\n",
       "      <th>popularity</th>\n",
       "      <th>score</th>\n",
       "    </tr>\n",
       "  </thead>\n",
       "  <tbody>\n",
       "    <tr>\n",
       "      <th>0</th>\n",
       "      <td>28891</td>\n",
       "      <td>Haikyuu!! Second Season</td>\n",
       "      <td>Following their participation at the Inter-Hig...</td>\n",
       "      <td>['Comedy', 'Sports', 'Drama', 'School', 'Shoun...</td>\n",
       "      <td>Oct 4, 2015 to Mar 27, 2016</td>\n",
       "      <td>25.0</td>\n",
       "      <td>489888</td>\n",
       "      <td>141</td>\n",
       "      <td>8.82</td>\n",
       "    </tr>\n",
       "    <tr>\n",
       "      <th>1</th>\n",
       "      <td>23273</td>\n",
       "      <td>Shigatsu wa Kimi no Uso</td>\n",
       "      <td>Music accompanies the path of the human metron...</td>\n",
       "      <td>['Drama', 'Music', 'Romance', 'School', 'Shoun...</td>\n",
       "      <td>Oct 10, 2014 to Mar 20, 2015</td>\n",
       "      <td>22.0</td>\n",
       "      <td>995473</td>\n",
       "      <td>28</td>\n",
       "      <td>8.83</td>\n",
       "    </tr>\n",
       "    <tr>\n",
       "      <th>2</th>\n",
       "      <td>34599</td>\n",
       "      <td>Made in Abyss</td>\n",
       "      <td>The Abyss—a gaping chasm stretching down into ...</td>\n",
       "      <td>['Sci-Fi', 'Adventure', 'Mystery', 'Drama', 'F...</td>\n",
       "      <td>Jul 7, 2017 to Sep 29, 2017</td>\n",
       "      <td>13.0</td>\n",
       "      <td>581663</td>\n",
       "      <td>98</td>\n",
       "      <td>8.83</td>\n",
       "    </tr>\n",
       "    <tr>\n",
       "      <th>3</th>\n",
       "      <td>5114</td>\n",
       "      <td>Fullmetal Alchemist: Brotherhood</td>\n",
       "      <td>\"In order for something to be obtained, someth...</td>\n",
       "      <td>['Action', 'Military', 'Adventure', 'Comedy', ...</td>\n",
       "      <td>Apr 5, 2009 to Jul 4, 2010</td>\n",
       "      <td>64.0</td>\n",
       "      <td>1615084</td>\n",
       "      <td>4</td>\n",
       "      <td>9.23</td>\n",
       "    </tr>\n",
       "    <tr>\n",
       "      <th>4</th>\n",
       "      <td>31758</td>\n",
       "      <td>Kizumonogatari III: Reiketsu-hen</td>\n",
       "      <td>After helping revive the legendary vampire Kis...</td>\n",
       "      <td>['Action', 'Mystery', 'Supernatural', 'Vampire']</td>\n",
       "      <td>Jan 6, 2017</td>\n",
       "      <td>1.0</td>\n",
       "      <td>214621</td>\n",
       "      <td>502</td>\n",
       "      <td>8.83</td>\n",
       "    </tr>\n",
       "    <tr>\n",
       "      <th>...</th>\n",
       "      <td>...</td>\n",
       "      <td>...</td>\n",
       "      <td>...</td>\n",
       "      <td>...</td>\n",
       "      <td>...</td>\n",
       "      <td>...</td>\n",
       "      <td>...</td>\n",
       "      <td>...</td>\n",
       "      <td>...</td>\n",
       "    </tr>\n",
       "    <tr>\n",
       "      <th>16209</th>\n",
       "      <td>10075</td>\n",
       "      <td>Naruto x UT</td>\n",
       "      <td>All-new animation offered throughout UNIQLO cl...</td>\n",
       "      <td>['Action', 'Comedy', 'Super Power', 'Martial A...</td>\n",
       "      <td>Jan 1, 2011</td>\n",
       "      <td>1.0</td>\n",
       "      <td>34155</td>\n",
       "      <td>2382</td>\n",
       "      <td>7.50</td>\n",
       "    </tr>\n",
       "    <tr>\n",
       "      <th>16210</th>\n",
       "      <td>35828</td>\n",
       "      <td>Miira no Kaikata</td>\n",
       "      <td>High school student Sora Kashiwagi is accustom...</td>\n",
       "      <td>['Slice of Life', 'Comedy', 'Supernatural']</td>\n",
       "      <td>Jan 12, 2018 to Mar 30, 2018</td>\n",
       "      <td>12.0</td>\n",
       "      <td>61459</td>\n",
       "      <td>1648</td>\n",
       "      <td>7.50</td>\n",
       "    </tr>\n",
       "    <tr>\n",
       "      <th>16211</th>\n",
       "      <td>10378</td>\n",
       "      <td>Shinryaku!? Ika Musume</td>\n",
       "      <td>After regaining her squid-like abilities, Ika ...</td>\n",
       "      <td>['Slice of Life', 'Comedy', 'Shounen']</td>\n",
       "      <td>Sep 27, 2011 to Dec 25, 2011</td>\n",
       "      <td>12.0</td>\n",
       "      <td>67422</td>\n",
       "      <td>1547</td>\n",
       "      <td>7.56</td>\n",
       "    </tr>\n",
       "    <tr>\n",
       "      <th>16212</th>\n",
       "      <td>33082</td>\n",
       "      <td>Kingsglaive: Final Fantasy XV</td>\n",
       "      <td>For years, the Niflheim Empire and the kingdom...</td>\n",
       "      <td>['Action']</td>\n",
       "      <td>Jul 9, 2016</td>\n",
       "      <td>1.0</td>\n",
       "      <td>41077</td>\n",
       "      <td>2154</td>\n",
       "      <td>7.56</td>\n",
       "    </tr>\n",
       "    <tr>\n",
       "      <th>16213</th>\n",
       "      <td>16934</td>\n",
       "      <td>Chuunibyou demo Koi ga Shitai!: Kirameki no......</td>\n",
       "      <td>Although Yuuta Togashi and Rikka Takanashi hav...</td>\n",
       "      <td>['Comedy', 'Drama', 'Romance', 'School', 'Slic...</td>\n",
       "      <td>Jun 19, 2013</td>\n",
       "      <td>1.0</td>\n",
       "      <td>128400</td>\n",
       "      <td>883</td>\n",
       "      <td>7.56</td>\n",
       "    </tr>\n",
       "  </tbody>\n",
       "</table>\n",
       "<p>16214 rows × 9 columns</p>\n",
       "</div>"
      ],
      "text/plain": [
       "         uid                                              title  \\\n",
       "0      28891                            Haikyuu!! Second Season   \n",
       "1      23273                            Shigatsu wa Kimi no Uso   \n",
       "2      34599                                      Made in Abyss   \n",
       "3       5114                   Fullmetal Alchemist: Brotherhood   \n",
       "4      31758                   Kizumonogatari III: Reiketsu-hen   \n",
       "...      ...                                                ...   \n",
       "16209  10075                                        Naruto x UT   \n",
       "16210  35828                                   Miira no Kaikata   \n",
       "16211  10378                             Shinryaku!? Ika Musume   \n",
       "16212  33082                      Kingsglaive: Final Fantasy XV   \n",
       "16213  16934  Chuunibyou demo Koi ga Shitai!: Kirameki no......   \n",
       "\n",
       "                                                synopsis  \\\n",
       "0      Following their participation at the Inter-Hig...   \n",
       "1      Music accompanies the path of the human metron...   \n",
       "2      The Abyss—a gaping chasm stretching down into ...   \n",
       "3      \"In order for something to be obtained, someth...   \n",
       "4      After helping revive the legendary vampire Kis...   \n",
       "...                                                  ...   \n",
       "16209  All-new animation offered throughout UNIQLO cl...   \n",
       "16210  High school student Sora Kashiwagi is accustom...   \n",
       "16211  After regaining her squid-like abilities, Ika ...   \n",
       "16212  For years, the Niflheim Empire and the kingdom...   \n",
       "16213  Although Yuuta Togashi and Rikka Takanashi hav...   \n",
       "\n",
       "                                                   genre  \\\n",
       "0      ['Comedy', 'Sports', 'Drama', 'School', 'Shoun...   \n",
       "1      ['Drama', 'Music', 'Romance', 'School', 'Shoun...   \n",
       "2      ['Sci-Fi', 'Adventure', 'Mystery', 'Drama', 'F...   \n",
       "3      ['Action', 'Military', 'Adventure', 'Comedy', ...   \n",
       "4       ['Action', 'Mystery', 'Supernatural', 'Vampire']   \n",
       "...                                                  ...   \n",
       "16209  ['Action', 'Comedy', 'Super Power', 'Martial A...   \n",
       "16210        ['Slice of Life', 'Comedy', 'Supernatural']   \n",
       "16211             ['Slice of Life', 'Comedy', 'Shounen']   \n",
       "16212                                         ['Action']   \n",
       "16213  ['Comedy', 'Drama', 'Romance', 'School', 'Slic...   \n",
       "\n",
       "                              aired  episodes  members  popularity  score  \n",
       "0       Oct 4, 2015 to Mar 27, 2016      25.0   489888         141   8.82  \n",
       "1      Oct 10, 2014 to Mar 20, 2015      22.0   995473          28   8.83  \n",
       "2       Jul 7, 2017 to Sep 29, 2017      13.0   581663          98   8.83  \n",
       "3        Apr 5, 2009 to Jul 4, 2010      64.0  1615084           4   9.23  \n",
       "4                       Jan 6, 2017       1.0   214621         502   8.83  \n",
       "...                             ...       ...      ...         ...    ...  \n",
       "16209                   Jan 1, 2011       1.0    34155        2382   7.50  \n",
       "16210  Jan 12, 2018 to Mar 30, 2018      12.0    61459        1648   7.50  \n",
       "16211  Sep 27, 2011 to Dec 25, 2011      12.0    67422        1547   7.56  \n",
       "16212                   Jul 9, 2016       1.0    41077        2154   7.56  \n",
       "16213                  Jun 19, 2013       1.0   128400         883   7.56  \n",
       "\n",
       "[16214 rows x 9 columns]"
      ]
     },
     "execution_count": 47,
     "metadata": {},
     "output_type": "execute_result"
    }
   ],
   "source": [
    "#TRAIGO MI DF YA LIMPIA\n",
    "df = pd.read_csv('anime_dfclean.csv')\n",
    "df"
   ]
  },
  {
   "cell_type": "code",
   "execution_count": 48,
   "metadata": {},
   "outputs": [
    {
     "data": {
      "text/plain": [
       "0        ['Comedy', 'Sports', 'Drama', 'School', 'Shoun...\n",
       "1        ['Drama', 'Music', 'Romance', 'School', 'Shoun...\n",
       "2        ['Sci-Fi', 'Adventure', 'Mystery', 'Drama', 'F...\n",
       "3        ['Action', 'Military', 'Adventure', 'Comedy', ...\n",
       "4         ['Action', 'Mystery', 'Supernatural', 'Vampire']\n",
       "                               ...                        \n",
       "16209    ['Action', 'Comedy', 'Super Power', 'Martial A...\n",
       "16210          ['Slice of Life', 'Comedy', 'Supernatural']\n",
       "16211               ['Slice of Life', 'Comedy', 'Shounen']\n",
       "16212                                           ['Action']\n",
       "16213    ['Comedy', 'Drama', 'Romance', 'School', 'Slic...\n",
       "Name: genre, Length: 16214, dtype: object"
      ]
     },
     "execution_count": 48,
     "metadata": {},
     "output_type": "execute_result"
    }
   ],
   "source": [
    "#PIRMERO QUIERO VER EL FORMATO DE LA COLUMNA 'genre'\n",
    "df['genre']\n",
    "\n",
    "#TIENE FORMATO DE LISTA CON '' AL INICIO Y FIN POR LO QUE SE LEE COMO UN STR"
   ]
  },
  {
   "cell_type": "code",
   "execution_count": 49,
   "metadata": {},
   "outputs": [],
   "source": [
    "#USO apply PARA CAMBIAR ESE FORMATO DE STR A LISTA \n",
    "df['genre']=df['genre'].apply(eval)"
   ]
  },
  {
   "cell_type": "code",
   "execution_count": 50,
   "metadata": {},
   "outputs": [
    {
     "data": {
      "text/plain": [
       "[Hentai]                                               923\n",
       "[Music]                                                692\n",
       "[Comedy]                                               622\n",
       "[Kids]                                                 404\n",
       "[Dementia]                                             201\n",
       "                                                      ... \n",
       "[Fantasy, Mecha, Drama]                                  1\n",
       "[Action, Adventure, Comedy, Ecchi, Fantasy, Seinen]      1\n",
       "[Action, Adventure, Fantasy, Sci-Fi, Slice of Life]      1\n",
       "[Comedy, Drama, Martial Arts, Seinen]                    1\n",
       "[Music, Romance, Super Power, Supernatural]              1\n",
       "Name: genre, Length: 4851, dtype: int64"
      ]
     },
     "execution_count": 50,
     "metadata": {},
     "output_type": "execute_result"
    }
   ],
   "source": [
    "#CUENTO LOS GENEROS EN LA COLUMNA 'genre' \n",
    "df['genre'].value_counts()"
   ]
  },
  {
   "cell_type": "code",
   "execution_count": 51,
   "metadata": {},
   "outputs": [],
   "source": [
    "#HAGO UNA LISTA VACIA PARA GUARDAR TODOS LOS GENEROS QUE HAY \n",
    "generos=[]\n",
    "for i in range(len(df['genre'])):\n",
    "  for ii in df['genre'][i]:\n",
    "    generos.append(ii)"
   ]
  },
  {
   "cell_type": "code",
   "execution_count": 52,
   "metadata": {},
   "outputs": [
    {
     "data": {
      "text/plain": [
       "Counter({'Comedy': 5640,\n",
       "         'Sports': 679,\n",
       "         'Drama': 2457,\n",
       "         'School': 1567,\n",
       "         'Shounen': 1915,\n",
       "         'Music': 1863,\n",
       "         'Romance': 1762,\n",
       "         'Sci-Fi': 2462,\n",
       "         'Adventure': 2753,\n",
       "         'Mystery': 674,\n",
       "         'Fantasy': 2971,\n",
       "         'Action': 3572,\n",
       "         'Military': 541,\n",
       "         'Magic': 1013,\n",
       "         'Supernatural': 1358,\n",
       "         'Vampire': 135,\n",
       "         'Slice of Life': 1744,\n",
       "         'Demons': 453,\n",
       "         'Historical': 1050,\n",
       "         'Super Power': 600,\n",
       "         'Mecha': 1060,\n",
       "         'Parody': 619,\n",
       "         'Samurai': 199,\n",
       "         'Seinen': 805,\n",
       "         'Police': 239,\n",
       "         'Psychological': 322,\n",
       "         'Josei': 93,\n",
       "         'Space': 475,\n",
       "         'Kids': 2456,\n",
       "         'Shoujo Ai': 73,\n",
       "         'Ecchi': 740,\n",
       "         'Shoujo': 668,\n",
       "         'Horror': 434,\n",
       "         'Shounen Ai': 91,\n",
       "         'Cars': 117,\n",
       "         'Martial Arts': 367,\n",
       "         'Game': 348,\n",
       "         'Thriller': 120,\n",
       "         'Dementia': 402,\n",
       "         'Harem': 374,\n",
       "         'Hentai': 1295,\n",
       "         'Yaoi': 40,\n",
       "         'Yuri': 40})"
      ]
     },
     "execution_count": 52,
     "metadata": {},
     "output_type": "execute_result"
    }
   ],
   "source": [
    "#CUENTO LOS GENEROS QUE EXISTEN EN LA DB EN GENERAL\n",
    "genre_info = Counter(generos)\n",
    "genre_info"
   ]
  },
  {
   "cell_type": "code",
   "execution_count": 98,
   "metadata": {},
   "outputs": [],
   "source": [
    "#APLICO LA FUNCION PARA GRAIFICAR LOS GENEROS DE ACUERDO A LA SUMA DE ELLOS \n",
    "def show_genres():\n",
    "    plt.figure(figsize=(20, 15))\n",
    "    plt.title(\"Genres\", fontsize=32)\n",
    "    sq.plot(genre_info.values(), label=genre_info.keys(), text_kwargs={'fontsize':20}, bar_kwargs={'alpha':.7}, pad=False)\n",
    "    plt.axis(\"off\");"
   ]
  },
  {
   "cell_type": "code",
   "execution_count": 99,
   "metadata": {},
   "outputs": [
    {
     "data": {
      "image/png": "[encoded data removed]",
      "text/plain": [
       "<Figure size 2000x1500 with 1 Axes>"
      ]
     },
     "metadata": {},
     "output_type": "display_data"
    }
   ],
   "source": [
    "show_genres()"
   ]
  },
  {
   "cell_type": "code",
   "execution_count": 55,
   "metadata": {},
   "outputs": [
    {
     "data": {
      "text/plain": [
       "0                 [Comedy, Sports, Drama, School, Shounen]\n",
       "1                 [Drama, Music, Romance, School, Shounen]\n",
       "2             [Sci-Fi, Adventure, Mystery, Drama, Fantasy]\n",
       "3        [Action, Military, Adventure, Comedy, Drama, M...\n",
       "4                 [Action, Mystery, Supernatural, Vampire]\n",
       "                               ...                        \n",
       "16209    [Action, Comedy, Super Power, Martial Arts, Sh...\n",
       "16210                [Slice of Life, Comedy, Supernatural]\n",
       "16211                     [Slice of Life, Comedy, Shounen]\n",
       "16212                                             [Action]\n",
       "16213      [Comedy, Drama, Romance, School, Slice of Life]\n",
       "Name: genre, Length: 16214, dtype: object"
      ]
     },
     "execution_count": 55,
     "metadata": {},
     "output_type": "execute_result"
    }
   ],
   "source": [
    "#QUIERO VER COMO ESTA LA COLUMNA DE 'genre', AHORA QUE ES UNA LISTA QUIERO QUE\n",
    "# SOLAMENTE SE QUEDEN LOS GENEROS COMO STR DENTRO DE LA COLUMNA 'genre'\n",
    "df['genre']"
   ]
  },
  {
   "cell_type": "code",
   "execution_count": 56,
   "metadata": {},
   "outputs": [],
   "source": [
    "#PARA PASAR LOS ELEMENTOS DE UNA LISTA A UN STRING EN UNA COLUMNA DE UN DF \n",
    "# USO join DE LA CLASE str\n",
    "df['genre']= df['genre'].apply(lambda x: ','.join(x))"
   ]
  },
  {
   "cell_type": "code",
   "execution_count": 57,
   "metadata": {},
   "outputs": [
    {
     "data": {
      "text/plain": [
       "0                       Comedy,Sports,Drama,School,Shounen\n",
       "1                       Drama,Music,Romance,School,Shounen\n",
       "2                   Sci-Fi,Adventure,Mystery,Drama,Fantasy\n",
       "3        Action,Military,Adventure,Comedy,Drama,Magic,F...\n",
       "4                      Action,Mystery,Supernatural,Vampire\n",
       "                               ...                        \n",
       "16209       Action,Comedy,Super Power,Martial Arts,Shounen\n",
       "16210                    Slice of Life,Comedy,Supernatural\n",
       "16211                         Slice of Life,Comedy,Shounen\n",
       "16212                                               Action\n",
       "16213            Comedy,Drama,Romance,School,Slice of Life\n",
       "Name: genre, Length: 16214, dtype: object"
      ]
     },
     "execution_count": 57,
     "metadata": {},
     "output_type": "execute_result"
    }
   ],
   "source": [
    "#CONFIRMO LOS CAMBIOS \n",
    "df['genre']"
   ]
  },
  {
   "attachments": {},
   "cell_type": "markdown",
   "metadata": {},
   "source": [
    "TOP ANIMES BASED ON POPULARITY AND MEMBERS"
   ]
  },
  {
   "cell_type": "code",
   "execution_count": 58,
   "metadata": {},
   "outputs": [
    {
     "data": {
      "text/html": [
       "<div>\n",
       "<style scoped>\n",
       "    .dataframe tbody tr th:only-of-type {\n",
       "        vertical-align: middle;\n",
       "    }\n",
       "\n",
       "    .dataframe tbody tr th {\n",
       "        vertical-align: top;\n",
       "    }\n",
       "\n",
       "    .dataframe thead th {\n",
       "        text-align: right;\n",
       "    }\n",
       "</style>\n",
       "<table border=\"1\" class=\"dataframe\">\n",
       "  <thead>\n",
       "    <tr style=\"text-align: right;\">\n",
       "      <th></th>\n",
       "      <th>popularity</th>\n",
       "      <th>members</th>\n",
       "    </tr>\n",
       "  </thead>\n",
       "  <tbody>\n",
       "    <tr>\n",
       "      <th>popularity</th>\n",
       "      <td>1.00000</td>\n",
       "      <td>-0.43987</td>\n",
       "    </tr>\n",
       "    <tr>\n",
       "      <th>members</th>\n",
       "      <td>-0.43987</td>\n",
       "      <td>1.00000</td>\n",
       "    </tr>\n",
       "  </tbody>\n",
       "</table>\n",
       "</div>"
      ],
      "text/plain": [
       "            popularity  members\n",
       "popularity     1.00000 -0.43987\n",
       "members       -0.43987  1.00000"
      ]
     },
     "execution_count": 58,
     "metadata": {},
     "output_type": "execute_result"
    }
   ],
   "source": [
    "#VEO SI EXISTE ALGUNA CORRELACION ENTRE LA POPULARIDAD Y LOS MIEMBROS \n",
    "df_anime[[\"popularity\",\"members\"]].corr()"
   ]
  },
  {
   "cell_type": "code",
   "execution_count": 59,
   "metadata": {},
   "outputs": [
    {
     "data": {
      "text/html": [
       "<div>\n",
       "<style scoped>\n",
       "    .dataframe tbody tr th:only-of-type {\n",
       "        vertical-align: middle;\n",
       "    }\n",
       "\n",
       "    .dataframe tbody tr th {\n",
       "        vertical-align: top;\n",
       "    }\n",
       "\n",
       "    .dataframe thead th {\n",
       "        text-align: right;\n",
       "    }\n",
       "</style>\n",
       "<table border=\"1\" class=\"dataframe\">\n",
       "  <thead>\n",
       "    <tr style=\"text-align: right;\">\n",
       "      <th></th>\n",
       "      <th>popularity</th>\n",
       "      <th>score</th>\n",
       "    </tr>\n",
       "  </thead>\n",
       "  <tbody>\n",
       "    <tr>\n",
       "      <th>popularity</th>\n",
       "      <td>1.000000</td>\n",
       "      <td>-0.663759</td>\n",
       "    </tr>\n",
       "    <tr>\n",
       "      <th>score</th>\n",
       "      <td>-0.663759</td>\n",
       "      <td>1.000000</td>\n",
       "    </tr>\n",
       "  </tbody>\n",
       "</table>\n",
       "</div>"
      ],
      "text/plain": [
       "            popularity     score\n",
       "popularity    1.000000 -0.663759\n",
       "score        -0.663759  1.000000"
      ]
     },
     "execution_count": 59,
     "metadata": {},
     "output_type": "execute_result"
    }
   ],
   "source": [
    "#VEO SI EXISTE ALGUNA CORRELACION ENTRE LA EVALUACION DE UN ANIME Y LA POPULARIDAD\n",
    "df_anime[[\"popularity\",\"score\"]].corr()"
   ]
  },
  {
   "cell_type": "code",
   "execution_count": 60,
   "metadata": {},
   "outputs": [
    {
     "data": {
      "text/html": [
       "<div>\n",
       "<style scoped>\n",
       "    .dataframe tbody tr th:only-of-type {\n",
       "        vertical-align: middle;\n",
       "    }\n",
       "\n",
       "    .dataframe tbody tr th {\n",
       "        vertical-align: top;\n",
       "    }\n",
       "\n",
       "    .dataframe thead th {\n",
       "        text-align: right;\n",
       "    }\n",
       "</style>\n",
       "<table border=\"1\" class=\"dataframe\">\n",
       "  <thead>\n",
       "    <tr style=\"text-align: right;\">\n",
       "      <th></th>\n",
       "      <th>uid</th>\n",
       "      <th>title</th>\n",
       "      <th>synopsis</th>\n",
       "      <th>genre</th>\n",
       "      <th>aired</th>\n",
       "      <th>episodes</th>\n",
       "      <th>members</th>\n",
       "      <th>popularity</th>\n",
       "      <th>score</th>\n",
       "    </tr>\n",
       "  </thead>\n",
       "  <tbody>\n",
       "    <tr>\n",
       "      <th>0</th>\n",
       "      <td>28891</td>\n",
       "      <td>Haikyuu!! Second Season</td>\n",
       "      <td>Following their participation at the Inter-Hig...</td>\n",
       "      <td>Comedy,Sports,Drama,School,Shounen</td>\n",
       "      <td>Oct 4, 2015 to Mar 27, 2016</td>\n",
       "      <td>25.0</td>\n",
       "      <td>489888</td>\n",
       "      <td>141</td>\n",
       "      <td>8.82</td>\n",
       "    </tr>\n",
       "    <tr>\n",
       "      <th>1</th>\n",
       "      <td>23273</td>\n",
       "      <td>Shigatsu wa Kimi no Uso</td>\n",
       "      <td>Music accompanies the path of the human metron...</td>\n",
       "      <td>Drama,Music,Romance,School,Shounen</td>\n",
       "      <td>Oct 10, 2014 to Mar 20, 2015</td>\n",
       "      <td>22.0</td>\n",
       "      <td>995473</td>\n",
       "      <td>28</td>\n",
       "      <td>8.83</td>\n",
       "    </tr>\n",
       "    <tr>\n",
       "      <th>2</th>\n",
       "      <td>34599</td>\n",
       "      <td>Made in Abyss</td>\n",
       "      <td>The Abyss—a gaping chasm stretching down into ...</td>\n",
       "      <td>Sci-Fi,Adventure,Mystery,Drama,Fantasy</td>\n",
       "      <td>Jul 7, 2017 to Sep 29, 2017</td>\n",
       "      <td>13.0</td>\n",
       "      <td>581663</td>\n",
       "      <td>98</td>\n",
       "      <td>8.83</td>\n",
       "    </tr>\n",
       "    <tr>\n",
       "      <th>3</th>\n",
       "      <td>5114</td>\n",
       "      <td>Fullmetal Alchemist: Brotherhood</td>\n",
       "      <td>\"In order for something to be obtained, someth...</td>\n",
       "      <td>Action,Military,Adventure,Comedy,Drama,Magic,F...</td>\n",
       "      <td>Apr 5, 2009 to Jul 4, 2010</td>\n",
       "      <td>64.0</td>\n",
       "      <td>1615084</td>\n",
       "      <td>4</td>\n",
       "      <td>9.23</td>\n",
       "    </tr>\n",
       "    <tr>\n",
       "      <th>4</th>\n",
       "      <td>31758</td>\n",
       "      <td>Kizumonogatari III: Reiketsu-hen</td>\n",
       "      <td>After helping revive the legendary vampire Kis...</td>\n",
       "      <td>Action,Mystery,Supernatural,Vampire</td>\n",
       "      <td>Jan 6, 2017</td>\n",
       "      <td>1.0</td>\n",
       "      <td>214621</td>\n",
       "      <td>502</td>\n",
       "      <td>8.83</td>\n",
       "    </tr>\n",
       "  </tbody>\n",
       "</table>\n",
       "</div>"
      ],
      "text/plain": [
       "     uid                             title  \\\n",
       "0  28891           Haikyuu!! Second Season   \n",
       "1  23273           Shigatsu wa Kimi no Uso   \n",
       "2  34599                     Made in Abyss   \n",
       "3   5114  Fullmetal Alchemist: Brotherhood   \n",
       "4  31758  Kizumonogatari III: Reiketsu-hen   \n",
       "\n",
       "                                            synopsis  \\\n",
       "0  Following their participation at the Inter-Hig...   \n",
       "1  Music accompanies the path of the human metron...   \n",
       "2  The Abyss—a gaping chasm stretching down into ...   \n",
       "3  \"In order for something to be obtained, someth...   \n",
       "4  After helping revive the legendary vampire Kis...   \n",
       "\n",
       "                                               genre  \\\n",
       "0                 Comedy,Sports,Drama,School,Shounen   \n",
       "1                 Drama,Music,Romance,School,Shounen   \n",
       "2             Sci-Fi,Adventure,Mystery,Drama,Fantasy   \n",
       "3  Action,Military,Adventure,Comedy,Drama,Magic,F...   \n",
       "4                Action,Mystery,Supernatural,Vampire   \n",
       "\n",
       "                          aired  episodes  members  popularity  score  \n",
       "0   Oct 4, 2015 to Mar 27, 2016      25.0   489888         141   8.82  \n",
       "1  Oct 10, 2014 to Mar 20, 2015      22.0   995473          28   8.83  \n",
       "2   Jul 7, 2017 to Sep 29, 2017      13.0   581663          98   8.83  \n",
       "3    Apr 5, 2009 to Jul 4, 2010      64.0  1615084           4   9.23  \n",
       "4                   Jan 6, 2017       1.0   214621         502   8.83  "
      ]
     },
     "execution_count": 60,
     "metadata": {},
     "output_type": "execute_result"
    }
   ],
   "source": [
    "df.head()"
   ]
  },
  {
   "cell_type": "code",
   "execution_count": 61,
   "metadata": {},
   "outputs": [
    {
     "data": {
      "text/html": [
       "<div>\n",
       "<style scoped>\n",
       "    .dataframe tbody tr th:only-of-type {\n",
       "        vertical-align: middle;\n",
       "    }\n",
       "\n",
       "    .dataframe tbody tr th {\n",
       "        vertical-align: top;\n",
       "    }\n",
       "\n",
       "    .dataframe thead th {\n",
       "        text-align: right;\n",
       "    }\n",
       "</style>\n",
       "<table border=\"1\" class=\"dataframe\">\n",
       "  <thead>\n",
       "    <tr style=\"text-align: right;\">\n",
       "      <th></th>\n",
       "      <th>anime_id</th>\n",
       "      <th>title</th>\n",
       "      <th>synopsis</th>\n",
       "      <th>genre</th>\n",
       "      <th>aired</th>\n",
       "      <th>episodes</th>\n",
       "      <th>members</th>\n",
       "      <th>popularity</th>\n",
       "      <th>score</th>\n",
       "    </tr>\n",
       "  </thead>\n",
       "  <tbody>\n",
       "    <tr>\n",
       "      <th>0</th>\n",
       "      <td>28891</td>\n",
       "      <td>Haikyuu!! Second Season</td>\n",
       "      <td>Following their participation at the Inter-Hig...</td>\n",
       "      <td>Comedy,Sports,Drama,School,Shounen</td>\n",
       "      <td>Oct 4, 2015 to Mar 27, 2016</td>\n",
       "      <td>25.0</td>\n",
       "      <td>489888</td>\n",
       "      <td>141</td>\n",
       "      <td>8.82</td>\n",
       "    </tr>\n",
       "    <tr>\n",
       "      <th>1</th>\n",
       "      <td>23273</td>\n",
       "      <td>Shigatsu wa Kimi no Uso</td>\n",
       "      <td>Music accompanies the path of the human metron...</td>\n",
       "      <td>Drama,Music,Romance,School,Shounen</td>\n",
       "      <td>Oct 10, 2014 to Mar 20, 2015</td>\n",
       "      <td>22.0</td>\n",
       "      <td>995473</td>\n",
       "      <td>28</td>\n",
       "      <td>8.83</td>\n",
       "    </tr>\n",
       "    <tr>\n",
       "      <th>2</th>\n",
       "      <td>34599</td>\n",
       "      <td>Made in Abyss</td>\n",
       "      <td>The Abyss—a gaping chasm stretching down into ...</td>\n",
       "      <td>Sci-Fi,Adventure,Mystery,Drama,Fantasy</td>\n",
       "      <td>Jul 7, 2017 to Sep 29, 2017</td>\n",
       "      <td>13.0</td>\n",
       "      <td>581663</td>\n",
       "      <td>98</td>\n",
       "      <td>8.83</td>\n",
       "    </tr>\n",
       "    <tr>\n",
       "      <th>3</th>\n",
       "      <td>5114</td>\n",
       "      <td>Fullmetal Alchemist: Brotherhood</td>\n",
       "      <td>\"In order for something to be obtained, someth...</td>\n",
       "      <td>Action,Military,Adventure,Comedy,Drama,Magic,F...</td>\n",
       "      <td>Apr 5, 2009 to Jul 4, 2010</td>\n",
       "      <td>64.0</td>\n",
       "      <td>1615084</td>\n",
       "      <td>4</td>\n",
       "      <td>9.23</td>\n",
       "    </tr>\n",
       "    <tr>\n",
       "      <th>4</th>\n",
       "      <td>31758</td>\n",
       "      <td>Kizumonogatari III: Reiketsu-hen</td>\n",
       "      <td>After helping revive the legendary vampire Kis...</td>\n",
       "      <td>Action,Mystery,Supernatural,Vampire</td>\n",
       "      <td>Jan 6, 2017</td>\n",
       "      <td>1.0</td>\n",
       "      <td>214621</td>\n",
       "      <td>502</td>\n",
       "      <td>8.83</td>\n",
       "    </tr>\n",
       "  </tbody>\n",
       "</table>\n",
       "</div>"
      ],
      "text/plain": [
       "   anime_id                             title  \\\n",
       "0     28891           Haikyuu!! Second Season   \n",
       "1     23273           Shigatsu wa Kimi no Uso   \n",
       "2     34599                     Made in Abyss   \n",
       "3      5114  Fullmetal Alchemist: Brotherhood   \n",
       "4     31758  Kizumonogatari III: Reiketsu-hen   \n",
       "\n",
       "                                            synopsis  \\\n",
       "0  Following their participation at the Inter-Hig...   \n",
       "1  Music accompanies the path of the human metron...   \n",
       "2  The Abyss—a gaping chasm stretching down into ...   \n",
       "3  \"In order for something to be obtained, someth...   \n",
       "4  After helping revive the legendary vampire Kis...   \n",
       "\n",
       "                                               genre  \\\n",
       "0                 Comedy,Sports,Drama,School,Shounen   \n",
       "1                 Drama,Music,Romance,School,Shounen   \n",
       "2             Sci-Fi,Adventure,Mystery,Drama,Fantasy   \n",
       "3  Action,Military,Adventure,Comedy,Drama,Magic,F...   \n",
       "4                Action,Mystery,Supernatural,Vampire   \n",
       "\n",
       "                          aired  episodes  members  popularity  score  \n",
       "0   Oct 4, 2015 to Mar 27, 2016      25.0   489888         141   8.82  \n",
       "1  Oct 10, 2014 to Mar 20, 2015      22.0   995473          28   8.83  \n",
       "2   Jul 7, 2017 to Sep 29, 2017      13.0   581663          98   8.83  \n",
       "3    Apr 5, 2009 to Jul 4, 2010      64.0  1615084           4   9.23  \n",
       "4                   Jan 6, 2017       1.0   214621         502   8.83  "
      ]
     },
     "execution_count": 61,
     "metadata": {},
     "output_type": "execute_result"
    }
   ],
   "source": [
    "#RENOMBRO LA COLUMNA DE 'uid' \n",
    "df = df.rename(columns={'uid': 'anime_id'})\n",
    "df.head()"
   ]
  },
  {
   "cell_type": "code",
   "execution_count": 62,
   "metadata": {},
   "outputs": [
    {
     "data": {
      "text/html": [
       "<div>\n",
       "<style scoped>\n",
       "    .dataframe tbody tr th:only-of-type {\n",
       "        vertical-align: middle;\n",
       "    }\n",
       "\n",
       "    .dataframe tbody tr th {\n",
       "        vertical-align: top;\n",
       "    }\n",
       "\n",
       "    .dataframe thead th {\n",
       "        text-align: right;\n",
       "    }\n",
       "</style>\n",
       "<table border=\"1\" class=\"dataframe\">\n",
       "  <thead>\n",
       "    <tr style=\"text-align: right;\">\n",
       "      <th></th>\n",
       "      <th>anime_id</th>\n",
       "      <th>title</th>\n",
       "      <th>genre</th>\n",
       "      <th>aired</th>\n",
       "      <th>episodes</th>\n",
       "      <th>members</th>\n",
       "      <th>score</th>\n",
       "    </tr>\n",
       "  </thead>\n",
       "  <tbody>\n",
       "    <tr>\n",
       "      <th>0</th>\n",
       "      <td>28891</td>\n",
       "      <td>Haikyuu!! Second Season</td>\n",
       "      <td>Comedy,Sports,Drama,School,Shounen</td>\n",
       "      <td>Oct 4, 2015 to Mar 27, 2016</td>\n",
       "      <td>25.0</td>\n",
       "      <td>489888</td>\n",
       "      <td>8.82</td>\n",
       "    </tr>\n",
       "    <tr>\n",
       "      <th>1</th>\n",
       "      <td>23273</td>\n",
       "      <td>Shigatsu wa Kimi no Uso</td>\n",
       "      <td>Drama,Music,Romance,School,Shounen</td>\n",
       "      <td>Oct 10, 2014 to Mar 20, 2015</td>\n",
       "      <td>22.0</td>\n",
       "      <td>995473</td>\n",
       "      <td>8.83</td>\n",
       "    </tr>\n",
       "    <tr>\n",
       "      <th>2</th>\n",
       "      <td>34599</td>\n",
       "      <td>Made in Abyss</td>\n",
       "      <td>Sci-Fi,Adventure,Mystery,Drama,Fantasy</td>\n",
       "      <td>Jul 7, 2017 to Sep 29, 2017</td>\n",
       "      <td>13.0</td>\n",
       "      <td>581663</td>\n",
       "      <td>8.83</td>\n",
       "    </tr>\n",
       "    <tr>\n",
       "      <th>3</th>\n",
       "      <td>5114</td>\n",
       "      <td>Fullmetal Alchemist: Brotherhood</td>\n",
       "      <td>Action,Military,Adventure,Comedy,Drama,Magic,F...</td>\n",
       "      <td>Apr 5, 2009 to Jul 4, 2010</td>\n",
       "      <td>64.0</td>\n",
       "      <td>1615084</td>\n",
       "      <td>9.23</td>\n",
       "    </tr>\n",
       "    <tr>\n",
       "      <th>4</th>\n",
       "      <td>31758</td>\n",
       "      <td>Kizumonogatari III: Reiketsu-hen</td>\n",
       "      <td>Action,Mystery,Supernatural,Vampire</td>\n",
       "      <td>Jan 6, 2017</td>\n",
       "      <td>1.0</td>\n",
       "      <td>214621</td>\n",
       "      <td>8.83</td>\n",
       "    </tr>\n",
       "  </tbody>\n",
       "</table>\n",
       "</div>"
      ],
      "text/plain": [
       "   anime_id                             title  \\\n",
       "0     28891           Haikyuu!! Second Season   \n",
       "1     23273           Shigatsu wa Kimi no Uso   \n",
       "2     34599                     Made in Abyss   \n",
       "3      5114  Fullmetal Alchemist: Brotherhood   \n",
       "4     31758  Kizumonogatari III: Reiketsu-hen   \n",
       "\n",
       "                                               genre  \\\n",
       "0                 Comedy,Sports,Drama,School,Shounen   \n",
       "1                 Drama,Music,Romance,School,Shounen   \n",
       "2             Sci-Fi,Adventure,Mystery,Drama,Fantasy   \n",
       "3  Action,Military,Adventure,Comedy,Drama,Magic,F...   \n",
       "4                Action,Mystery,Supernatural,Vampire   \n",
       "\n",
       "                          aired  episodes  members  score  \n",
       "0   Oct 4, 2015 to Mar 27, 2016      25.0   489888   8.82  \n",
       "1  Oct 10, 2014 to Mar 20, 2015      22.0   995473   8.83  \n",
       "2   Jul 7, 2017 to Sep 29, 2017      13.0   581663   8.83  \n",
       "3    Apr 5, 2009 to Jul 4, 2010      64.0  1615084   9.23  \n",
       "4                   Jan 6, 2017       1.0   214621   8.83  "
      ]
     },
     "execution_count": 62,
     "metadata": {},
     "output_type": "execute_result"
    }
   ],
   "source": [
    "#DECIDO BORRAR 'popularity','synopsis' PORQUE NO ME SIRVEN PARA EL ANALISIS\n",
    "#ME QUEDO CON 'aired' PARA VER SI CAMBIAN LAS RECOMENDACIONES\n",
    "df_new=df.drop(['popularity','synopsis' ],axis=1)\n",
    "df_new.head()"
   ]
  },
  {
   "cell_type": "code",
   "execution_count": 63,
   "metadata": {},
   "outputs": [
    {
     "data": {
      "text/plain": [
       "anime_id      int64\n",
       "title        object\n",
       "genre        object\n",
       "aired        object\n",
       "episodes    float64\n",
       "members       int64\n",
       "score       float64\n",
       "dtype: object"
      ]
     },
     "execution_count": 63,
     "metadata": {},
     "output_type": "execute_result"
    }
   ],
   "source": [
    "df_new.dtypes"
   ]
  },
  {
   "cell_type": "code",
   "execution_count": 64,
   "metadata": {},
   "outputs": [
    {
     "data": {
      "text/plain": [
       "(16214, 7)"
      ]
     },
     "execution_count": 64,
     "metadata": {},
     "output_type": "execute_result"
    }
   ],
   "source": [
    "df_new.shape"
   ]
  },
  {
   "attachments": {},
   "cell_type": "markdown",
   "metadata": {},
   "source": [
    "Re-codificando variables\n",
    "\n",
    "No era conveniente tener los géneros apilados como categoría separadas por comas en una única casilla, por lo que se separaron y pasaros a variables dicotómicas al igual que \"type\". Las variables restantes serán escaladas para no tener problemas con los algoritmos futuros, dado que utilizan distancias."
   ]
  },
  {
   "cell_type": "code",
   "execution_count": 65,
   "metadata": {},
   "outputs": [
    {
     "data": {
      "text/html": [
       "<div>\n",
       "<style scoped>\n",
       "    .dataframe tbody tr th:only-of-type {\n",
       "        vertical-align: middle;\n",
       "    }\n",
       "\n",
       "    .dataframe tbody tr th {\n",
       "        vertical-align: top;\n",
       "    }\n",
       "\n",
       "    .dataframe thead th {\n",
       "        text-align: right;\n",
       "    }\n",
       "</style>\n",
       "<table border=\"1\" class=\"dataframe\">\n",
       "  <thead>\n",
       "    <tr style=\"text-align: right;\">\n",
       "      <th></th>\n",
       "      <th>Action</th>\n",
       "      <th>Adventure</th>\n",
       "      <th>Cars</th>\n",
       "      <th>Comedy</th>\n",
       "      <th>Dementia</th>\n",
       "      <th>Demons</th>\n",
       "      <th>Drama</th>\n",
       "      <th>Ecchi</th>\n",
       "      <th>Fantasy</th>\n",
       "      <th>Game</th>\n",
       "      <th>...</th>\n",
       "      <th>Sep 30</th>\n",
       "      <th>Sep 4</th>\n",
       "      <th>Sep 5</th>\n",
       "      <th>Sep 6</th>\n",
       "      <th>Sep 7</th>\n",
       "      <th>Sep 8</th>\n",
       "      <th>Sep 9</th>\n",
       "      <th>score</th>\n",
       "      <th>members</th>\n",
       "      <th>episodes</th>\n",
       "    </tr>\n",
       "  </thead>\n",
       "  <tbody>\n",
       "    <tr>\n",
       "      <th>0</th>\n",
       "      <td>0</td>\n",
       "      <td>0</td>\n",
       "      <td>0</td>\n",
       "      <td>1</td>\n",
       "      <td>0</td>\n",
       "      <td>0</td>\n",
       "      <td>1</td>\n",
       "      <td>0</td>\n",
       "      <td>0</td>\n",
       "      <td>0</td>\n",
       "      <td>...</td>\n",
       "      <td>0</td>\n",
       "      <td>0</td>\n",
       "      <td>0</td>\n",
       "      <td>0</td>\n",
       "      <td>0</td>\n",
       "      <td>0</td>\n",
       "      <td>0</td>\n",
       "      <td>8.82</td>\n",
       "      <td>489888</td>\n",
       "      <td>25.0</td>\n",
       "    </tr>\n",
       "    <tr>\n",
       "      <th>1</th>\n",
       "      <td>0</td>\n",
       "      <td>0</td>\n",
       "      <td>0</td>\n",
       "      <td>0</td>\n",
       "      <td>0</td>\n",
       "      <td>0</td>\n",
       "      <td>1</td>\n",
       "      <td>0</td>\n",
       "      <td>0</td>\n",
       "      <td>0</td>\n",
       "      <td>...</td>\n",
       "      <td>0</td>\n",
       "      <td>0</td>\n",
       "      <td>0</td>\n",
       "      <td>0</td>\n",
       "      <td>0</td>\n",
       "      <td>0</td>\n",
       "      <td>0</td>\n",
       "      <td>8.83</td>\n",
       "      <td>995473</td>\n",
       "      <td>22.0</td>\n",
       "    </tr>\n",
       "    <tr>\n",
       "      <th>2</th>\n",
       "      <td>0</td>\n",
       "      <td>1</td>\n",
       "      <td>0</td>\n",
       "      <td>0</td>\n",
       "      <td>0</td>\n",
       "      <td>0</td>\n",
       "      <td>1</td>\n",
       "      <td>0</td>\n",
       "      <td>1</td>\n",
       "      <td>0</td>\n",
       "      <td>...</td>\n",
       "      <td>0</td>\n",
       "      <td>0</td>\n",
       "      <td>0</td>\n",
       "      <td>0</td>\n",
       "      <td>0</td>\n",
       "      <td>0</td>\n",
       "      <td>0</td>\n",
       "      <td>8.83</td>\n",
       "      <td>581663</td>\n",
       "      <td>13.0</td>\n",
       "    </tr>\n",
       "    <tr>\n",
       "      <th>3</th>\n",
       "      <td>1</td>\n",
       "      <td>1</td>\n",
       "      <td>0</td>\n",
       "      <td>1</td>\n",
       "      <td>0</td>\n",
       "      <td>0</td>\n",
       "      <td>1</td>\n",
       "      <td>0</td>\n",
       "      <td>1</td>\n",
       "      <td>0</td>\n",
       "      <td>...</td>\n",
       "      <td>0</td>\n",
       "      <td>0</td>\n",
       "      <td>0</td>\n",
       "      <td>0</td>\n",
       "      <td>0</td>\n",
       "      <td>0</td>\n",
       "      <td>0</td>\n",
       "      <td>9.23</td>\n",
       "      <td>1615084</td>\n",
       "      <td>64.0</td>\n",
       "    </tr>\n",
       "    <tr>\n",
       "      <th>4</th>\n",
       "      <td>1</td>\n",
       "      <td>0</td>\n",
       "      <td>0</td>\n",
       "      <td>0</td>\n",
       "      <td>0</td>\n",
       "      <td>0</td>\n",
       "      <td>0</td>\n",
       "      <td>0</td>\n",
       "      <td>0</td>\n",
       "      <td>0</td>\n",
       "      <td>...</td>\n",
       "      <td>0</td>\n",
       "      <td>0</td>\n",
       "      <td>0</td>\n",
       "      <td>0</td>\n",
       "      <td>0</td>\n",
       "      <td>0</td>\n",
       "      <td>0</td>\n",
       "      <td>8.83</td>\n",
       "      <td>214621</td>\n",
       "      <td>1.0</td>\n",
       "    </tr>\n",
       "  </tbody>\n",
       "</table>\n",
       "<p>5 rows × 4874 columns</p>\n",
       "</div>"
      ],
      "text/plain": [
       "   Action  Adventure  Cars  Comedy  Dementia  Demons  Drama  Ecchi  Fantasy  \\\n",
       "0       0          0     0       1         0       0      1      0        0   \n",
       "1       0          0     0       0         0       0      1      0        0   \n",
       "2       0          1     0       0         0       0      1      0        1   \n",
       "3       1          1     0       1         0       0      1      0        1   \n",
       "4       1          0     0       0         0       0      0      0        0   \n",
       "\n",
       "   Game  ...  Sep 30  Sep 4  Sep 5  Sep 6  Sep 7  Sep 8  Sep 9  score  \\\n",
       "0     0  ...       0      0      0      0      0      0      0   8.82   \n",
       "1     0  ...       0      0      0      0      0      0      0   8.83   \n",
       "2     0  ...       0      0      0      0      0      0      0   8.83   \n",
       "3     0  ...       0      0      0      0      0      0      0   9.23   \n",
       "4     0  ...       0      0      0      0      0      0      0   8.83   \n",
       "\n",
       "   members  episodes  \n",
       "0   489888      25.0  \n",
       "1   995473      22.0  \n",
       "2   581663      13.0  \n",
       "3  1615084      64.0  \n",
       "4   214621       1.0  \n",
       "\n",
       "[5 rows x 4874 columns]"
      ]
     },
     "execution_count": 65,
     "metadata": {},
     "output_type": "execute_result"
    }
   ],
   "source": [
    "anime_data = pd.concat([df_new[\"genre\"].str.get_dummies(sep=\",\"),\n",
    "                        df_new[\"aired\"].str.get_dummies(sep=\",\"),\n",
    "                           df_new[[\"score\"]],df_new[[\"members\"]],\n",
    "                           df_new[\"episodes\"]],axis=1)\n",
    "\n",
    "anime_data.head()"
   ]
  },
  {
   "cell_type": "code",
   "execution_count": 66,
   "metadata": {},
   "outputs": [
    {
     "data": {
      "text/plain": [
       "array([[0.00000000e+00, 0.00000000e+00, 0.00000000e+00, ...,\n",
       "        9.55579632e-01, 2.61826158e-01, 8.17795224e-03],\n",
       "       [0.00000000e+00, 0.00000000e+00, 0.00000000e+00, ...,\n",
       "        9.56663055e-01, 5.32041754e-01, 7.19659797e-03],\n",
       "       [0.00000000e+00, 1.00000000e+00, 0.00000000e+00, ...,\n",
       "        9.56663055e-01, 3.10876340e-01, 4.25253517e-03],\n",
       "       ...,\n",
       "       [0.00000000e+00, 0.00000000e+00, 0.00000000e+00, ...,\n",
       "        8.19068256e-01, 3.60344471e-02, 3.92541708e-03],\n",
       "       [1.00000000e+00, 0.00000000e+00, 0.00000000e+00, ...,\n",
       "        8.19068256e-01, 2.19540652e-02, 3.27118090e-04],\n",
       "       [0.00000000e+00, 0.00000000e+00, 0.00000000e+00, ...,\n",
       "        8.19068256e-01, 6.86248258e-02, 3.27118090e-04]])"
      ]
     },
     "execution_count": 66,
     "metadata": {},
     "output_type": "execute_result"
    }
   ],
   "source": [
    "anime_data = MaxAbsScaler().fit_transform(anime_data)\n",
    "anime_data"
   ]
  },
  {
   "attachments": {},
   "cell_type": "markdown",
   "metadata": {},
   "source": [
    "KNN "
   ]
  },
  {
   "cell_type": "code",
   "execution_count": 67,
   "metadata": {},
   "outputs": [],
   "source": [
    "KNNanime = NearestNeighbors(n_neighbors=10, algorithm='ball_tree').fit(anime_data)\n",
    "distances, indices = KNNanime.kneighbors(anime_data)"
   ]
  },
  {
   "cell_type": "code",
   "execution_count": 73,
   "metadata": {},
   "outputs": [],
   "source": [
    "def nombres_indices(name):  # Toma el nombre del anime y devuelve su indice correspondiente\n",
    "    return df_new[df_new[\"title\"]==name].index.tolist()[0] "
   ]
  },
  {
   "cell_type": "code",
   "execution_count": 113,
   "metadata": {},
   "outputs": [
    {
     "name": "stdout",
     "output_type": "stream",
     "text": [
      "Kimetsu no Yaiba Movie: Mugen Ressha-hen\n",
      "Dororo\n",
      "Enen no Shouboutai\n",
      "Totsukuni no Shoujo\n",
      "Bem\n",
      "Oni\n",
      "Kataku\n",
      "Onmyou Hyakki Monogatari\n",
      "Kamishibai Itazura Tanuki no Maki\n"
     ]
    }
   ],
   "source": [
    "def animes_recomendados(nombre): \n",
    "     found_id = nombres_indices(nombre)\n",
    "     for id in indices[found_id][1:]:\n",
    "          print(df_new.loc[id][\"title\"])\n",
    "      \n",
    "animes_recomendados('Kimetsu no Yaiba')\n",
    "        "
   ]
  },
  {
   "cell_type": "code",
   "execution_count": 117,
   "metadata": {},
   "outputs": [
    {
     "name": "stdout",
     "output_type": "stream",
     "text": [
      "Made in Abyss Movie 2: Hourou Suru Tasogare\n",
      "Made in Abyss Movie 1: Tabidachi no Yoake\n",
      "Made in Abyss Movie 3: Fukaki Tamashii no Reimei\n",
      "Xing You Ji: Fengbao Famila\n",
      "18if\n",
      "Sprin' Pan: Mae e Susumou!\n",
      "Hirune Hime: Shiranai Watashi no Monogatari\n",
      "To the Moon\n",
      "1000-nen Joou: Queen Millennia\n"
     ]
    }
   ],
   "source": [
    "def animes_recomendados(nombre): \n",
    "     found_id = nombres_indices(nombre)\n",
    "     for id in indices[found_id][1:]:\n",
    "          print(df_new.loc[id][\"title\"])\n",
    "      \n",
    "animes_recomendados('Made in Abyss')"
   ]
  }
 ],
 "metadata": {
  "kernelspec": {
   "display_name": "base",
   "language": "python",
   "name": "python3"
  },
  "language_info": {
   "codemirror_mode": {
    "name": "ipython",
    "version": 3
   },
   "file_extension": ".py",
   "mimetype": "text/x-python",
   "name": "python",
   "nbconvert_exporter": "python",
   "pygments_lexer": "ipython3",
   "version": "3.9.13"
  },
  "orig_nbformat": 4,
  "vscode": {
   "interpreter": {
    "hash": "3cdf6237a15d3f7330c74603f838e928a1af28c614134e394da0ef8e53e58074"
   }
  }
 },
 "nbformat": 4,
 "nbformat_minor": 2
}
